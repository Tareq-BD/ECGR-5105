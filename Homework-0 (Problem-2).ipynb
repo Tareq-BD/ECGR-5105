{
 "cells": [
  {
   "cell_type": "code",
   "execution_count": 16,
   "id": "29e6b53f-fe6f-4636-a2bb-23b37b2845c1",
   "metadata": {},
   "outputs": [],
   "source": [
    "import numpy as np\n",
    "import pandas as pd\n",
    "import matplotlib.pyplot as plt"
   ]
  },
  {
   "cell_type": "code",
   "execution_count": 2,
   "id": "bfd5e156-681a-420a-8b5e-f13724f0a089",
   "metadata": {},
   "outputs": [],
   "source": [
    "df = pd.read_csv('https://raw.githubusercontent.com/Tareq-BD/ECGR-5105/main/D3.csv')"
   ]
  },
  {
   "cell_type": "code",
   "execution_count": 17,
   "id": "c9173c93-cfe4-4043-9591-1c785ef9519c",
   "metadata": {},
   "outputs": [
    {
     "name": "stdout",
     "output_type": "stream",
     "text": [
      "X1 =  [0.         0.04040404 0.08080808 0.12121212 0.16161616]\n",
      "X2 =  [3.44       0.1349495  0.82989899 1.52484848 2.21979798]\n",
      "X3 =  [0.44       0.88848485 1.3369697  1.78545454 2.23393939]\n",
      "y =  [4.38754501 2.6796499  2.96848981 3.25406475 3.53637472]\n",
      "m =  100\n"
     ]
    }
   ],
   "source": [
    "X1 = df.values[:, 0]                # get input value from first column as Variable 1\n",
    "X2 = df.values[:, 1]                # get input value from second column as Variable 2\n",
    "X3 = df.values[:, 2]                # get input value from third column as Variable 3\n",
    "y = df.values[:, 3]                 # get output value from fourth column\n",
    "m = len(y)\n",
    "print('X1 = ', X1[: 5]) \n",
    "print('X2 = ', X2[: 5])\n",
    "print('X3 = ', X3[: 5])\n",
    "print('y = ', y[: 5])\n",
    "print('m = ', m)"
   ]
  },
  {
   "cell_type": "code",
   "execution_count": 18,
   "id": "39e2ac09-01f5-4963-9514-85978d485f54",
   "metadata": {},
   "outputs": [
    {
     "data": {
      "text/plain": [
       "array([[1.],\n",
       "       [1.],\n",
       "       [1.],\n",
       "       [1.],\n",
       "       [1.]])"
      ]
     },
     "execution_count": 18,
     "metadata": {},
     "output_type": "execute_result"
    }
   ],
   "source": [
    "X_0 = np.ones((m, 1))             # Creating a matrix of single column of ones as X0\n",
    "X_0[:5]"
   ]
  },
  {
   "cell_type": "code",
   "execution_count": 19,
   "id": "9ae570a7-4650-415c-b951-e0747399406b",
   "metadata": {},
   "outputs": [
    {
     "name": "stdout",
     "output_type": "stream",
     "text": [
      "X_1 =  [[0.        ]\n",
      " [0.04040404]\n",
      " [0.08080808]\n",
      " [0.12121212]\n",
      " [0.16161616]]\n",
      "X_2 =  [[3.44      ]\n",
      " [0.1349495 ]\n",
      " [0.82989899]\n",
      " [1.52484848]\n",
      " [2.21979798]]\n",
      "X_3 =  [[0.44      ]\n",
      " [0.88848485]\n",
      " [1.3369697 ]\n",
      " [1.78545454]\n",
      " [2.23393939]]\n"
     ]
    }
   ],
   "source": [
    "# Converting 1D arrays of X1, X2 and X3 to 2D arrays\n",
    "\n",
    "X_1 = X1.reshape(m, 1)\n",
    "X_2 = X2.reshape(m, 1)\n",
    "X_3 = X3.reshape(m, 1)\n",
    "print('X_1 = ', X_1[: 5])\n",
    "print('X_2 = ', X_2[: 5])\n",
    "print('X_3 = ', X_3[: 5])"
   ]
  },
  {
   "cell_type": "code",
   "execution_count": 20,
   "id": "ab3e7d6c-f138-4716-9d5b-a883546863c9",
   "metadata": {},
   "outputs": [
    {
     "data": {
      "text/plain": [
       "array([[1.        , 0.        , 3.44      , 0.44      ],\n",
       "       [1.        , 0.04040404, 0.1349495 , 0.88848485],\n",
       "       [1.        , 0.08080808, 0.82989899, 1.3369697 ],\n",
       "       [1.        , 0.12121212, 1.52484848, 1.78545454],\n",
       "       [1.        , 0.16161616, 2.21979798, 2.23393939]])"
      ]
     },
     "execution_count": 20,
     "metadata": {},
     "output_type": "execute_result"
    }
   ],
   "source": [
    "# Stacking X_0, X_1, X_2 and X_3 horizotally\n",
    "# This is the final X Matrix\n",
    "\n",
    "X = np.hstack((X_0, X_1, X_2, X_3))\n",
    "X [: 5]"
   ]
  },
  {
   "cell_type": "code",
   "execution_count": 21,
   "id": "17867f23-4602-466b-9168-aa8e7d617e35",
   "metadata": {},
   "outputs": [
    {
     "data": {
      "text/plain": [
       "array([0., 0., 0., 0.])"
      ]
     },
     "execution_count": 21,
     "metadata": {},
     "output_type": "execute_result"
    }
   ],
   "source": [
    "theta = np.zeros(4)\n",
    "theta"
   ]
  },
  {
   "cell_type": "code",
   "execution_count": 22,
   "id": "ae73e425-1f7d-476c-adb2-7b958d503313",
   "metadata": {},
   "outputs": [],
   "source": [
    "# defining function for computing the cost for linear regression\n",
    "\n",
    "def compute_cost(X, y, theta):\n",
    "    predictions = X.dot(theta)\n",
    "    errors = np.subtract(predictions, y)\n",
    "    sqrErrors = np.square(errors)\n",
    "    J = 1 / (2 * m) * np.sum(sqrErrors)\n",
    "    return J"
   ]
  },
  {
   "cell_type": "code",
   "execution_count": 23,
   "id": "df3eb096-3246-4d91-8de8-5ee56b0bd1f6",
   "metadata": {},
   "outputs": [],
   "source": [
    "# defining function for gradient descent algorithm\n",
    "\n",
    "def gradient_descent(X, y, theta, alpha, iterations):\n",
    "    cost_history = np.zeros(iterations)\n",
    "    for i in range(iterations):\n",
    "        predictions = X.dot(theta)\n",
    "        errors = np.subtract(predictions, y)\n",
    "        sum_delta = (alpha / m) * X.transpose().dot(errors);\n",
    "        theta = theta - sum_delta;\n",
    "        cost_history[i] = compute_cost(X, y, theta)\n",
    "    \n",
    "    return theta, cost_history"
   ]
  },
  {
   "cell_type": "code",
   "execution_count": 24,
   "id": "71762e96-7478-464a-9c65-c94ffb9f8d29",
   "metadata": {},
   "outputs": [
    {
     "data": {
      "text/plain": [
       "5.524438459196242"
      ]
     },
     "execution_count": 24,
     "metadata": {},
     "output_type": "execute_result"
    }
   ],
   "source": [
    "cost = compute_cost(X, y, theta)\n",
    "cost"
   ]
  },
  {
   "cell_type": "code",
   "execution_count": 46,
   "id": "9f1fe3bc-eea3-4a17-aa06-61e36242a1d4",
   "metadata": {},
   "outputs": [],
   "source": [
    "# We need theta parameter for every input variable. since we have four input variable including X_0 (column of ones)\n",
    "theta = [0., 0., 0., 0.]\n",
    "iterations = 2000;\n",
    "alpha = 0.1"
   ]
  },
  {
   "cell_type": "code",
   "execution_count": 47,
   "id": "a94eadad-4409-4d4a-b179-874ec12c185a",
   "metadata": {},
   "outputs": [
    {
     "name": "stdout",
     "output_type": "stream",
     "text": [
      "Final value of theta= [ 5.31416716 -2.00371927  0.53256334 -0.26560186]\n",
      "cost_history = [4.13064348 3.51770697 3.12758306 ... 0.73846424 0.73846424 0.73846424]\n"
     ]
    }
   ],
   "source": [
    "# Computing final theta values and cost history\n",
    "\n",
    "theta, cost_history = gradient_descent(X, y, theta, alpha, iterations)\n",
    "print('Final value of theta=', theta)\n",
    "print('cost_history =', cost_history)"
   ]
  },
  {
   "cell_type": "code",
   "execution_count": 48,
   "id": "87876e68-e15d-4f39-bf0d-866d29f84798",
   "metadata": {},
   "outputs": [
    {
     "data": {
      "text/plain": [
       "Text(0.5, 1.0, 'Convergence of gradient descent')"
      ]
     },
     "execution_count": 48,
     "metadata": {},
     "output_type": "execute_result"
    },
    {
     "data": {
      "image/png": "[encoded data removed]",
      "text/plain": [
       "<Figure size 1000x600 with 1 Axes>"
      ]
     },
     "metadata": {},
     "output_type": "display_data"
    }
   ],
   "source": [
    "plt.plot(range(1, iterations + 1),cost_history, color='blue')\n",
    "plt.rcParams[\"figure.figsize\"] = (10,6)\n",
    "plt.grid()\n",
    "plt.xlabel('Number of iterations')\n",
    "plt.ylabel('Cost (J)')\n",
    "plt.title('Convergence of gradient descent')"
   ]
  },
  {
   "cell_type": "code",
   "execution_count": 49,
   "id": "d8c711f8-6908-4d08-be56-157cf9c94fcd",
   "metadata": {},
   "outputs": [
    {
     "data": {
      "text/plain": [
       "array([3.57740937, 0.24432117, 0.10253417])"
      ]
     },
     "execution_count": 49,
     "metadata": {},
     "output_type": "execute_result"
    }
   ],
   "source": [
    "# Predicting outputs for new X1, X2 and X3 values\n",
    "\n",
    "X_new = ([1, 1, 1, 1],\n",
    "        [1, 2, 0, 4],\n",
    "        [1, 3, 2, 1])\n",
    "\n",
    "Predictions_new = np.dot(X_new, theta)\n",
    "Predictions_new"
   ]
  }
 ],
 "metadata": {
  "kernelspec": {
   "display_name": "Python 3 (ipykernel)",
   "language": "python",
   "name": "python3"
  },
  "language_info": {
   "codemirror_mode": {
    "name": "ipython",
    "version": 3
   },
   "file_extension": ".py",
   "mimetype": "text/x-python",
   "name": "python",
   "nbconvert_exporter": "python",
   "pygments_lexer": "ipython3",
   "version": "3.10.4"
  }
 },
 "nbformat": 4,
 "nbformat_minor": 5
}
