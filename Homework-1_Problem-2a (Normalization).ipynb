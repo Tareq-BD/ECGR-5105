{
 "cells": [
  {
   "cell_type": "code",
   "execution_count": 3,
   "id": "99b24d93-9804-4782-8d0d-d66b42660668",
   "metadata": {},
   "outputs": [],
   "source": [
    "import numpy as np\n",
    "import pandas as pd\n",
    "import matplotlib.pyplot as plt     # Data Visualisation\n",
    "import seaborn as sns\n",
    "import sklearn\n",
    "\n",
    "import warnings\n",
    "warnings.filterwarnings('ignore')"
   ]
  },
  {
   "cell_type": "code",
   "execution_count": 4,
   "id": "1de77920-984d-49c6-8f4b-4abdfe19fd22",
   "metadata": {},
   "outputs": [
    {
     "data": {
      "text/html": [
       "<div>\n",
       "<style scoped>\n",
       "    .dataframe tbody tr th:only-of-type {\n",
       "        vertical-align: middle;\n",
       "    }\n",
       "\n",
       "    .dataframe tbody tr th {\n",
       "        vertical-align: top;\n",
       "    }\n",
       "\n",
       "    .dataframe thead th {\n",
       "        text-align: right;\n",
       "    }\n",
       "</style>\n",
       "<table border=\"1\" class=\"dataframe\">\n",
       "  <thead>\n",
       "    <tr style=\"text-align: right;\">\n",
       "      <th></th>\n",
       "      <th>price</th>\n",
       "      <th>area</th>\n",
       "      <th>bedrooms</th>\n",
       "      <th>bathrooms</th>\n",
       "      <th>stories</th>\n",
       "      <th>mainroad</th>\n",
       "      <th>guestroom</th>\n",
       "      <th>basement</th>\n",
       "      <th>hotwaterheating</th>\n",
       "      <th>airconditioning</th>\n",
       "      <th>parking</th>\n",
       "      <th>prefarea</th>\n",
       "      <th>furnishingstatus</th>\n",
       "    </tr>\n",
       "  </thead>\n",
       "  <tbody>\n",
       "    <tr>\n",
       "      <th>0</th>\n",
       "      <td>13300000</td>\n",
       "      <td>7420</td>\n",
       "      <td>4</td>\n",
       "      <td>2</td>\n",
       "      <td>3</td>\n",
       "      <td>yes</td>\n",
       "      <td>no</td>\n",
       "      <td>no</td>\n",
       "      <td>no</td>\n",
       "      <td>yes</td>\n",
       "      <td>2</td>\n",
       "      <td>yes</td>\n",
       "      <td>furnished</td>\n",
       "    </tr>\n",
       "    <tr>\n",
       "      <th>1</th>\n",
       "      <td>12250000</td>\n",
       "      <td>8960</td>\n",
       "      <td>4</td>\n",
       "      <td>4</td>\n",
       "      <td>4</td>\n",
       "      <td>yes</td>\n",
       "      <td>no</td>\n",
       "      <td>no</td>\n",
       "      <td>no</td>\n",
       "      <td>yes</td>\n",
       "      <td>3</td>\n",
       "      <td>no</td>\n",
       "      <td>furnished</td>\n",
       "    </tr>\n",
       "    <tr>\n",
       "      <th>2</th>\n",
       "      <td>12250000</td>\n",
       "      <td>9960</td>\n",
       "      <td>3</td>\n",
       "      <td>2</td>\n",
       "      <td>2</td>\n",
       "      <td>yes</td>\n",
       "      <td>no</td>\n",
       "      <td>yes</td>\n",
       "      <td>no</td>\n",
       "      <td>no</td>\n",
       "      <td>2</td>\n",
       "      <td>yes</td>\n",
       "      <td>semi-furnished</td>\n",
       "    </tr>\n",
       "    <tr>\n",
       "      <th>3</th>\n",
       "      <td>12215000</td>\n",
       "      <td>7500</td>\n",
       "      <td>4</td>\n",
       "      <td>2</td>\n",
       "      <td>2</td>\n",
       "      <td>yes</td>\n",
       "      <td>no</td>\n",
       "      <td>yes</td>\n",
       "      <td>no</td>\n",
       "      <td>yes</td>\n",
       "      <td>3</td>\n",
       "      <td>yes</td>\n",
       "      <td>furnished</td>\n",
       "    </tr>\n",
       "    <tr>\n",
       "      <th>4</th>\n",
       "      <td>11410000</td>\n",
       "      <td>7420</td>\n",
       "      <td>4</td>\n",
       "      <td>1</td>\n",
       "      <td>2</td>\n",
       "      <td>yes</td>\n",
       "      <td>yes</td>\n",
       "      <td>yes</td>\n",
       "      <td>no</td>\n",
       "      <td>yes</td>\n",
       "      <td>2</td>\n",
       "      <td>no</td>\n",
       "      <td>furnished</td>\n",
       "    </tr>\n",
       "  </tbody>\n",
       "</table>\n",
       "</div>"
      ],
      "text/plain": [
       "      price  area  bedrooms  bathrooms  stories mainroad guestroom basement  \\\n",
       "0  13300000  7420         4          2        3      yes        no       no   \n",
       "1  12250000  8960         4          4        4      yes        no       no   \n",
       "2  12250000  9960         3          2        2      yes        no      yes   \n",
       "3  12215000  7500         4          2        2      yes        no      yes   \n",
       "4  11410000  7420         4          1        2      yes       yes      yes   \n",
       "\n",
       "  hotwaterheating airconditioning  parking prefarea furnishingstatus  \n",
       "0              no             yes        2      yes        furnished  \n",
       "1              no             yes        3       no        furnished  \n",
       "2              no              no        2      yes   semi-furnished  \n",
       "3              no             yes        3      yes        furnished  \n",
       "4              no             yes        2       no        furnished  "
      ]
     },
     "execution_count": 4,
     "metadata": {},
     "output_type": "execute_result"
    }
   ],
   "source": [
    "#import data from .csv file of guithub repository\n",
    "housing = pd.DataFrame(pd.read_csv(\"https://raw.githubusercontent.com/Tareq-BD/ECGR-5105/main/Housing.csv\"))\n",
    "housing.head()"
   ]
  },
  {
   "cell_type": "code",
   "execution_count": 5,
   "id": "230b2b5f-2aaa-43be-88b2-f0575238bf37",
   "metadata": {},
   "outputs": [
    {
     "data": {
      "text/plain": [
       "545"
      ]
     },
     "execution_count": 5,
     "metadata": {},
     "output_type": "execute_result"
    }
   ],
   "source": [
    "m = len(housing)\n",
    "m"
   ]
  },
  {
   "cell_type": "code",
   "execution_count": 6,
   "id": "570a681b-d457-4f46-846a-30b777e4b075",
   "metadata": {},
   "outputs": [
    {
     "data": {
      "text/plain": [
       "(545, 13)"
      ]
     },
     "execution_count": 6,
     "metadata": {},
     "output_type": "execute_result"
    }
   ],
   "source": [
    "housing.shape"
   ]
  },
  {
   "cell_type": "code",
   "execution_count": 7,
   "id": "7cbf386e-fe67-4568-870c-2575f4ddb822",
   "metadata": {},
   "outputs": [
    {
     "data": {
      "text/html": [
       "<div>\n",
       "<style scoped>\n",
       "    .dataframe tbody tr th:only-of-type {\n",
       "        vertical-align: middle;\n",
       "    }\n",
       "\n",
       "    .dataframe tbody tr th {\n",
       "        vertical-align: top;\n",
       "    }\n",
       "\n",
       "    .dataframe thead th {\n",
       "        text-align: right;\n",
       "    }\n",
       "</style>\n",
       "<table border=\"1\" class=\"dataframe\">\n",
       "  <thead>\n",
       "    <tr style=\"text-align: right;\">\n",
       "      <th></th>\n",
       "      <th>price</th>\n",
       "      <th>area</th>\n",
       "      <th>bedrooms</th>\n",
       "      <th>bathrooms</th>\n",
       "      <th>stories</th>\n",
       "      <th>mainroad</th>\n",
       "      <th>guestroom</th>\n",
       "      <th>basement</th>\n",
       "      <th>hotwaterheating</th>\n",
       "      <th>airconditioning</th>\n",
       "      <th>parking</th>\n",
       "      <th>prefarea</th>\n",
       "      <th>furnishingstatus</th>\n",
       "    </tr>\n",
       "  </thead>\n",
       "  <tbody>\n",
       "    <tr>\n",
       "      <th>0</th>\n",
       "      <td>13300000</td>\n",
       "      <td>7420</td>\n",
       "      <td>4</td>\n",
       "      <td>2</td>\n",
       "      <td>3</td>\n",
       "      <td>1</td>\n",
       "      <td>0</td>\n",
       "      <td>0</td>\n",
       "      <td>0</td>\n",
       "      <td>1</td>\n",
       "      <td>2</td>\n",
       "      <td>1</td>\n",
       "      <td>furnished</td>\n",
       "    </tr>\n",
       "    <tr>\n",
       "      <th>1</th>\n",
       "      <td>12250000</td>\n",
       "      <td>8960</td>\n",
       "      <td>4</td>\n",
       "      <td>4</td>\n",
       "      <td>4</td>\n",
       "      <td>1</td>\n",
       "      <td>0</td>\n",
       "      <td>0</td>\n",
       "      <td>0</td>\n",
       "      <td>1</td>\n",
       "      <td>3</td>\n",
       "      <td>0</td>\n",
       "      <td>furnished</td>\n",
       "    </tr>\n",
       "    <tr>\n",
       "      <th>2</th>\n",
       "      <td>12250000</td>\n",
       "      <td>9960</td>\n",
       "      <td>3</td>\n",
       "      <td>2</td>\n",
       "      <td>2</td>\n",
       "      <td>1</td>\n",
       "      <td>0</td>\n",
       "      <td>1</td>\n",
       "      <td>0</td>\n",
       "      <td>0</td>\n",
       "      <td>2</td>\n",
       "      <td>1</td>\n",
       "      <td>semi-furnished</td>\n",
       "    </tr>\n",
       "    <tr>\n",
       "      <th>3</th>\n",
       "      <td>12215000</td>\n",
       "      <td>7500</td>\n",
       "      <td>4</td>\n",
       "      <td>2</td>\n",
       "      <td>2</td>\n",
       "      <td>1</td>\n",
       "      <td>0</td>\n",
       "      <td>1</td>\n",
       "      <td>0</td>\n",
       "      <td>1</td>\n",
       "      <td>3</td>\n",
       "      <td>1</td>\n",
       "      <td>furnished</td>\n",
       "    </tr>\n",
       "    <tr>\n",
       "      <th>4</th>\n",
       "      <td>11410000</td>\n",
       "      <td>7420</td>\n",
       "      <td>4</td>\n",
       "      <td>1</td>\n",
       "      <td>2</td>\n",
       "      <td>1</td>\n",
       "      <td>1</td>\n",
       "      <td>1</td>\n",
       "      <td>0</td>\n",
       "      <td>1</td>\n",
       "      <td>2</td>\n",
       "      <td>0</td>\n",
       "      <td>furnished</td>\n",
       "    </tr>\n",
       "  </tbody>\n",
       "</table>\n",
       "</div>"
      ],
      "text/plain": [
       "      price  area  bedrooms  bathrooms  stories  mainroad  guestroom  \\\n",
       "0  13300000  7420         4          2        3         1          0   \n",
       "1  12250000  8960         4          4        4         1          0   \n",
       "2  12250000  9960         3          2        2         1          0   \n",
       "3  12215000  7500         4          2        2         1          0   \n",
       "4  11410000  7420         4          1        2         1          1   \n",
       "\n",
       "   basement  hotwaterheating  airconditioning  parking  prefarea  \\\n",
       "0         0                0                1        2         1   \n",
       "1         0                0                1        3         0   \n",
       "2         1                0                0        2         1   \n",
       "3         1                0                1        3         1   \n",
       "4         1                0                1        2         0   \n",
       "\n",
       "  furnishingstatus  \n",
       "0        furnished  \n",
       "1        furnished  \n",
       "2   semi-furnished  \n",
       "3        furnished  \n",
       "4        furnished  "
      ]
     },
     "execution_count": 7,
     "metadata": {},
     "output_type": "execute_result"
    }
   ],
   "source": [
    "# List of variables to map (string to numerical values)\n",
    "varlist = ['mainroad', 'guestroom', 'basement', 'hotwaterheating', 'airconditioning', 'prefarea']\n",
    "\n",
    "# Defining the map function\n",
    "def binary_map(x):\n",
    "    return x.map({'yes': 1, \"no\": 0})\n",
    "\n",
    "# Applying the function to the housing list\n",
    "housing[varlist] = housing[varlist].apply(binary_map)\n",
    "           \n",
    "# Check the housing dataframe now\n",
    "housing.head()"
   ]
  },
  {
   "cell_type": "code",
   "execution_count": 8,
   "id": "1abf074b-8948-4fcd-a31e-8d1259748f7e",
   "metadata": {},
   "outputs": [
    {
     "data": {
      "text/plain": [
       "(436, 13)"
      ]
     },
     "execution_count": 8,
     "metadata": {},
     "output_type": "execute_result"
    }
   ],
   "source": [
    "#Splitting the Data into Training and Testing Sets\n",
    "from sklearn.model_selection import train_test_split\n",
    "\n",
    "# We specify random seed so that the train and test data set always have the same rows, respectively\n",
    "np.random.seed(0)\n",
    "# split 80% as training set and 20% as testing set\n",
    "df_train, df_test = train_test_split(housing, train_size = 0.8, test_size = 0.2, random_state = 100)\n",
    "\n",
    "df_train.shape"
   ]
  },
  {
   "cell_type": "code",
   "execution_count": 9,
   "id": "90a7bfe2-37fb-4b03-bdaa-f5c2218a82b5",
   "metadata": {},
   "outputs": [
    {
     "data": {
      "text/plain": [
       "(109, 13)"
      ]
     },
     "execution_count": 9,
     "metadata": {},
     "output_type": "execute_result"
    }
   ],
   "source": [
    "df_test.shape"
   ]
  },
  {
   "cell_type": "code",
   "execution_count": 10,
   "id": "a1777175-a2a0-495d-b048-b64c68fc54fb",
   "metadata": {},
   "outputs": [
    {
     "data": {
      "text/html": [
       "<div>\n",
       "<style scoped>\n",
       "    .dataframe tbody tr th:only-of-type {\n",
       "        vertical-align: middle;\n",
       "    }\n",
       "\n",
       "    .dataframe tbody tr th {\n",
       "        vertical-align: top;\n",
       "    }\n",
       "\n",
       "    .dataframe thead th {\n",
       "        text-align: right;\n",
       "    }\n",
       "</style>\n",
       "<table border=\"1\" class=\"dataframe\">\n",
       "  <thead>\n",
       "    <tr style=\"text-align: right;\">\n",
       "      <th></th>\n",
       "      <th>area</th>\n",
       "      <th>bedrooms</th>\n",
       "      <th>bathrooms</th>\n",
       "      <th>stories</th>\n",
       "      <th>parking</th>\n",
       "      <th>price</th>\n",
       "    </tr>\n",
       "  </thead>\n",
       "  <tbody>\n",
       "    <tr>\n",
       "      <th>22</th>\n",
       "      <td>8050</td>\n",
       "      <td>3</td>\n",
       "      <td>1</td>\n",
       "      <td>1</td>\n",
       "      <td>1</td>\n",
       "      <td>8645000</td>\n",
       "    </tr>\n",
       "    <tr>\n",
       "      <th>41</th>\n",
       "      <td>6360</td>\n",
       "      <td>3</td>\n",
       "      <td>2</td>\n",
       "      <td>4</td>\n",
       "      <td>0</td>\n",
       "      <td>7840000</td>\n",
       "    </tr>\n",
       "    <tr>\n",
       "      <th>91</th>\n",
       "      <td>6750</td>\n",
       "      <td>2</td>\n",
       "      <td>1</td>\n",
       "      <td>1</td>\n",
       "      <td>2</td>\n",
       "      <td>6419000</td>\n",
       "    </tr>\n",
       "    <tr>\n",
       "      <th>118</th>\n",
       "      <td>6420</td>\n",
       "      <td>3</td>\n",
       "      <td>1</td>\n",
       "      <td>1</td>\n",
       "      <td>0</td>\n",
       "      <td>5950000</td>\n",
       "    </tr>\n",
       "    <tr>\n",
       "      <th>472</th>\n",
       "      <td>3630</td>\n",
       "      <td>4</td>\n",
       "      <td>1</td>\n",
       "      <td>2</td>\n",
       "      <td>3</td>\n",
       "      <td>3010000</td>\n",
       "    </tr>\n",
       "  </tbody>\n",
       "</table>\n",
       "</div>"
      ],
      "text/plain": [
       "     area  bedrooms  bathrooms  stories  parking    price\n",
       "22   8050         3          1        1        1  8645000\n",
       "41   6360         3          2        4        0  7840000\n",
       "91   6750         2          1        1        2  6419000\n",
       "118  6420         3          1        1        0  5950000\n",
       "472  3630         4          1        2        3  3010000"
      ]
     },
     "execution_count": 10,
     "metadata": {},
     "output_type": "execute_result"
    }
   ],
   "source": [
    "num_vars = ['area', 'bedrooms', 'bathrooms', 'stories', 'parking','price']\n",
    "df_Newtrain = df_train[num_vars]\n",
    "df_Newtest = df_test[num_vars]\n",
    "df_Newtrain.head()"
   ]
  },
  {
   "cell_type": "code",
   "execution_count": 11,
   "id": "42569f40-a14e-4e0f-aa52-121c5a05cbc1",
   "metadata": {},
   "outputs": [
    {
     "data": {
      "text/plain": [
       "(436, 6)"
      ]
     },
     "execution_count": 11,
     "metadata": {},
     "output_type": "execute_result"
    }
   ],
   "source": [
    "df_Newtrain.shape"
   ]
  },
  {
   "cell_type": "code",
   "execution_count": 12,
   "id": "46122167-d086-4cce-98da-360a36abfc85",
   "metadata": {},
   "outputs": [
    {
     "data": {
      "text/html": [
       "<div>\n",
       "<style scoped>\n",
       "    .dataframe tbody tr th:only-of-type {\n",
       "        vertical-align: middle;\n",
       "    }\n",
       "\n",
       "    .dataframe tbody tr th {\n",
       "        vertical-align: top;\n",
       "    }\n",
       "\n",
       "    .dataframe thead th {\n",
       "        text-align: right;\n",
       "    }\n",
       "</style>\n",
       "<table border=\"1\" class=\"dataframe\">\n",
       "  <thead>\n",
       "    <tr style=\"text-align: right;\">\n",
       "      <th></th>\n",
       "      <th>area</th>\n",
       "      <th>bedrooms</th>\n",
       "      <th>bathrooms</th>\n",
       "      <th>stories</th>\n",
       "      <th>parking</th>\n",
       "      <th>price</th>\n",
       "    </tr>\n",
       "  </thead>\n",
       "  <tbody>\n",
       "    <tr>\n",
       "      <th>22</th>\n",
       "      <td>0.432609</td>\n",
       "      <td>0.4</td>\n",
       "      <td>0.000000</td>\n",
       "      <td>0.000000</td>\n",
       "      <td>0.333333</td>\n",
       "      <td>0.596970</td>\n",
       "    </tr>\n",
       "    <tr>\n",
       "      <th>41</th>\n",
       "      <td>0.314954</td>\n",
       "      <td>0.4</td>\n",
       "      <td>0.333333</td>\n",
       "      <td>1.000000</td>\n",
       "      <td>0.000000</td>\n",
       "      <td>0.527273</td>\n",
       "    </tr>\n",
       "    <tr>\n",
       "      <th>91</th>\n",
       "      <td>0.342105</td>\n",
       "      <td>0.2</td>\n",
       "      <td>0.000000</td>\n",
       "      <td>0.000000</td>\n",
       "      <td>0.666667</td>\n",
       "      <td>0.404242</td>\n",
       "    </tr>\n",
       "    <tr>\n",
       "      <th>118</th>\n",
       "      <td>0.319131</td>\n",
       "      <td>0.4</td>\n",
       "      <td>0.000000</td>\n",
       "      <td>0.000000</td>\n",
       "      <td>0.000000</td>\n",
       "      <td>0.363636</td>\n",
       "    </tr>\n",
       "    <tr>\n",
       "      <th>472</th>\n",
       "      <td>0.124896</td>\n",
       "      <td>0.6</td>\n",
       "      <td>0.000000</td>\n",
       "      <td>0.333333</td>\n",
       "      <td>1.000000</td>\n",
       "      <td>0.109091</td>\n",
       "    </tr>\n",
       "    <tr>\n",
       "      <th>344</th>\n",
       "      <td>0.140212</td>\n",
       "      <td>0.2</td>\n",
       "      <td>0.000000</td>\n",
       "      <td>0.000000</td>\n",
       "      <td>0.000000</td>\n",
       "      <td>0.181818</td>\n",
       "    </tr>\n",
       "    <tr>\n",
       "      <th>1</th>\n",
       "      <td>0.495962</td>\n",
       "      <td>0.6</td>\n",
       "      <td>1.000000</td>\n",
       "      <td>1.000000</td>\n",
       "      <td>1.000000</td>\n",
       "      <td>0.909091</td>\n",
       "    </tr>\n",
       "    <tr>\n",
       "      <th>257</th>\n",
       "      <td>0.446533</td>\n",
       "      <td>0.4</td>\n",
       "      <td>0.000000</td>\n",
       "      <td>0.000000</td>\n",
       "      <td>0.000000</td>\n",
       "      <td>0.236364</td>\n",
       "    </tr>\n",
       "    <tr>\n",
       "      <th>184</th>\n",
       "      <td>0.081036</td>\n",
       "      <td>0.4</td>\n",
       "      <td>0.333333</td>\n",
       "      <td>0.333333</td>\n",
       "      <td>0.000000</td>\n",
       "      <td>0.290909</td>\n",
       "    </tr>\n",
       "    <tr>\n",
       "      <th>275</th>\n",
       "      <td>0.152882</td>\n",
       "      <td>0.2</td>\n",
       "      <td>0.000000</td>\n",
       "      <td>0.000000</td>\n",
       "      <td>0.000000</td>\n",
       "      <td>0.222424</td>\n",
       "    </tr>\n",
       "  </tbody>\n",
       "</table>\n",
       "</div>"
      ],
      "text/plain": [
       "         area  bedrooms  bathrooms   stories   parking     price\n",
       "22   0.432609       0.4   0.000000  0.000000  0.333333  0.596970\n",
       "41   0.314954       0.4   0.333333  1.000000  0.000000  0.527273\n",
       "91   0.342105       0.2   0.000000  0.000000  0.666667  0.404242\n",
       "118  0.319131       0.4   0.000000  0.000000  0.000000  0.363636\n",
       "472  0.124896       0.6   0.000000  0.333333  1.000000  0.109091\n",
       "344  0.140212       0.2   0.000000  0.000000  0.000000  0.181818\n",
       "1    0.495962       0.6   1.000000  1.000000  1.000000  0.909091\n",
       "257  0.446533       0.4   0.000000  0.000000  0.000000  0.236364\n",
       "184  0.081036       0.4   0.333333  0.333333  0.000000  0.290909\n",
       "275  0.152882       0.2   0.000000  0.000000  0.000000  0.222424"
      ]
     },
     "execution_count": 12,
     "metadata": {},
     "output_type": "execute_result"
    }
   ],
   "source": [
    "from sklearn.preprocessing import MinMaxScaler, StandardScaler\n",
    "\n",
    "#scaler = StandardScaler()\n",
    "scaler = MinMaxScaler()   # input Normalization\n",
    "df_Newtrain[num_vars] = scaler.fit_transform(df_Newtrain[num_vars])\n",
    "df_Newtrain.head(10)"
   ]
  },
  {
   "cell_type": "code",
   "execution_count": 15,
   "id": "f2ce218f-b1d0-45f3-8752-2b28cea73b6b",
   "metadata": {},
   "outputs": [
    {
     "data": {
      "text/html": [
       "<div>\n",
       "<style scoped>\n",
       "    .dataframe tbody tr th:only-of-type {\n",
       "        vertical-align: middle;\n",
       "    }\n",
       "\n",
       "    .dataframe tbody tr th {\n",
       "        vertical-align: top;\n",
       "    }\n",
       "\n",
       "    .dataframe thead th {\n",
       "        text-align: right;\n",
       "    }\n",
       "</style>\n",
       "<table border=\"1\" class=\"dataframe\">\n",
       "  <thead>\n",
       "    <tr style=\"text-align: right;\">\n",
       "      <th></th>\n",
       "      <th>area</th>\n",
       "      <th>bedrooms</th>\n",
       "      <th>bathrooms</th>\n",
       "      <th>stories</th>\n",
       "      <th>parking</th>\n",
       "      <th>price</th>\n",
       "    </tr>\n",
       "  </thead>\n",
       "  <tbody>\n",
       "    <tr>\n",
       "      <th>265</th>\n",
       "      <td>0.088172</td>\n",
       "      <td>0.333333</td>\n",
       "      <td>0.0</td>\n",
       "      <td>0.333333</td>\n",
       "      <td>0.000000</td>\n",
       "      <td>0.248485</td>\n",
       "    </tr>\n",
       "    <tr>\n",
       "      <th>54</th>\n",
       "      <td>0.311828</td>\n",
       "      <td>0.333333</td>\n",
       "      <td>0.5</td>\n",
       "      <td>0.333333</td>\n",
       "      <td>0.333333</td>\n",
       "      <td>0.531987</td>\n",
       "    </tr>\n",
       "    <tr>\n",
       "      <th>171</th>\n",
       "      <td>0.617849</td>\n",
       "      <td>0.333333</td>\n",
       "      <td>0.0</td>\n",
       "      <td>0.000000</td>\n",
       "      <td>0.333333</td>\n",
       "      <td>0.329966</td>\n",
       "    </tr>\n",
       "    <tr>\n",
       "      <th>244</th>\n",
       "      <td>0.263082</td>\n",
       "      <td>0.333333</td>\n",
       "      <td>0.0</td>\n",
       "      <td>0.333333</td>\n",
       "      <td>0.000000</td>\n",
       "      <td>0.262626</td>\n",
       "    </tr>\n",
       "    <tr>\n",
       "      <th>268</th>\n",
       "      <td>0.236559</td>\n",
       "      <td>0.666667</td>\n",
       "      <td>0.0</td>\n",
       "      <td>0.333333</td>\n",
       "      <td>0.000000</td>\n",
       "      <td>0.246465</td>\n",
       "    </tr>\n",
       "    <tr>\n",
       "      <th>231</th>\n",
       "      <td>0.191398</td>\n",
       "      <td>0.333333</td>\n",
       "      <td>0.0</td>\n",
       "      <td>0.000000</td>\n",
       "      <td>0.000000</td>\n",
       "      <td>0.276094</td>\n",
       "    </tr>\n",
       "    <tr>\n",
       "      <th>25</th>\n",
       "      <td>0.350538</td>\n",
       "      <td>0.666667</td>\n",
       "      <td>0.5</td>\n",
       "      <td>0.333333</td>\n",
       "      <td>0.666667</td>\n",
       "      <td>0.646465</td>\n",
       "    </tr>\n",
       "    <tr>\n",
       "      <th>169</th>\n",
       "      <td>0.350538</td>\n",
       "      <td>0.666667</td>\n",
       "      <td>0.5</td>\n",
       "      <td>0.333333</td>\n",
       "      <td>0.000000</td>\n",
       "      <td>0.329966</td>\n",
       "    </tr>\n",
       "    <tr>\n",
       "      <th>494</th>\n",
       "      <td>0.369176</td>\n",
       "      <td>0.000000</td>\n",
       "      <td>0.0</td>\n",
       "      <td>0.000000</td>\n",
       "      <td>0.000000</td>\n",
       "      <td>0.087542</td>\n",
       "    </tr>\n",
       "    <tr>\n",
       "      <th>120</th>\n",
       "      <td>0.350538</td>\n",
       "      <td>0.333333</td>\n",
       "      <td>0.0</td>\n",
       "      <td>0.000000</td>\n",
       "      <td>0.666667</td>\n",
       "      <td>0.397306</td>\n",
       "    </tr>\n",
       "  </tbody>\n",
       "</table>\n",
       "</div>"
      ],
      "text/plain": [
       "         area  bedrooms  bathrooms   stories   parking     price\n",
       "265  0.088172  0.333333        0.0  0.333333  0.000000  0.248485\n",
       "54   0.311828  0.333333        0.5  0.333333  0.333333  0.531987\n",
       "171  0.617849  0.333333        0.0  0.000000  0.333333  0.329966\n",
       "244  0.263082  0.333333        0.0  0.333333  0.000000  0.262626\n",
       "268  0.236559  0.666667        0.0  0.333333  0.000000  0.246465\n",
       "231  0.191398  0.333333        0.0  0.000000  0.000000  0.276094\n",
       "25   0.350538  0.666667        0.5  0.333333  0.666667  0.646465\n",
       "169  0.350538  0.666667        0.5  0.333333  0.000000  0.329966\n",
       "494  0.369176  0.000000        0.0  0.000000  0.000000  0.087542\n",
       "120  0.350538  0.333333        0.0  0.000000  0.666667  0.397306"
      ]
     },
     "execution_count": 15,
     "metadata": {},
     "output_type": "execute_result"
    }
   ],
   "source": [
    "df_Newtest[num_vars] = scaler.fit_transform(df_Newtest[num_vars])\n",
    "df_Newtest.head(10)"
   ]
  },
  {
   "cell_type": "code",
   "execution_count": 16,
   "id": "cb646182-2a64-4734-8c6a-48fb33224fb1",
   "metadata": {},
   "outputs": [],
   "source": [
    "y_Newtrain = df_Newtrain.pop('price')\n",
    "X_Newtrain = df_Newtrain"
   ]
  },
  {
   "cell_type": "code",
   "execution_count": 17,
   "id": "bf7af074-c955-4a4d-ae7d-c87701cbc8a5",
   "metadata": {},
   "outputs": [
    {
     "data": {
      "text/html": [
       "<div>\n",
       "<style scoped>\n",
       "    .dataframe tbody tr th:only-of-type {\n",
       "        vertical-align: middle;\n",
       "    }\n",
       "\n",
       "    .dataframe tbody tr th {\n",
       "        vertical-align: top;\n",
       "    }\n",
       "\n",
       "    .dataframe thead th {\n",
       "        text-align: right;\n",
       "    }\n",
       "</style>\n",
       "<table border=\"1\" class=\"dataframe\">\n",
       "  <thead>\n",
       "    <tr style=\"text-align: right;\">\n",
       "      <th></th>\n",
       "      <th>area</th>\n",
       "      <th>bedrooms</th>\n",
       "      <th>bathrooms</th>\n",
       "      <th>stories</th>\n",
       "      <th>parking</th>\n",
       "    </tr>\n",
       "  </thead>\n",
       "  <tbody>\n",
       "    <tr>\n",
       "      <th>22</th>\n",
       "      <td>0.432609</td>\n",
       "      <td>0.4</td>\n",
       "      <td>0.000000</td>\n",
       "      <td>0.000000</td>\n",
       "      <td>0.333333</td>\n",
       "    </tr>\n",
       "    <tr>\n",
       "      <th>41</th>\n",
       "      <td>0.314954</td>\n",
       "      <td>0.4</td>\n",
       "      <td>0.333333</td>\n",
       "      <td>1.000000</td>\n",
       "      <td>0.000000</td>\n",
       "    </tr>\n",
       "    <tr>\n",
       "      <th>91</th>\n",
       "      <td>0.342105</td>\n",
       "      <td>0.2</td>\n",
       "      <td>0.000000</td>\n",
       "      <td>0.000000</td>\n",
       "      <td>0.666667</td>\n",
       "    </tr>\n",
       "    <tr>\n",
       "      <th>118</th>\n",
       "      <td>0.319131</td>\n",
       "      <td>0.4</td>\n",
       "      <td>0.000000</td>\n",
       "      <td>0.000000</td>\n",
       "      <td>0.000000</td>\n",
       "    </tr>\n",
       "    <tr>\n",
       "      <th>472</th>\n",
       "      <td>0.124896</td>\n",
       "      <td>0.6</td>\n",
       "      <td>0.000000</td>\n",
       "      <td>0.333333</td>\n",
       "      <td>1.000000</td>\n",
       "    </tr>\n",
       "  </tbody>\n",
       "</table>\n",
       "</div>"
      ],
      "text/plain": [
       "         area  bedrooms  bathrooms   stories   parking\n",
       "22   0.432609       0.4   0.000000  0.000000  0.333333\n",
       "41   0.314954       0.4   0.333333  1.000000  0.000000\n",
       "91   0.342105       0.2   0.000000  0.000000  0.666667\n",
       "118  0.319131       0.4   0.000000  0.000000  0.000000\n",
       "472  0.124896       0.6   0.000000  0.333333  1.000000"
      ]
     },
     "execution_count": 17,
     "metadata": {},
     "output_type": "execute_result"
    }
   ],
   "source": [
    "X_Newtrain.head()"
   ]
  },
  {
   "cell_type": "code",
   "execution_count": 18,
   "id": "90a476ae-376c-40a7-8959-aeb6a7a0221a",
   "metadata": {},
   "outputs": [
    {
     "data": {
      "text/plain": [
       "22     0.596970\n",
       "41     0.527273\n",
       "91     0.404242\n",
       "118    0.363636\n",
       "472    0.109091\n",
       "Name: price, dtype: float64"
      ]
     },
     "execution_count": 18,
     "metadata": {},
     "output_type": "execute_result"
    }
   ],
   "source": [
    "y_Newtrain.head()"
   ]
  },
  {
   "cell_type": "code",
   "execution_count": 19,
   "id": "65d1ffb6-dc11-496a-b11f-5d128f2bcc3a",
   "metadata": {},
   "outputs": [
    {
     "name": "stdout",
     "output_type": "stream",
     "text": [
      "y =  [0.5969697  0.52727273 0.40424242 0.36363636 0.10909091 0.18181818\n",
      " 0.90909091 0.23636364 0.29090909 0.22242424]\n"
     ]
    }
   ],
   "source": [
    "y = y_Newtrain.values\n",
    "print('y = ', y[: 10])"
   ]
  },
  {
   "cell_type": "code",
   "execution_count": 20,
   "id": "9cb8f8ae-83e3-4349-8b43-d6bbce8f6ce0",
   "metadata": {},
   "outputs": [
    {
     "name": "stdout",
     "output_type": "stream",
     "text": [
      "X1 =  [0.4326093  0.31495405 0.34210526 0.31913116 0.12489557 0.14021164\n",
      " 0.49596213 0.446533   0.08103592 0.15288221]\n",
      "X2 =  [0.4 0.4 0.2 0.4 0.6 0.2 0.6 0.4 0.4 0.2]\n",
      "X3 =  [0.         0.33333333 0.         0.         0.         0.\n",
      " 1.         0.         0.33333333 0.        ]\n",
      "X4 =  [0.         1.         0.         0.         0.33333333 0.\n",
      " 1.         0.         0.33333333 0.        ]\n",
      "X5 =  [0.33333333 0.         0.66666667 0.         1.         0.\n",
      " 1.         0.         0.         0.        ]\n"
     ]
    }
   ],
   "source": [
    "# preparing the training set\n",
    "\n",
    "X1 = df_Newtrain.values[:, 0]     # getting input value from first column and putting in Variable-1 (X1)   \n",
    "X2 = df_Newtrain.values[:, 1]     # getting input value from first column and putting in Variable-2 (X2)          \n",
    "X3 = df_Newtrain.values[:, 2]     # getting input value from first column and putting in Variable-3 (X3)           \n",
    "X4 = df_Newtrain.values[:, 3]     # getting input value from first column and putting in Variable-4 (X4)          \n",
    "X5 = df_Newtrain.values[:, 4]     # getting input value from first column and putting in Variable-5 (X5)\n",
    "\n",
    "# print first 10 values from each variable\n",
    "\n",
    "print('X1 = ', X1[: 10]) \n",
    "print('X2 = ', X2[: 10])\n",
    "print('X3 = ', X3[: 10])\n",
    "print('X4 = ', X4[: 10])\n",
    "print('X5 = ', X5[: 10])"
   ]
  },
  {
   "cell_type": "code",
   "execution_count": 21,
   "id": "0b0b9861-e83b-4265-bf6c-77e1bee1b194",
   "metadata": {},
   "outputs": [
    {
     "data": {
      "text/plain": [
       "array([[1.],\n",
       "       [1.],\n",
       "       [1.],\n",
       "       [1.],\n",
       "       [1.]])"
      ]
     },
     "execution_count": 21,
     "metadata": {},
     "output_type": "execute_result"
    }
   ],
   "source": [
    "m = len(X_Newtrain)         # size of training set\n",
    "X_0 = np.ones((m, 1))       # Creating a single column matrix (X_0) of training set size, contains all ones \n",
    "X_0 [: 5]"
   ]
  },
  {
   "cell_type": "code",
   "execution_count": 22,
   "id": "9a9c90fd-407e-45ba-a125-922950175ceb",
   "metadata": {},
   "outputs": [
    {
     "name": "stdout",
     "output_type": "stream",
     "text": [
      "X_1 =  [[0.4326093 ]\n",
      " [0.31495405]\n",
      " [0.34210526]\n",
      " [0.31913116]\n",
      " [0.12489557]]\n",
      "X_2 =  [[0.4]\n",
      " [0.4]\n",
      " [0.2]\n",
      " [0.4]\n",
      " [0.6]]\n",
      "X_3 =  [[0.        ]\n",
      " [0.33333333]\n",
      " [0.        ]\n",
      " [0.        ]\n",
      " [0.        ]]\n",
      "X_4 =  [[0.        ]\n",
      " [1.        ]\n",
      " [0.        ]\n",
      " [0.        ]\n",
      " [0.33333333]]\n",
      "X_5 =  [[0.33333333]\n",
      " [0.        ]\n",
      " [0.66666667]\n",
      " [0.        ]\n",
      " [1.        ]]\n"
     ]
    }
   ],
   "source": [
    "# Converting 1D arrays of X1, X2, X3, X4 and X5 to 2D arrays\n",
    "X_1 = X1.reshape(m, 1)\n",
    "X_2 = X2.reshape(m, 1)\n",
    "X_3 = X3.reshape(m, 1)\n",
    "X_4 = X4.reshape(m, 1)\n",
    "X_5 = X5.reshape(m, 1)\n",
    "\n",
    "# print first 5 values from each 2D array\n",
    "print('X_1 = ', X_1[: 5])\n",
    "print('X_2 = ', X_2[: 5])\n",
    "print('X_3 = ', X_3[: 5])\n",
    "print('X_4 = ', X_4[: 5])\n",
    "print('X_5 = ', X_5[: 5])"
   ]
  },
  {
   "cell_type": "code",
   "execution_count": 23,
   "id": "04d99a4e-5305-462b-b3df-6e91408bee11",
   "metadata": {},
   "outputs": [
    {
     "data": {
      "text/plain": [
       "array([[1.        , 0.4326093 , 0.4       , 0.        , 0.        ,\n",
       "        0.33333333],\n",
       "       [1.        , 0.31495405, 0.4       , 0.33333333, 1.        ,\n",
       "        0.        ],\n",
       "       [1.        , 0.34210526, 0.2       , 0.        , 0.        ,\n",
       "        0.66666667],\n",
       "       [1.        , 0.31913116, 0.4       , 0.        , 0.        ,\n",
       "        0.        ],\n",
       "       [1.        , 0.12489557, 0.6       , 0.        , 0.33333333,\n",
       "        1.        ]])"
      ]
     },
     "execution_count": 23,
     "metadata": {},
     "output_type": "execute_result"
    }
   ],
   "source": [
    "# Stacking X_0, X_1, X_2, X_3, X-4 and X_5 horizotally\n",
    "# This is the final X Matrix for training\n",
    "\n",
    "X = np.hstack((X_0, X_1, X_2, X_3, X_4, X_5))\n",
    "X [: 5]"
   ]
  },
  {
   "cell_type": "code",
   "execution_count": 24,
   "id": "cf4ebf7f-a239-4a8b-85cf-a82f299385ca",
   "metadata": {},
   "outputs": [
    {
     "data": {
      "text/plain": [
       "array([0., 0., 0., 0., 0., 0.])"
      ]
     },
     "execution_count": 24,
     "metadata": {},
     "output_type": "execute_result"
    }
   ],
   "source": [
    "theta = np.zeros(6)\n",
    "theta"
   ]
  },
  {
   "cell_type": "code",
   "execution_count": 25,
   "id": "09ee7a84-da91-4dff-9103-873690e8ddcb",
   "metadata": {},
   "outputs": [],
   "source": [
    "y_Newtest = df_Newtest.pop('price')\n",
    "X_Newtest = df_Newtest"
   ]
  },
  {
   "cell_type": "code",
   "execution_count": 26,
   "id": "ebf8bc12-d510-4f93-abfe-b111713449f8",
   "metadata": {},
   "outputs": [
    {
     "data": {
      "text/html": [
       "<div>\n",
       "<style scoped>\n",
       "    .dataframe tbody tr th:only-of-type {\n",
       "        vertical-align: middle;\n",
       "    }\n",
       "\n",
       "    .dataframe tbody tr th {\n",
       "        vertical-align: top;\n",
       "    }\n",
       "\n",
       "    .dataframe thead th {\n",
       "        text-align: right;\n",
       "    }\n",
       "</style>\n",
       "<table border=\"1\" class=\"dataframe\">\n",
       "  <thead>\n",
       "    <tr style=\"text-align: right;\">\n",
       "      <th></th>\n",
       "      <th>area</th>\n",
       "      <th>bedrooms</th>\n",
       "      <th>bathrooms</th>\n",
       "      <th>stories</th>\n",
       "      <th>parking</th>\n",
       "    </tr>\n",
       "  </thead>\n",
       "  <tbody>\n",
       "    <tr>\n",
       "      <th>265</th>\n",
       "      <td>0.088172</td>\n",
       "      <td>0.333333</td>\n",
       "      <td>0.0</td>\n",
       "      <td>0.333333</td>\n",
       "      <td>0.000000</td>\n",
       "    </tr>\n",
       "    <tr>\n",
       "      <th>54</th>\n",
       "      <td>0.311828</td>\n",
       "      <td>0.333333</td>\n",
       "      <td>0.5</td>\n",
       "      <td>0.333333</td>\n",
       "      <td>0.333333</td>\n",
       "    </tr>\n",
       "    <tr>\n",
       "      <th>171</th>\n",
       "      <td>0.617849</td>\n",
       "      <td>0.333333</td>\n",
       "      <td>0.0</td>\n",
       "      <td>0.000000</td>\n",
       "      <td>0.333333</td>\n",
       "    </tr>\n",
       "    <tr>\n",
       "      <th>244</th>\n",
       "      <td>0.263082</td>\n",
       "      <td>0.333333</td>\n",
       "      <td>0.0</td>\n",
       "      <td>0.333333</td>\n",
       "      <td>0.000000</td>\n",
       "    </tr>\n",
       "    <tr>\n",
       "      <th>268</th>\n",
       "      <td>0.236559</td>\n",
       "      <td>0.666667</td>\n",
       "      <td>0.0</td>\n",
       "      <td>0.333333</td>\n",
       "      <td>0.000000</td>\n",
       "    </tr>\n",
       "  </tbody>\n",
       "</table>\n",
       "</div>"
      ],
      "text/plain": [
       "         area  bedrooms  bathrooms   stories   parking\n",
       "265  0.088172  0.333333        0.0  0.333333  0.000000\n",
       "54   0.311828  0.333333        0.5  0.333333  0.333333\n",
       "171  0.617849  0.333333        0.0  0.000000  0.333333\n",
       "244  0.263082  0.333333        0.0  0.333333  0.000000\n",
       "268  0.236559  0.666667        0.0  0.333333  0.000000"
      ]
     },
     "execution_count": 26,
     "metadata": {},
     "output_type": "execute_result"
    }
   ],
   "source": [
    "X_Newtest.head()"
   ]
  },
  {
   "cell_type": "code",
   "execution_count": 27,
   "id": "128838da-15e7-4c9c-8ce0-d6e3f3cbe67a",
   "metadata": {},
   "outputs": [
    {
     "data": {
      "text/plain": [
       "265    0.248485\n",
       "54     0.531987\n",
       "171    0.329966\n",
       "244    0.262626\n",
       "268    0.246465\n",
       "Name: price, dtype: float64"
      ]
     },
     "execution_count": 27,
     "metadata": {},
     "output_type": "execute_result"
    }
   ],
   "source": [
    "y_Newtest.head()"
   ]
  },
  {
   "cell_type": "code",
   "execution_count": 28,
   "id": "d6fb8819-d830-4c97-b19a-a114e38202e4",
   "metadata": {},
   "outputs": [
    {
     "name": "stdout",
     "output_type": "stream",
     "text": [
      "y_test =  [0.24848485 0.53198653 0.32996633 0.26262626 0.24646465 0.27609428\n",
      " 0.64646465 0.32996633 0.08754209 0.3973064 ]\n"
     ]
    }
   ],
   "source": [
    "y_test = y_Newtest.values\n",
    "print('y_test = ', y_test[: 10])"
   ]
  },
  {
   "cell_type": "code",
   "execution_count": 29,
   "id": "7b5a788d-a572-4b9b-b209-5279e7b33b99",
   "metadata": {},
   "outputs": [
    {
     "name": "stdout",
     "output_type": "stream",
     "text": [
      "X1_test =  [0.08817204 0.31182796 0.61784946 0.26308244 0.23655914 0.19139785\n",
      " 0.35053763 0.35053763 0.36917563 0.35053763]\n",
      "X2_test =  [0.33333333 0.33333333 0.33333333 0.33333333 0.66666667 0.33333333\n",
      " 0.66666667 0.66666667 0.         0.33333333]\n",
      "X3_test =  [0.  0.5 0.  0.  0.  0.  0.5 0.5 0.  0. ]\n",
      "X4_test =  [0.33333333 0.33333333 0.         0.33333333 0.33333333 0.\n",
      " 0.33333333 0.33333333 0.         0.        ]\n",
      "X5_test =  [0.         0.33333333 0.33333333 0.         0.         0.\n",
      " 0.66666667 0.         0.         0.66666667]\n"
     ]
    }
   ],
   "source": [
    "# preparing the testing/validarion set\n",
    "X1_test = df_Newtest.values[:, 0]     # getting input value from first column and putting in Variable-1 (X1_test)            \n",
    "X2_test = df_Newtest.values[:, 1]     # getting input value from first column and putting in Variable-2 (X2_test)            \n",
    "X3_test = df_Newtest.values[:, 2]     # getting input value from first column and putting in Variable-3 (X3_test)           \n",
    "X4_test = df_Newtest.values[:, 3]     # getting input value from first column and putting in Variable-4 (X4_test)           \n",
    "X5_test = df_Newtest.values[:, 4]     # getting input value from first column and putting in Variable-5 (X5_test)\n",
    "\n",
    "# print first 10 values from each variable\n",
    "\n",
    "print('X1_test = ', X1_test[: 10]) \n",
    "print('X2_test = ', X2_test[: 10])\n",
    "print('X3_test = ', X3_test[: 10])\n",
    "print('X4_test = ', X4_test[: 10])\n",
    "print('X5_test = ', X5_test[: 10])"
   ]
  },
  {
   "cell_type": "code",
   "execution_count": 30,
   "id": "b62e1f73-a718-4518-a35e-2cfb894fb3f4",
   "metadata": {},
   "outputs": [
    {
     "data": {
      "text/plain": [
       "array([[1.],\n",
       "       [1.],\n",
       "       [1.],\n",
       "       [1.],\n",
       "       [1.]])"
      ]
     },
     "execution_count": 30,
     "metadata": {},
     "output_type": "execute_result"
    }
   ],
   "source": [
    "m_test = len(X_Newtest)             # size of validation set\n",
    "X_0_test = np.ones((m_test, 1))     # Creating a single column matrix (X_0_test) of validation set size, contains all ones\n",
    "X_0_test [: 5]"
   ]
  },
  {
   "cell_type": "code",
   "execution_count": 31,
   "id": "845feda8-725e-4f60-bb01-06a5feb24484",
   "metadata": {},
   "outputs": [
    {
     "name": "stdout",
     "output_type": "stream",
     "text": [
      "X_1_test =  [[0.08817204]\n",
      " [0.31182796]\n",
      " [0.61784946]\n",
      " [0.26308244]\n",
      " [0.23655914]]\n",
      "X_2_test =  [[0.33333333]\n",
      " [0.33333333]\n",
      " [0.33333333]\n",
      " [0.33333333]\n",
      " [0.66666667]]\n",
      "X_3_test =  [[0. ]\n",
      " [0.5]\n",
      " [0. ]\n",
      " [0. ]\n",
      " [0. ]]\n",
      "X_4_test =  [[0.33333333]\n",
      " [0.33333333]\n",
      " [0.        ]\n",
      " [0.33333333]\n",
      " [0.33333333]]\n",
      "X_5_test =  [[0.        ]\n",
      " [0.33333333]\n",
      " [0.33333333]\n",
      " [0.        ]\n",
      " [0.        ]]\n"
     ]
    }
   ],
   "source": [
    "# Converting 1D arrays of validation X's to 2D arrays\n",
    "\n",
    "X_1_test = X1_test.reshape(m_test, 1)\n",
    "X_2_test = X2_test.reshape(m_test, 1)\n",
    "X_3_test = X3_test.reshape(m_test, 1)\n",
    "X_4_test = X4_test.reshape(m_test, 1)\n",
    "X_5_test = X5_test.reshape(m_test, 1)\n",
    "\n",
    "# print first 5 values from each 2D array\n",
    "print('X_1_test = ', X_1_test[: 5])\n",
    "print('X_2_test = ', X_2_test[: 5])\n",
    "print('X_3_test = ', X_3_test[: 5])\n",
    "print('X_4_test = ', X_4_test[: 5])\n",
    "print('X_5_test = ', X_5_test[: 5])"
   ]
  },
  {
   "cell_type": "code",
   "execution_count": 32,
   "id": "29984c79-e225-4d71-bda2-3ee06e01c670",
   "metadata": {},
   "outputs": [
    {
     "data": {
      "text/plain": [
       "array([[1.        , 0.08817204, 0.33333333, 0.        , 0.33333333,\n",
       "        0.        ],\n",
       "       [1.        , 0.31182796, 0.33333333, 0.5       , 0.33333333,\n",
       "        0.33333333],\n",
       "       [1.        , 0.61784946, 0.33333333, 0.        , 0.        ,\n",
       "        0.33333333],\n",
       "       [1.        , 0.26308244, 0.33333333, 0.        , 0.33333333,\n",
       "        0.        ],\n",
       "       [1.        , 0.23655914, 0.66666667, 0.        , 0.33333333,\n",
       "        0.        ]])"
      ]
     },
     "execution_count": 32,
     "metadata": {},
     "output_type": "execute_result"
    }
   ],
   "source": [
    "# Stacking X_0_test through X_5_test horizotally\n",
    "# This is the final X Matrix for validation\n",
    "\n",
    "X_test = np.hstack((X_0_test, X_1_test, X_2_test, X_3_test, X_4_test, X_5_test))\n",
    "X_test [: 5]"
   ]
  },
  {
   "cell_type": "code",
   "execution_count": 33,
   "id": "e993a31f-70fa-4d16-ab5d-85247f055d82",
   "metadata": {},
   "outputs": [],
   "source": [
    "# defining function for computing the cost for linear regression\n",
    "\n",
    "def compute_cost(X, y, theta, m):\n",
    "    predictions = X.dot(theta)\n",
    "    errors = np.subtract(predictions, y)\n",
    "    sqrErrors = np.square(errors)\n",
    "    J = 1 / (2 * m) * np.sum(sqrErrors)\n",
    "    return J"
   ]
  },
  {
   "cell_type": "code",
   "execution_count": 35,
   "id": "c3bee626-ec44-4010-afe7-6a0adf799a10",
   "metadata": {},
   "outputs": [
    {
     "name": "stdout",
     "output_type": "stream",
     "text": [
      "The initial cost for given values of theta_0 to theta_5 =  0.04780662856311236\n"
     ]
    }
   ],
   "source": [
    "# computing the cost for initial theta values\n",
    "\n",
    "cost = compute_cost(X, y, theta, m)\n",
    "print('The initial cost for given values of theta_0 to theta_5 = ', cost)"
   ]
  },
  {
   "cell_type": "code",
   "execution_count": 36,
   "id": "46905e19-6b78-4ad7-b30f-643d3656c0e7",
   "metadata": {},
   "outputs": [],
   "source": [
    "# defining function for gradient descent algorithm\n",
    "# gradient descent algorithm is applied on the training set\n",
    "# for each iteration loss for both training and validation set is calculated\n",
    "\n",
    "def gradient_descent(X, y, theta, alpha, iterations):\n",
    "    cost_history = np.zeros(iterations)\n",
    "    cost_test = np.zeros(iterations)\n",
    "    for i in range(iterations):\n",
    "        predictions = X.dot(theta)\n",
    "        errors = np.subtract(predictions, y)\n",
    "        sum_delta = (alpha / m) * X.transpose().dot(errors);\n",
    "        theta = theta - sum_delta;\n",
    "        cost_history[i] = compute_cost(X, y, theta, m)                     # loss for training set\n",
    "        cost_test[i] = compute_cost(X_test, y_test, theta, m_test)         # loss for validation set\n",
    "    \n",
    "    return theta, cost_history, cost_test"
   ]
  },
  {
   "cell_type": "code",
   "execution_count": 83,
   "id": "bc103a20-ed71-4602-8c56-93d15e574ebb",
   "metadata": {},
   "outputs": [],
   "source": [
    "# We need theta parameter for every input variable. since we have six input variables\n",
    "\n",
    "theta = [0., 0., 0., 0., 0., 0.]\n",
    "iterations = 500;\n",
    "alpha = 0.1"
   ]
  },
  {
   "cell_type": "code",
   "execution_count": 84,
   "id": "f3b6b6e4-3821-4aff-b36d-9d2c62be7c7d",
   "metadata": {},
   "outputs": [
    {
     "name": "stdout",
     "output_type": "stream",
     "text": [
      "Final value of theta= [0.0702031  0.28851301 0.08527552 0.25758373 0.14823835 0.11853124]\n",
      "cost_history = [0.03814982 0.03094333 0.02556292 0.02154339 0.01853811 0.01628876\n",
      " 0.01460285 0.01333693 0.0123841  0.0116647  0.01111938 0.01070388\n",
      " 0.01038526 0.01013894 0.0099466  0.00979461 0.00967279 0.00957357\n",
      " 0.00949129 0.00942174 0.00936178 0.00930907 0.00926186 0.00921885\n",
      " 0.00917907 0.00914179 0.00910647 0.00907271 0.00904019 0.00900869\n",
      " 0.00897805 0.00894812 0.00891883 0.00889008 0.00886183 0.00883403\n",
      " 0.00880666 0.00877967 0.00875306 0.0087268  0.00870089 0.0086753\n",
      " 0.00865004 0.0086251  0.00860046 0.00857612 0.00855208 0.00852832\n",
      " 0.00850485 0.00848167 0.00845875 0.00843611 0.00841374 0.00839163\n",
      " 0.00836978 0.00834818 0.00832684 0.00830574 0.00828489 0.00826428\n",
      " 0.00824391 0.00822377 0.00820386 0.00818418 0.00816473 0.00814549\n",
      " 0.00812648 0.00810768 0.00808909 0.00807071 0.00805254 0.00803457\n",
      " 0.0080168  0.00799923 0.00798185 0.00796467 0.00794768 0.00793087\n",
      " 0.00791425 0.0078978  0.00788154 0.00786546 0.00784955 0.00783381\n",
      " 0.00781824 0.00780284 0.0077876  0.00777252 0.00775761 0.00774285\n",
      " 0.00772825 0.00771381 0.00769951 0.00768537 0.00767137 0.00765752\n",
      " 0.00764382 0.00763025 0.00761683 0.00760354 0.00759039 0.00757738\n",
      " 0.00756449 0.00755174 0.00753912 0.00752662 0.00751425 0.00750201\n",
      " 0.00748988 0.00747788 0.007466   0.00745423 0.00744258 0.00743105\n",
      " 0.00741962 0.00740831 0.00739711 0.00738602 0.00737504 0.00736416\n",
      " 0.00735338 0.00734271 0.00733214 0.00732167 0.0073113  0.00730103\n",
      " 0.00729086 0.00728078 0.00727079 0.0072609  0.0072511  0.00724139\n",
      " 0.00723177 0.00722224 0.0072128  0.00720344 0.00719416 0.00718498\n",
      " 0.00717587 0.00716684 0.0071579  0.00714904 0.00714025 0.00713155\n",
      " 0.00712292 0.00711437 0.00710589 0.00709748 0.00708915 0.0070809\n",
      " 0.00707271 0.00706459 0.00705655 0.00704857 0.00704066 0.00703282\n",
      " 0.00702504 0.00701733 0.00700969 0.00700211 0.00699459 0.00698714\n",
      " 0.00697975 0.00697241 0.00696514 0.00695793 0.00695078 0.00694369\n",
      " 0.00693665 0.00692967 0.00692275 0.00691588 0.00690907 0.00690231\n",
      " 0.00689561 0.00688896 0.00688236 0.00687581 0.00686932 0.00686288\n",
      " 0.00685648 0.00685014 0.00684384 0.0068376  0.0068314  0.00682525\n",
      " 0.00681914 0.00681309 0.00680708 0.00680111 0.00679519 0.00678931\n",
      " 0.00678348 0.00677769 0.00677194 0.00676624 0.00676058 0.00675496\n",
      " 0.00674938 0.00674384 0.00673834 0.00673289 0.00672747 0.00672209\n",
      " 0.00671675 0.00671145 0.00670618 0.00670095 0.00669576 0.00669061\n",
      " 0.00668549 0.00668041 0.00667537 0.00667036 0.00666538 0.00666044\n",
      " 0.00665553 0.00665066 0.00664582 0.00664101 0.00663624 0.0066315\n",
      " 0.00662679 0.00662211 0.00661746 0.00661285 0.00660826 0.00660371\n",
      " 0.00659919 0.00659469 0.00659023 0.00658579 0.00658139 0.00657701\n",
      " 0.00657266 0.00656834 0.00656405 0.00655979 0.00655555 0.00655134\n",
      " 0.00654716 0.00654301 0.00653888 0.00653477 0.0065307  0.00652665\n",
      " 0.00652262 0.00651862 0.00651465 0.0065107  0.00650677 0.00650287\n",
      " 0.00649899 0.00649514 0.00649131 0.0064875  0.00648372 0.00647996\n",
      " 0.00647622 0.00647251 0.00646882 0.00646515 0.0064615  0.00645788\n",
      " 0.00645427 0.00645069 0.00644713 0.00644359 0.00644007 0.00643658\n",
      " 0.0064331  0.00642964 0.00642621 0.00642279 0.0064194  0.00641602\n",
      " 0.00641266 0.00640933 0.00640601 0.00640271 0.00639943 0.00639617\n",
      " 0.00639293 0.0063897  0.0063865  0.00638331 0.00638014 0.00637699\n",
      " 0.00637386 0.00637074 0.00636764 0.00636456 0.0063615  0.00635845\n",
      " 0.00635542 0.00635241 0.00634942 0.00634644 0.00634347 0.00634053\n",
      " 0.0063376  0.00633468 0.00633179 0.0063289  0.00632604 0.00632319\n",
      " 0.00632035 0.00631753 0.00631473 0.00631194 0.00630916 0.0063064\n",
      " 0.00630366 0.00630093 0.00629821 0.00629551 0.00629282 0.00629015\n",
      " 0.00628749 0.00628485 0.00628222 0.0062796  0.006277   0.00627441\n",
      " 0.00627184 0.00626928 0.00626673 0.00626419 0.00626167 0.00625916\n",
      " 0.00625667 0.00625418 0.00625172 0.00624926 0.00624681 0.00624438\n",
      " 0.00624196 0.00623956 0.00623716 0.00623478 0.00623241 0.00623005\n",
      " 0.00622771 0.00622537 0.00622305 0.00622074 0.00621844 0.00621615\n",
      " 0.00621388 0.00621161 0.00620936 0.00620712 0.00620489 0.00620267\n",
      " 0.00620046 0.00619827 0.00619608 0.00619391 0.00619174 0.00618959\n",
      " 0.00618745 0.00618532 0.00618319 0.00618108 0.00617898 0.00617689\n",
      " 0.00617481 0.00617274 0.00617068 0.00616863 0.0061666  0.00616457\n",
      " 0.00616255 0.00616054 0.00615854 0.00615655 0.00615457 0.0061526\n",
      " 0.00615064 0.00614868 0.00614674 0.00614481 0.00614289 0.00614097\n",
      " 0.00613907 0.00613717 0.00613528 0.00613341 0.00613154 0.00612968\n",
      " 0.00612783 0.00612599 0.00612415 0.00612233 0.00612051 0.00611871\n",
      " 0.00611691 0.00611512 0.00611334 0.00611156 0.0061098  0.00610804\n",
      " 0.00610629 0.00610455 0.00610282 0.0061011  0.00609939 0.00609768\n",
      " 0.00609598 0.00609429 0.00609261 0.00609093 0.00608926 0.0060876\n",
      " 0.00608595 0.00608431 0.00608267 0.00608104 0.00607942 0.00607781\n",
      " 0.0060762  0.0060746  0.00607301 0.00607143 0.00606985 0.00606828\n",
      " 0.00606672 0.00606517 0.00606362 0.00606208 0.00606055 0.00605902\n",
      " 0.0060575  0.00605599 0.00605448 0.00605299 0.00605149 0.00605001\n",
      " 0.00604853 0.00604706 0.0060456  0.00604414 0.00604269 0.00604125\n",
      " 0.00603981 0.00603838 0.00603695 0.00603554 0.00603412 0.00603272\n",
      " 0.00603132 0.00602993 0.00602854 0.00602716 0.00602579 0.00602442\n",
      " 0.00602306 0.00602171 0.00602036 0.00601902 0.00601768 0.00601635\n",
      " 0.00601503 0.00601371 0.0060124  0.00601109 0.00600979 0.00600849\n",
      " 0.00600721 0.00600592 0.00600465 0.00600337 0.00600211 0.00600085\n",
      " 0.00599959 0.00599835 0.0059971  0.00599586 0.00599463 0.00599341\n",
      " 0.00599218 0.00599097 0.00598976 0.00598855 0.00598736 0.00598616\n",
      " 0.00598497 0.00598379 0.00598261 0.00598144 0.00598027 0.00597911\n",
      " 0.00597795 0.0059768  0.00597565 0.00597451 0.00597337 0.00597224\n",
      " 0.00597112 0.00596999]\n",
      "cost_test = [0.04333148 0.03572208 0.02996439 0.02559684 0.02227409 0.0197376\n",
      " 0.01779369 0.01629713 0.01513893 0.01423722 0.01353039 0.01297207\n",
      " 0.01252724 0.01216947 0.01187873 0.01163981 0.01144114 0.01127391\n",
      " 0.01113135 0.01100829 0.01090072 0.01080556 0.01072038 0.01064333\n",
      " 0.01057291 0.01050798 0.0104476  0.01039103 0.0103377  0.01028712\n",
      " 0.01023891 0.01019274 0.01014837 0.01010557 0.01006416 0.01002401\n",
      " 0.00998498 0.00994697 0.00990989 0.00987366 0.00983822 0.00980352\n",
      " 0.0097695  0.00973612 0.00970335 0.00967115 0.0096395  0.00960837\n",
      " 0.00957775 0.0095476  0.00951791 0.00948868 0.00945988 0.00943149\n",
      " 0.00940352 0.00937595 0.00934876 0.00932196 0.00929552 0.00926945\n",
      " 0.00924374 0.00921837 0.00919335 0.00916866 0.00914431 0.00912028\n",
      " 0.00909657 0.00907317 0.00905008 0.0090273  0.00900481 0.00898262\n",
      " 0.00896073 0.00893912 0.00891779 0.00889674 0.00887596 0.00885545\n",
      " 0.00883522 0.00881524 0.00879552 0.00877606 0.00875685 0.00873789\n",
      " 0.00871918 0.0087007  0.00868247 0.00866447 0.0086467  0.00862916\n",
      " 0.00861185 0.00859476 0.00857789 0.00856124 0.0085448  0.00852857\n",
      " 0.00851256 0.00849674 0.00848113 0.00846572 0.00845051 0.0084355\n",
      " 0.00842067 0.00840604 0.00839159 0.00837733 0.00836325 0.00834935\n",
      " 0.00833563 0.00832208 0.00830871 0.00829551 0.00828247 0.00826961\n",
      " 0.00825691 0.00824436 0.00823198 0.00821976 0.0082077  0.00819578\n",
      " 0.00818402 0.00817241 0.00816095 0.00814964 0.00813846 0.00812743\n",
      " 0.00811655 0.0081058  0.00809518 0.00808471 0.00807436 0.00806415\n",
      " 0.00805407 0.00804411 0.00803429 0.00802459 0.00801501 0.00800555\n",
      " 0.00799622 0.007987   0.0079779  0.00796892 0.00796005 0.0079513\n",
      " 0.00794266 0.00793412 0.0079257  0.00791738 0.00790917 0.00790107\n",
      " 0.00789307 0.00788517 0.00787737 0.00786967 0.00786207 0.00785457\n",
      " 0.00784716 0.00783985 0.00783263 0.00782551 0.00781848 0.00781153\n",
      " 0.00780468 0.00779791 0.00779124 0.00778464 0.00777813 0.00777171\n",
      " 0.00776537 0.00775911 0.00775293 0.00774683 0.00774081 0.00773487\n",
      " 0.00772901 0.00772322 0.00771751 0.00771187 0.0077063  0.00770081\n",
      " 0.00769539 0.00769004 0.00768475 0.00767954 0.0076744  0.00766932\n",
      " 0.00766431 0.00765937 0.00765449 0.00764968 0.00764492 0.00764024\n",
      " 0.00763561 0.00763104 0.00762654 0.0076221  0.00761771 0.00761338\n",
      " 0.00760911 0.0076049  0.00760074 0.00759664 0.0075926  0.00758861\n",
      " 0.00758467 0.00758079 0.00757696 0.00757318 0.00756945 0.00756577\n",
      " 0.00756215 0.00755857 0.00755504 0.00755156 0.00754813 0.00754474\n",
      " 0.00754141 0.00753811 0.00753487 0.00753167 0.00752851 0.0075254\n",
      " 0.00752233 0.00751931 0.00751632 0.00751338 0.00751049 0.00750763\n",
      " 0.00750481 0.00750204 0.0074993  0.0074966  0.00749394 0.00749133\n",
      " 0.00748874 0.0074862  0.00748369 0.00748122 0.00747879 0.00747639\n",
      " 0.00747403 0.00747171 0.00746942 0.00746716 0.00746494 0.00746275\n",
      " 0.00746059 0.00745847 0.00745638 0.00745432 0.00745229 0.0074503\n",
      " 0.00744833 0.0074464  0.0074445  0.00744263 0.00744078 0.00743897\n",
      " 0.00743719 0.00743543 0.0074337  0.00743201 0.00743034 0.00742869\n",
      " 0.00742708 0.00742549 0.00742393 0.00742239 0.00742088 0.0074194\n",
      " 0.00741794 0.00741651 0.0074151  0.00741372 0.00741236 0.00741103\n",
      " 0.00740972 0.00740843 0.00740717 0.00740593 0.00740471 0.00740352\n",
      " 0.00740234 0.0074012  0.00740007 0.00739896 0.00739788 0.00739682\n",
      " 0.00739577 0.00739475 0.00739375 0.00739277 0.00739181 0.00739087\n",
      " 0.00738995 0.00738905 0.00738817 0.00738731 0.00738647 0.00738564\n",
      " 0.00738484 0.00738405 0.00738328 0.00738253 0.0073818  0.00738108\n",
      " 0.00738038 0.0073797  0.00737904 0.00737839 0.00737776 0.00737715\n",
      " 0.00737655 0.00737597 0.0073754  0.00737486 0.00737432 0.0073738\n",
      " 0.0073733  0.00737281 0.00737234 0.00737188 0.00737144 0.00737101\n",
      " 0.0073706  0.0073702  0.00736981 0.00736944 0.00736908 0.00736874\n",
      " 0.00736841 0.00736809 0.00736779 0.0073675  0.00736722 0.00736695\n",
      " 0.0073667  0.00736646 0.00736624 0.00736602 0.00736582 0.00736563\n",
      " 0.00736545 0.00736528 0.00736513 0.00736499 0.00736485 0.00736473\n",
      " 0.00736462 0.00736453 0.00736444 0.00736436 0.0073643  0.00736424\n",
      " 0.0073642  0.00736417 0.00736414 0.00736413 0.00736413 0.00736414\n",
      " 0.00736415 0.00736418 0.00736422 0.00736426 0.00736432 0.00736438\n",
      " 0.00736446 0.00736454 0.00736464 0.00736474 0.00736485 0.00736497\n",
      " 0.0073651  0.00736524 0.00736538 0.00736554 0.0073657  0.00736587\n",
      " 0.00736605 0.00736624 0.00736644 0.00736664 0.00736685 0.00736707\n",
      " 0.0073673  0.00736753 0.00736778 0.00736803 0.00736829 0.00736855\n",
      " 0.00736882 0.0073691  0.00736939 0.00736968 0.00736998 0.00737029\n",
      " 0.00737061 0.00737093 0.00737126 0.00737159 0.00737193 0.00737228\n",
      " 0.00737263 0.00737299 0.00737336 0.00737373 0.00737411 0.0073745\n",
      " 0.00737489 0.00737529 0.00737569 0.0073761  0.00737651 0.00737693\n",
      " 0.00737736 0.00737779 0.00737823 0.00737867 0.00737912 0.00737957\n",
      " 0.00738003 0.0073805  0.00738097 0.00738144 0.00738192 0.00738241\n",
      " 0.00738289 0.00738339 0.00738389 0.00738439 0.0073849  0.00738542\n",
      " 0.00738593 0.00738646 0.00738698 0.00738752 0.00738805 0.00738859\n",
      " 0.00738914 0.00738969 0.00739024 0.0073908  0.00739136 0.00739193\n",
      " 0.0073925  0.00739307 0.00739365 0.00739423 0.00739482 0.00739541\n",
      " 0.00739601 0.0073966  0.0073972  0.00739781 0.00739842 0.00739903\n",
      " 0.00739965 0.00740027 0.00740089 0.00740152 0.00740215 0.00740278\n",
      " 0.00740341 0.00740405 0.0074047  0.00740534 0.00740599 0.00740665\n",
      " 0.0074073  0.00740796 0.00740862 0.00740929 0.00740995 0.00741062\n",
      " 0.0074113  0.00741197 0.00741265 0.00741334 0.00741402 0.00741471\n",
      " 0.0074154  0.00741609 0.00741678 0.00741748 0.00741818 0.00741889\n",
      " 0.00741959 0.0074203  0.00742101 0.00742172 0.00742244 0.00742315\n",
      " 0.00742387 0.0074246  0.00742532 0.00742605 0.00742677 0.0074275\n",
      " 0.00742824 0.00742897]\n"
     ]
    }
   ],
   "source": [
    "# Computing final theta values and cost/losses for training and validation set\n",
    "\n",
    "theta, cost_history, cost_test = gradient_descent(X, y, theta, alpha, iterations)\n",
    "print('Final value of theta=', theta)\n",
    "print('cost_history =', cost_history)\n",
    "print('cost_test =', cost_test)"
   ]
  },
  {
   "cell_type": "code",
   "execution_count": 85,
   "id": "cc5345a5-8a12-4fbf-9ebf-344a002993ec",
   "metadata": {},
   "outputs": [
    {
     "data": {
      "text/plain": [
       "Text(0.5, 1.0, 'Convergence of Gradient Descent')"
      ]
     },
     "execution_count": 85,
     "metadata": {},
     "output_type": "execute_result"
    },
    {
     "data": {
      "image/png": "[encoded data removed]",
      "text/plain": [
       "<Figure size 1000x600 with 1 Axes>"
      ]
     },
     "metadata": {},
     "output_type": "display_data"
    }
   ],
   "source": [
    "plt.plot(range(1, iterations + 1),cost_history, color='green', label= 'Loss for Training Set')\n",
    "plt.plot(range(1, iterations + 1),cost_test, color='red', label= 'Loss for Validation Set')\n",
    "plt.rcParams[\"figure.figsize\"] = (10,6)\n",
    "plt.grid()\n",
    "plt.legend()\n",
    "plt.xlabel('Number of Iterations')\n",
    "plt.ylabel('Cost (J)')\n",
    "plt.title('Convergence of Gradient Descent')"
   ]
  }
 ],
 "metadata": {
  "kernelspec": {
   "display_name": "Python 3 (ipykernel)",
   "language": "python",
   "name": "python3"
  },
  "language_info": {
   "codemirror_mode": {
    "name": "ipython",
    "version": 3
   },
   "file_extension": ".py",
   "mimetype": "text/x-python",
   "name": "python",
   "nbconvert_exporter": "python",
   "pygments_lexer": "ipython3",
   "version": "3.10.4"
  }
 },
 "nbformat": 4,
 "nbformat_minor": 5
}
