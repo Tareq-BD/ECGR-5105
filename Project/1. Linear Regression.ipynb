{
 "cells": [
  {
   "cell_type": "code",
   "execution_count": 342,
   "id": "99b24d93-9804-4782-8d0d-d66b42660668",
   "metadata": {},
   "outputs": [],
   "source": [
    "import numpy as np\n",
    "import pandas as pd\n",
    "import matplotlib.pyplot as plt    \n",
    "import seaborn as sns\n",
    "import sklearn\n",
    "\n",
    "import warnings\n",
    "warnings.filterwarnings('ignore')"
   ]
  },
  {
   "cell_type": "code",
   "execution_count": 343,
   "id": "1de77920-984d-49c6-8f4b-4abdfe19fd22",
   "metadata": {},
   "outputs": [
    {
     "data": {
      "text/html": [
       "<div>\n",
       "<style scoped>\n",
       "    .dataframe tbody tr th:only-of-type {\n",
       "        vertical-align: middle;\n",
       "    }\n",
       "\n",
       "    .dataframe tbody tr th {\n",
       "        vertical-align: top;\n",
       "    }\n",
       "\n",
       "    .dataframe thead th {\n",
       "        text-align: right;\n",
       "    }\n",
       "</style>\n",
       "<table border=\"1\" class=\"dataframe\">\n",
       "  <thead>\n",
       "    <tr style=\"text-align: right;\">\n",
       "      <th></th>\n",
       "      <th>lat</th>\n",
       "      <th>lon</th>\n",
       "      <th>time</th>\n",
       "      <th>omega_x</th>\n",
       "      <th>omega_y</th>\n",
       "      <th>omega</th>\n",
       "      <th>pr_wtr</th>\n",
       "      <th>rhum_x</th>\n",
       "      <th>rhum_y</th>\n",
       "      <th>rhum</th>\n",
       "      <th>...</th>\n",
       "      <th>tmp_x</th>\n",
       "      <th>tmp_y</th>\n",
       "      <th>tmp</th>\n",
       "      <th>uwnd_x</th>\n",
       "      <th>uwnd_y</th>\n",
       "      <th>uwnd</th>\n",
       "      <th>vwnd_x</th>\n",
       "      <th>vwnd_y</th>\n",
       "      <th>vwnd</th>\n",
       "      <th>rain</th>\n",
       "    </tr>\n",
       "  </thead>\n",
       "  <tbody>\n",
       "    <tr>\n",
       "      <th>0</th>\n",
       "      <td>30.0</td>\n",
       "      <td>70.0</td>\n",
       "      <td>1/1/2015</td>\n",
       "      <td>0.14300</td>\n",
       "      <td>0.10950</td>\n",
       "      <td>0.12600</td>\n",
       "      <td>5.60</td>\n",
       "      <td>1.75</td>\n",
       "      <td>0.75</td>\n",
       "      <td>40.75</td>\n",
       "      <td>...</td>\n",
       "      <td>296.8</td>\n",
       "      <td>282.67500</td>\n",
       "      <td>296.725</td>\n",
       "      <td>4.350000</td>\n",
       "      <td>1.275001</td>\n",
       "      <td>-2.599999</td>\n",
       "      <td>-6.600</td>\n",
       "      <td>-3.925</td>\n",
       "      <td>-3.200000</td>\n",
       "      <td>-9999.0</td>\n",
       "    </tr>\n",
       "    <tr>\n",
       "      <th>1</th>\n",
       "      <td>30.0</td>\n",
       "      <td>70.0</td>\n",
       "      <td>1/2/2015</td>\n",
       "      <td>0.02925</td>\n",
       "      <td>0.02450</td>\n",
       "      <td>0.06525</td>\n",
       "      <td>8.40</td>\n",
       "      <td>20.50</td>\n",
       "      <td>19.00</td>\n",
       "      <td>34.50</td>\n",
       "      <td>...</td>\n",
       "      <td>296.8</td>\n",
       "      <td>284.15000</td>\n",
       "      <td>296.700</td>\n",
       "      <td>12.125002</td>\n",
       "      <td>5.850001</td>\n",
       "      <td>-1.749999</td>\n",
       "      <td>-5.075</td>\n",
       "      <td>-3.975</td>\n",
       "      <td>-2.200000</td>\n",
       "      <td>-9999.0</td>\n",
       "    </tr>\n",
       "    <tr>\n",
       "      <th>2</th>\n",
       "      <td>30.0</td>\n",
       "      <td>70.0</td>\n",
       "      <td>1/3/2015</td>\n",
       "      <td>0.18125</td>\n",
       "      <td>0.16325</td>\n",
       "      <td>0.10375</td>\n",
       "      <td>11.35</td>\n",
       "      <td>29.50</td>\n",
       "      <td>46.50</td>\n",
       "      <td>41.00</td>\n",
       "      <td>...</td>\n",
       "      <td>296.8</td>\n",
       "      <td>284.67500</td>\n",
       "      <td>296.600</td>\n",
       "      <td>26.575000</td>\n",
       "      <td>10.875000</td>\n",
       "      <td>0.775001</td>\n",
       "      <td>-13.925</td>\n",
       "      <td>-5.725</td>\n",
       "      <td>-0.874999</td>\n",
       "      <td>-9999.0</td>\n",
       "    </tr>\n",
       "    <tr>\n",
       "      <th>3</th>\n",
       "      <td>30.0</td>\n",
       "      <td>70.0</td>\n",
       "      <td>1/4/2015</td>\n",
       "      <td>0.12350</td>\n",
       "      <td>0.07725</td>\n",
       "      <td>-0.09000</td>\n",
       "      <td>12.40</td>\n",
       "      <td>36.50</td>\n",
       "      <td>38.75</td>\n",
       "      <td>40.50</td>\n",
       "      <td>...</td>\n",
       "      <td>296.8</td>\n",
       "      <td>285.15002</td>\n",
       "      <td>296.550</td>\n",
       "      <td>35.949997</td>\n",
       "      <td>18.375000</td>\n",
       "      <td>1.325000</td>\n",
       "      <td>-20.400</td>\n",
       "      <td>-6.050</td>\n",
       "      <td>2.925002</td>\n",
       "      <td>-9999.0</td>\n",
       "    </tr>\n",
       "    <tr>\n",
       "      <th>4</th>\n",
       "      <td>30.0</td>\n",
       "      <td>70.0</td>\n",
       "      <td>1/5/2015</td>\n",
       "      <td>-0.04575</td>\n",
       "      <td>0.04225</td>\n",
       "      <td>0.01700</td>\n",
       "      <td>11.25</td>\n",
       "      <td>20.75</td>\n",
       "      <td>22.25</td>\n",
       "      <td>38.75</td>\n",
       "      <td>...</td>\n",
       "      <td>296.8</td>\n",
       "      <td>285.75000</td>\n",
       "      <td>296.500</td>\n",
       "      <td>40.700000</td>\n",
       "      <td>17.400002</td>\n",
       "      <td>3.175001</td>\n",
       "      <td>-7.900</td>\n",
       "      <td>-6.550</td>\n",
       "      <td>1.575000</td>\n",
       "      <td>-9999.0</td>\n",
       "    </tr>\n",
       "  </tbody>\n",
       "</table>\n",
       "<p>5 rows × 21 columns</p>\n",
       "</div>"
      ],
      "text/plain": [
       "    lat   lon      time  omega_x  omega_y    omega  pr_wtr  rhum_x  rhum_y  \\\n",
       "0  30.0  70.0  1/1/2015  0.14300  0.10950  0.12600    5.60    1.75    0.75   \n",
       "1  30.0  70.0  1/2/2015  0.02925  0.02450  0.06525    8.40   20.50   19.00   \n",
       "2  30.0  70.0  1/3/2015  0.18125  0.16325  0.10375   11.35   29.50   46.50   \n",
       "3  30.0  70.0  1/4/2015  0.12350  0.07725 -0.09000   12.40   36.50   38.75   \n",
       "4  30.0  70.0  1/5/2015 -0.04575  0.04225  0.01700   11.25   20.75   22.25   \n",
       "\n",
       "    rhum  ...  tmp_x      tmp_y      tmp     uwnd_x     uwnd_y      uwnd  \\\n",
       "0  40.75  ...  296.8  282.67500  296.725   4.350000   1.275001 -2.599999   \n",
       "1  34.50  ...  296.8  284.15000  296.700  12.125002   5.850001 -1.749999   \n",
       "2  41.00  ...  296.8  284.67500  296.600  26.575000  10.875000  0.775001   \n",
       "3  40.50  ...  296.8  285.15002  296.550  35.949997  18.375000  1.325000   \n",
       "4  38.75  ...  296.8  285.75000  296.500  40.700000  17.400002  3.175001   \n",
       "\n",
       "   vwnd_x  vwnd_y      vwnd    rain  \n",
       "0  -6.600  -3.925 -3.200000 -9999.0  \n",
       "1  -5.075  -3.975 -2.200000 -9999.0  \n",
       "2 -13.925  -5.725 -0.874999 -9999.0  \n",
       "3 -20.400  -6.050  2.925002 -9999.0  \n",
       "4  -7.900  -6.550  1.575000 -9999.0  \n",
       "\n",
       "[5 rows x 21 columns]"
      ]
     },
     "execution_count": 343,
     "metadata": {},
     "output_type": "execute_result"
    }
   ],
   "source": [
    "#import data from .csv file\n",
    "weather = pd.DataFrame(pd.read_csv(\"Weather Dataset.csv\"))\n",
    "weather.head()"
   ]
  },
  {
   "cell_type": "code",
   "execution_count": 344,
   "id": "230b2b5f-2aaa-43be-88b2-f0575238bf37",
   "metadata": {},
   "outputs": [
    {
     "data": {
      "text/plain": [
       "17902"
      ]
     },
     "execution_count": 344,
     "metadata": {},
     "output_type": "execute_result"
    }
   ],
   "source": [
    "m = len(weather)\n",
    "m"
   ]
  },
  {
   "cell_type": "code",
   "execution_count": 345,
   "id": "570a681b-d457-4f46-846a-30b777e4b075",
   "metadata": {},
   "outputs": [
    {
     "data": {
      "text/plain": [
       "(17902, 21)"
      ]
     },
     "execution_count": 345,
     "metadata": {},
     "output_type": "execute_result"
    }
   ],
   "source": [
    "weather.shape"
   ]
  },
  {
   "cell_type": "code",
   "execution_count": 346,
   "id": "1abf074b-8948-4fcd-a31e-8d1259748f7e",
   "metadata": {},
   "outputs": [
    {
     "data": {
      "text/plain": [
       "(12531, 21)"
      ]
     },
     "execution_count": 346,
     "metadata": {},
     "output_type": "execute_result"
    }
   ],
   "source": [
    "#Training and Testing Splitting\n",
    "from sklearn.model_selection import train_test_split\n",
    "np.random.seed(0)\n",
    "df_train, df_test = train_test_split(weather, train_size = 0.7, test_size = 0.3, random_state = 100)\n",
    "df_train.shape"
   ]
  },
  {
   "cell_type": "code",
   "execution_count": 347,
   "id": "90a7bfe2-37fb-4b03-bdaa-f5c2218a82b5",
   "metadata": {},
   "outputs": [
    {
     "data": {
      "text/plain": [
       "(5371, 21)"
      ]
     },
     "execution_count": 347,
     "metadata": {},
     "output_type": "execute_result"
    }
   ],
   "source": [
    "df_test.shape"
   ]
  },
  {
   "cell_type": "code",
   "execution_count": 348,
   "id": "a1777175-a2a0-495d-b048-b64c68fc54fb",
   "metadata": {},
   "outputs": [
    {
     "data": {
      "text/html": [
       "<div>\n",
       "<style scoped>\n",
       "    .dataframe tbody tr th:only-of-type {\n",
       "        vertical-align: middle;\n",
       "    }\n",
       "\n",
       "    .dataframe tbody tr th {\n",
       "        vertical-align: top;\n",
       "    }\n",
       "\n",
       "    .dataframe thead th {\n",
       "        text-align: right;\n",
       "    }\n",
       "</style>\n",
       "<table border=\"1\" class=\"dataframe\">\n",
       "  <thead>\n",
       "    <tr style=\"text-align: right;\">\n",
       "      <th></th>\n",
       "      <th>lat</th>\n",
       "      <th>lon</th>\n",
       "      <th>omega_x</th>\n",
       "      <th>omega_y</th>\n",
       "      <th>omega</th>\n",
       "      <th>pr_wtr</th>\n",
       "      <th>rhum_x</th>\n",
       "      <th>rhum_y</th>\n",
       "      <th>rhum</th>\n",
       "      <th>slp</th>\n",
       "      <th>tmp_x</th>\n",
       "      <th>tmp_y</th>\n",
       "      <th>tmp</th>\n",
       "      <th>uwnd_x</th>\n",
       "      <th>uwnd_y</th>\n",
       "      <th>uwnd</th>\n",
       "      <th>vwnd_x</th>\n",
       "      <th>vwnd_y</th>\n",
       "      <th>vwnd</th>\n",
       "      <th>rain</th>\n",
       "    </tr>\n",
       "  </thead>\n",
       "  <tbody>\n",
       "    <tr>\n",
       "      <th>6643</th>\n",
       "      <td>27.5</td>\n",
       "      <td>70.0</td>\n",
       "      <td>0.01800</td>\n",
       "      <td>0.05875</td>\n",
       "      <td>0.04075</td>\n",
       "      <td>44.225000</td>\n",
       "      <td>42.75</td>\n",
       "      <td>34.00</td>\n",
       "      <td>58.75</td>\n",
       "      <td>100162.5</td>\n",
       "      <td>297.7</td>\n",
       "      <td>308.575</td>\n",
       "      <td>301.67502</td>\n",
       "      <td>0.500000</td>\n",
       "      <td>-4.224999</td>\n",
       "      <td>2.925001</td>\n",
       "      <td>4.675000</td>\n",
       "      <td>-1.599999</td>\n",
       "      <td>3.875001</td>\n",
       "      <td>0.0</td>\n",
       "    </tr>\n",
       "    <tr>\n",
       "      <th>7858</th>\n",
       "      <td>27.5</td>\n",
       "      <td>72.5</td>\n",
       "      <td>0.06475</td>\n",
       "      <td>0.01100</td>\n",
       "      <td>-0.02200</td>\n",
       "      <td>7.625000</td>\n",
       "      <td>14.00</td>\n",
       "      <td>15.50</td>\n",
       "      <td>10.50</td>\n",
       "      <td>101892.5</td>\n",
       "      <td>296.7</td>\n",
       "      <td>284.875</td>\n",
       "      <td>298.34998</td>\n",
       "      <td>4.100001</td>\n",
       "      <td>6.775000</td>\n",
       "      <td>0.725001</td>\n",
       "      <td>-3.525000</td>\n",
       "      <td>-3.100000</td>\n",
       "      <td>-0.400000</td>\n",
       "      <td>0.0</td>\n",
       "    </tr>\n",
       "    <tr>\n",
       "      <th>12706</th>\n",
       "      <td>25.0</td>\n",
       "      <td>70.0</td>\n",
       "      <td>0.06075</td>\n",
       "      <td>-0.05575</td>\n",
       "      <td>-0.09500</td>\n",
       "      <td>34.324997</td>\n",
       "      <td>4.75</td>\n",
       "      <td>39.25</td>\n",
       "      <td>23.75</td>\n",
       "      <td>99580.0</td>\n",
       "      <td>299.6</td>\n",
       "      <td>310.900</td>\n",
       "      <td>301.40000</td>\n",
       "      <td>6.275000</td>\n",
       "      <td>5.500001</td>\n",
       "      <td>11.150000</td>\n",
       "      <td>-12.025000</td>\n",
       "      <td>-4.974999</td>\n",
       "      <td>0.250001</td>\n",
       "      <td>-9999.0</td>\n",
       "    </tr>\n",
       "    <tr>\n",
       "      <th>6830</th>\n",
       "      <td>27.5</td>\n",
       "      <td>70.0</td>\n",
       "      <td>-0.11150</td>\n",
       "      <td>0.04575</td>\n",
       "      <td>0.10000</td>\n",
       "      <td>13.475000</td>\n",
       "      <td>69.75</td>\n",
       "      <td>13.00</td>\n",
       "      <td>34.25</td>\n",
       "      <td>101855.0</td>\n",
       "      <td>297.7</td>\n",
       "      <td>285.125</td>\n",
       "      <td>297.42502</td>\n",
       "      <td>27.300000</td>\n",
       "      <td>15.250002</td>\n",
       "      <td>1.750001</td>\n",
       "      <td>26.349998</td>\n",
       "      <td>10.000000</td>\n",
       "      <td>-3.450000</td>\n",
       "      <td>0.0</td>\n",
       "    </tr>\n",
       "    <tr>\n",
       "      <th>12965</th>\n",
       "      <td>25.0</td>\n",
       "      <td>72.5</td>\n",
       "      <td>-0.00200</td>\n",
       "      <td>-0.02275</td>\n",
       "      <td>-0.08225</td>\n",
       "      <td>23.500000</td>\n",
       "      <td>36.25</td>\n",
       "      <td>30.50</td>\n",
       "      <td>32.75</td>\n",
       "      <td>100890.0</td>\n",
       "      <td>297.6</td>\n",
       "      <td>304.825</td>\n",
       "      <td>296.50000</td>\n",
       "      <td>12.200001</td>\n",
       "      <td>9.400002</td>\n",
       "      <td>5.125001</td>\n",
       "      <td>4.800000</td>\n",
       "      <td>1.275000</td>\n",
       "      <td>2.250001</td>\n",
       "      <td>0.0</td>\n",
       "    </tr>\n",
       "  </tbody>\n",
       "</table>\n",
       "</div>"
      ],
      "text/plain": [
       "        lat   lon  omega_x  omega_y    omega     pr_wtr  rhum_x  rhum_y  \\\n",
       "6643   27.5  70.0  0.01800  0.05875  0.04075  44.225000   42.75   34.00   \n",
       "7858   27.5  72.5  0.06475  0.01100 -0.02200   7.625000   14.00   15.50   \n",
       "12706  25.0  70.0  0.06075 -0.05575 -0.09500  34.324997    4.75   39.25   \n",
       "6830   27.5  70.0 -0.11150  0.04575  0.10000  13.475000   69.75   13.00   \n",
       "12965  25.0  72.5 -0.00200 -0.02275 -0.08225  23.500000   36.25   30.50   \n",
       "\n",
       "        rhum       slp  tmp_x    tmp_y        tmp     uwnd_x     uwnd_y  \\\n",
       "6643   58.75  100162.5  297.7  308.575  301.67502   0.500000  -4.224999   \n",
       "7858   10.50  101892.5  296.7  284.875  298.34998   4.100001   6.775000   \n",
       "12706  23.75   99580.0  299.6  310.900  301.40000   6.275000   5.500001   \n",
       "6830   34.25  101855.0  297.7  285.125  297.42502  27.300000  15.250002   \n",
       "12965  32.75  100890.0  297.6  304.825  296.50000  12.200001   9.400002   \n",
       "\n",
       "            uwnd     vwnd_x     vwnd_y      vwnd    rain  \n",
       "6643    2.925001   4.675000  -1.599999  3.875001     0.0  \n",
       "7858    0.725001  -3.525000  -3.100000 -0.400000     0.0  \n",
       "12706  11.150000 -12.025000  -4.974999  0.250001 -9999.0  \n",
       "6830    1.750001  26.349998  10.000000 -3.450000     0.0  \n",
       "12965   5.125001   4.800000   1.275000  2.250001     0.0  "
      ]
     },
     "execution_count": 348,
     "metadata": {},
     "output_type": "execute_result"
    }
   ],
   "source": [
    "num_vars = ['lat', 'lon','omega_x', 'omega_y', 'omega', 'pr_wtr', 'rhum_x','rhum_y', 'rhum', 'slp', 'tmp_x', 'tmp_y', 'tmp','uwnd_x', 'uwnd_y', 'uwnd', 'vwnd_x', 'vwnd_y', 'vwnd','rain']\n",
    "df_Newtrain = df_train[num_vars]\n",
    "df_Newtest = df_test[num_vars]\n",
    "df_Newtrain.head()"
   ]
  },
  {
   "cell_type": "code",
   "execution_count": 349,
   "id": "42569f40-a14e-4e0f-aa52-121c5a05cbc1",
   "metadata": {},
   "outputs": [
    {
     "data": {
      "text/plain": [
       "(12531, 20)"
      ]
     },
     "execution_count": 349,
     "metadata": {},
     "output_type": "execute_result"
    }
   ],
   "source": [
    "df_Newtrain.shape"
   ]
  },
  {
   "cell_type": "code",
   "execution_count": 350,
   "id": "cb646182-2a64-4734-8c6a-48fb33224fb1",
   "metadata": {},
   "outputs": [],
   "source": [
    "y_Newtrain = df_Newtrain.pop('rain')\n",
    "X_Newtrain = df_Newtrain"
   ]
  },
  {
   "cell_type": "code",
   "execution_count": 351,
   "id": "bf7af074-c955-4a4d-ae7d-c87701cbc8a5",
   "metadata": {},
   "outputs": [
    {
     "data": {
      "text/html": [
       "<div>\n",
       "<style scoped>\n",
       "    .dataframe tbody tr th:only-of-type {\n",
       "        vertical-align: middle;\n",
       "    }\n",
       "\n",
       "    .dataframe tbody tr th {\n",
       "        vertical-align: top;\n",
       "    }\n",
       "\n",
       "    .dataframe thead th {\n",
       "        text-align: right;\n",
       "    }\n",
       "</style>\n",
       "<table border=\"1\" class=\"dataframe\">\n",
       "  <thead>\n",
       "    <tr style=\"text-align: right;\">\n",
       "      <th></th>\n",
       "      <th>lat</th>\n",
       "      <th>lon</th>\n",
       "      <th>omega_x</th>\n",
       "      <th>omega_y</th>\n",
       "      <th>omega</th>\n",
       "      <th>pr_wtr</th>\n",
       "      <th>rhum_x</th>\n",
       "      <th>rhum_y</th>\n",
       "      <th>rhum</th>\n",
       "      <th>slp</th>\n",
       "      <th>tmp_x</th>\n",
       "      <th>tmp_y</th>\n",
       "      <th>tmp</th>\n",
       "      <th>uwnd_x</th>\n",
       "      <th>uwnd_y</th>\n",
       "      <th>uwnd</th>\n",
       "      <th>vwnd_x</th>\n",
       "      <th>vwnd_y</th>\n",
       "      <th>vwnd</th>\n",
       "    </tr>\n",
       "  </thead>\n",
       "  <tbody>\n",
       "    <tr>\n",
       "      <th>6643</th>\n",
       "      <td>27.5</td>\n",
       "      <td>70.0</td>\n",
       "      <td>0.01800</td>\n",
       "      <td>0.05875</td>\n",
       "      <td>0.04075</td>\n",
       "      <td>44.225000</td>\n",
       "      <td>42.75</td>\n",
       "      <td>34.00</td>\n",
       "      <td>58.75</td>\n",
       "      <td>100162.5</td>\n",
       "      <td>297.7</td>\n",
       "      <td>308.575</td>\n",
       "      <td>301.67502</td>\n",
       "      <td>0.500000</td>\n",
       "      <td>-4.224999</td>\n",
       "      <td>2.925001</td>\n",
       "      <td>4.675000</td>\n",
       "      <td>-1.599999</td>\n",
       "      <td>3.875001</td>\n",
       "    </tr>\n",
       "    <tr>\n",
       "      <th>7858</th>\n",
       "      <td>27.5</td>\n",
       "      <td>72.5</td>\n",
       "      <td>0.06475</td>\n",
       "      <td>0.01100</td>\n",
       "      <td>-0.02200</td>\n",
       "      <td>7.625000</td>\n",
       "      <td>14.00</td>\n",
       "      <td>15.50</td>\n",
       "      <td>10.50</td>\n",
       "      <td>101892.5</td>\n",
       "      <td>296.7</td>\n",
       "      <td>284.875</td>\n",
       "      <td>298.34998</td>\n",
       "      <td>4.100001</td>\n",
       "      <td>6.775000</td>\n",
       "      <td>0.725001</td>\n",
       "      <td>-3.525000</td>\n",
       "      <td>-3.100000</td>\n",
       "      <td>-0.400000</td>\n",
       "    </tr>\n",
       "    <tr>\n",
       "      <th>12706</th>\n",
       "      <td>25.0</td>\n",
       "      <td>70.0</td>\n",
       "      <td>0.06075</td>\n",
       "      <td>-0.05575</td>\n",
       "      <td>-0.09500</td>\n",
       "      <td>34.324997</td>\n",
       "      <td>4.75</td>\n",
       "      <td>39.25</td>\n",
       "      <td>23.75</td>\n",
       "      <td>99580.0</td>\n",
       "      <td>299.6</td>\n",
       "      <td>310.900</td>\n",
       "      <td>301.40000</td>\n",
       "      <td>6.275000</td>\n",
       "      <td>5.500001</td>\n",
       "      <td>11.150000</td>\n",
       "      <td>-12.025000</td>\n",
       "      <td>-4.974999</td>\n",
       "      <td>0.250001</td>\n",
       "    </tr>\n",
       "    <tr>\n",
       "      <th>6830</th>\n",
       "      <td>27.5</td>\n",
       "      <td>70.0</td>\n",
       "      <td>-0.11150</td>\n",
       "      <td>0.04575</td>\n",
       "      <td>0.10000</td>\n",
       "      <td>13.475000</td>\n",
       "      <td>69.75</td>\n",
       "      <td>13.00</td>\n",
       "      <td>34.25</td>\n",
       "      <td>101855.0</td>\n",
       "      <td>297.7</td>\n",
       "      <td>285.125</td>\n",
       "      <td>297.42502</td>\n",
       "      <td>27.300000</td>\n",
       "      <td>15.250002</td>\n",
       "      <td>1.750001</td>\n",
       "      <td>26.349998</td>\n",
       "      <td>10.000000</td>\n",
       "      <td>-3.450000</td>\n",
       "    </tr>\n",
       "    <tr>\n",
       "      <th>12965</th>\n",
       "      <td>25.0</td>\n",
       "      <td>72.5</td>\n",
       "      <td>-0.00200</td>\n",
       "      <td>-0.02275</td>\n",
       "      <td>-0.08225</td>\n",
       "      <td>23.500000</td>\n",
       "      <td>36.25</td>\n",
       "      <td>30.50</td>\n",
       "      <td>32.75</td>\n",
       "      <td>100890.0</td>\n",
       "      <td>297.6</td>\n",
       "      <td>304.825</td>\n",
       "      <td>296.50000</td>\n",
       "      <td>12.200001</td>\n",
       "      <td>9.400002</td>\n",
       "      <td>5.125001</td>\n",
       "      <td>4.800000</td>\n",
       "      <td>1.275000</td>\n",
       "      <td>2.250001</td>\n",
       "    </tr>\n",
       "  </tbody>\n",
       "</table>\n",
       "</div>"
      ],
      "text/plain": [
       "        lat   lon  omega_x  omega_y    omega     pr_wtr  rhum_x  rhum_y  \\\n",
       "6643   27.5  70.0  0.01800  0.05875  0.04075  44.225000   42.75   34.00   \n",
       "7858   27.5  72.5  0.06475  0.01100 -0.02200   7.625000   14.00   15.50   \n",
       "12706  25.0  70.0  0.06075 -0.05575 -0.09500  34.324997    4.75   39.25   \n",
       "6830   27.5  70.0 -0.11150  0.04575  0.10000  13.475000   69.75   13.00   \n",
       "12965  25.0  72.5 -0.00200 -0.02275 -0.08225  23.500000   36.25   30.50   \n",
       "\n",
       "        rhum       slp  tmp_x    tmp_y        tmp     uwnd_x     uwnd_y  \\\n",
       "6643   58.75  100162.5  297.7  308.575  301.67502   0.500000  -4.224999   \n",
       "7858   10.50  101892.5  296.7  284.875  298.34998   4.100001   6.775000   \n",
       "12706  23.75   99580.0  299.6  310.900  301.40000   6.275000   5.500001   \n",
       "6830   34.25  101855.0  297.7  285.125  297.42502  27.300000  15.250002   \n",
       "12965  32.75  100890.0  297.6  304.825  296.50000  12.200001   9.400002   \n",
       "\n",
       "            uwnd     vwnd_x     vwnd_y      vwnd  \n",
       "6643    2.925001   4.675000  -1.599999  3.875001  \n",
       "7858    0.725001  -3.525000  -3.100000 -0.400000  \n",
       "12706  11.150000 -12.025000  -4.974999  0.250001  \n",
       "6830    1.750001  26.349998  10.000000 -3.450000  \n",
       "12965   5.125001   4.800000   1.275000  2.250001  "
      ]
     },
     "execution_count": 351,
     "metadata": {},
     "output_type": "execute_result"
    }
   ],
   "source": [
    "X_Newtrain.head()"
   ]
  },
  {
   "cell_type": "code",
   "execution_count": 352,
   "id": "90a476ae-376c-40a7-8959-aeb6a7a0221a",
   "metadata": {},
   "outputs": [
    {
     "data": {
      "text/plain": [
       "6643        0.0\n",
       "7858        0.0\n",
       "12706   -9999.0\n",
       "6830        0.0\n",
       "12965       0.0\n",
       "Name: rain, dtype: float64"
      ]
     },
     "execution_count": 352,
     "metadata": {},
     "output_type": "execute_result"
    }
   ],
   "source": [
    "y_Newtrain.head()"
   ]
  },
  {
   "cell_type": "code",
   "execution_count": 353,
   "id": "65d1ffb6-dc11-496a-b11f-5d128f2bcc3a",
   "metadata": {},
   "outputs": [
    {
     "name": "stdout",
     "output_type": "stream",
     "text": [
      "y =  [    0.     0. -9999.     0.     0.     0. -9999.     0.     0.     0.]\n"
     ]
    }
   ],
   "source": [
    "y = y_Newtrain.values\n",
    "print('y = ', y[: 10])"
   ]
  },
  {
   "cell_type": "code",
   "execution_count": 354,
   "id": "9cb8f8ae-83e3-4349-8b43-d6bbce8f6ce0",
   "metadata": {},
   "outputs": [],
   "source": [
    "# training set preparation\n",
    "\n",
    "X1 = df_Newtrain.values[:, 0]    \n",
    "X2 = df_Newtrain.values[:, 1]             \n",
    "X3 = df_Newtrain.values[:, 2]               \n",
    "X4 = df_Newtrain.values[:, 3]           \n",
    "X5 = df_Newtrain.values[:, 4]    \n",
    "X6 = df_Newtrain.values[:, 5] \n",
    "X7 = df_Newtrain.values[:, 6] \n",
    "X8 = df_Newtrain.values[:, 7] \n",
    "X9 = df_Newtrain.values[:, 8] \n",
    "X10 = df_Newtrain.values[:, 9] \n",
    "X11 = df_Newtrain.values[:, 10] \n",
    "X12 = df_Newtrain.values[:, 11] \n",
    "X13 = df_Newtrain.values[:, 12] \n",
    "X14 = df_Newtrain.values[:, 13] \n",
    "X15 = df_Newtrain.values[:, 14] \n",
    "X16 = df_Newtrain.values[:, 15] \n",
    "X17 = df_Newtrain.values[:, 16] \n",
    "X18 = df_Newtrain.values[:, 17] \n",
    "X19 = df_Newtrain.values[:, 18] "
   ]
  },
  {
   "cell_type": "code",
   "execution_count": 355,
   "id": "0b0b9861-e83b-4265-bf6c-77e1bee1b194",
   "metadata": {},
   "outputs": [
    {
     "data": {
      "text/plain": [
       "array([[1.],\n",
       "       [1.],\n",
       "       [1.],\n",
       "       [1.],\n",
       "       [1.]])"
      ]
     },
     "execution_count": 355,
     "metadata": {},
     "output_type": "execute_result"
    }
   ],
   "source": [
    "m = len(X_Newtrain)       \n",
    "X_0 = np.ones((m, 1))       # Single column matrix with all ones \n",
    "X_0 [: 5]"
   ]
  },
  {
   "cell_type": "code",
   "execution_count": 356,
   "id": "9a9c90fd-407e-45ba-a125-922950175ceb",
   "metadata": {},
   "outputs": [],
   "source": [
    "# 1D arrays to 2D array conversion\n",
    "X_1 = X1.reshape(m, 1)\n",
    "X_2 = X2.reshape(m, 1)\n",
    "X_3 = X3.reshape(m, 1)\n",
    "X_4 = X4.reshape(m, 1)\n",
    "X_5 = X5.reshape(m, 1)\n",
    "X_6 = X6.reshape(m, 1)\n",
    "X_7 = X7.reshape(m, 1)\n",
    "X_8 = X8.reshape(m, 1)\n",
    "X_9 = X9.reshape(m, 1)\n",
    "X_10 = X10.reshape(m, 1)\n",
    "X_11 = X11.reshape(m, 1)\n",
    "X_12 = X12.reshape(m, 1)\n",
    "X_13 = X13.reshape(m, 1)\n",
    "X_14 = X14.reshape(m, 1)\n",
    "X_15 = X15.reshape(m, 1)\n",
    "X_16 = X16.reshape(m, 1)\n",
    "X_17 = X17.reshape(m, 1)\n",
    "X_18 = X18.reshape(m, 1)\n",
    "X_19 = X19.reshape(m, 1)"
   ]
  },
  {
   "cell_type": "code",
   "execution_count": 357,
   "id": "04d99a4e-5305-462b-b3df-6e91408bee11",
   "metadata": {},
   "outputs": [],
   "source": [
    "# Final X Matrix for training\n",
    "X = np.hstack((X_0, X_1, X_2, X_3, X_4, X_5, X_6, X_7, X_8, X_9, X_10, X_11, X_12, X_13, X_14, X_15, X_16, X_17, X_18, X_19))"
   ]
  },
  {
   "cell_type": "code",
   "execution_count": 358,
   "id": "cf4ebf7f-a239-4a8b-85cf-a82f299385ca",
   "metadata": {},
   "outputs": [
    {
     "data": {
      "text/plain": [
       "array([0., 0., 0., 0., 0., 0., 0., 0., 0., 0., 0., 0., 0., 0., 0., 0., 0.,\n",
       "       0., 0., 0.])"
      ]
     },
     "execution_count": 358,
     "metadata": {},
     "output_type": "execute_result"
    }
   ],
   "source": [
    "theta = np.zeros(20)\n",
    "theta"
   ]
  },
  {
   "cell_type": "code",
   "execution_count": 359,
   "id": "09ee7a84-da91-4dff-9103-873690e8ddcb",
   "metadata": {},
   "outputs": [],
   "source": [
    "y_Newtest = df_Newtest.pop('rain')\n",
    "X_Newtest = df_Newtest"
   ]
  },
  {
   "cell_type": "code",
   "execution_count": 360,
   "id": "ebf8bc12-d510-4f93-abfe-b111713449f8",
   "metadata": {},
   "outputs": [
    {
     "data": {
      "text/html": [
       "<div>\n",
       "<style scoped>\n",
       "    .dataframe tbody tr th:only-of-type {\n",
       "        vertical-align: middle;\n",
       "    }\n",
       "\n",
       "    .dataframe tbody tr th {\n",
       "        vertical-align: top;\n",
       "    }\n",
       "\n",
       "    .dataframe thead th {\n",
       "        text-align: right;\n",
       "    }\n",
       "</style>\n",
       "<table border=\"1\" class=\"dataframe\">\n",
       "  <thead>\n",
       "    <tr style=\"text-align: right;\">\n",
       "      <th></th>\n",
       "      <th>lat</th>\n",
       "      <th>lon</th>\n",
       "      <th>omega_x</th>\n",
       "      <th>omega_y</th>\n",
       "      <th>omega</th>\n",
       "      <th>pr_wtr</th>\n",
       "      <th>rhum_x</th>\n",
       "      <th>rhum_y</th>\n",
       "      <th>rhum</th>\n",
       "      <th>slp</th>\n",
       "      <th>tmp_x</th>\n",
       "      <th>tmp_y</th>\n",
       "      <th>tmp</th>\n",
       "      <th>uwnd_x</th>\n",
       "      <th>uwnd_y</th>\n",
       "      <th>uwnd</th>\n",
       "      <th>vwnd_x</th>\n",
       "      <th>vwnd_y</th>\n",
       "      <th>vwnd</th>\n",
       "    </tr>\n",
       "  </thead>\n",
       "  <tbody>\n",
       "    <tr>\n",
       "      <th>1369</th>\n",
       "      <td>30.0</td>\n",
       "      <td>70.0</td>\n",
       "      <td>0.03800</td>\n",
       "      <td>0.00400</td>\n",
       "      <td>-0.02300</td>\n",
       "      <td>13.300001</td>\n",
       "      <td>7.25</td>\n",
       "      <td>52.25</td>\n",
       "      <td>15.00</td>\n",
       "      <td>100785.0</td>\n",
       "      <td>296.8</td>\n",
       "      <td>301.57498</td>\n",
       "      <td>302.2</td>\n",
       "      <td>11.225000</td>\n",
       "      <td>0.700001</td>\n",
       "      <td>1.925001</td>\n",
       "      <td>0.175</td>\n",
       "      <td>-1.400000</td>\n",
       "      <td>1.375000</td>\n",
       "    </tr>\n",
       "    <tr>\n",
       "      <th>4780</th>\n",
       "      <td>30.0</td>\n",
       "      <td>77.5</td>\n",
       "      <td>-0.03975</td>\n",
       "      <td>-0.14600</td>\n",
       "      <td>-0.13375</td>\n",
       "      <td>17.200000</td>\n",
       "      <td>23.00</td>\n",
       "      <td>40.00</td>\n",
       "      <td>19.75</td>\n",
       "      <td>100545.0</td>\n",
       "      <td>293.2</td>\n",
       "      <td>304.62500</td>\n",
       "      <td>293.9</td>\n",
       "      <td>1.525000</td>\n",
       "      <td>5.025001</td>\n",
       "      <td>2.925000</td>\n",
       "      <td>3.900</td>\n",
       "      <td>2.625000</td>\n",
       "      <td>1.050000</td>\n",
       "    </tr>\n",
       "    <tr>\n",
       "      <th>9383</th>\n",
       "      <td>27.5</td>\n",
       "      <td>75.0</td>\n",
       "      <td>-0.02500</td>\n",
       "      <td>-0.11925</td>\n",
       "      <td>-0.11975</td>\n",
       "      <td>13.775000</td>\n",
       "      <td>15.50</td>\n",
       "      <td>55.75</td>\n",
       "      <td>24.25</td>\n",
       "      <td>100610.0</td>\n",
       "      <td>296.2</td>\n",
       "      <td>290.70000</td>\n",
       "      <td>293.8</td>\n",
       "      <td>41.950000</td>\n",
       "      <td>11.350001</td>\n",
       "      <td>1.750001</td>\n",
       "      <td>-7.325</td>\n",
       "      <td>3.600000</td>\n",
       "      <td>1.775000</td>\n",
       "    </tr>\n",
       "    <tr>\n",
       "      <th>12314</th>\n",
       "      <td>25.0</td>\n",
       "      <td>70.0</td>\n",
       "      <td>0.01125</td>\n",
       "      <td>0.03025</td>\n",
       "      <td>-0.06725</td>\n",
       "      <td>35.700000</td>\n",
       "      <td>9.50</td>\n",
       "      <td>31.75</td>\n",
       "      <td>42.25</td>\n",
       "      <td>100220.0</td>\n",
       "      <td>299.6</td>\n",
       "      <td>309.45000</td>\n",
       "      <td>299.8</td>\n",
       "      <td>17.600002</td>\n",
       "      <td>7.450002</td>\n",
       "      <td>6.525002</td>\n",
       "      <td>6.900</td>\n",
       "      <td>0.100001</td>\n",
       "      <td>0.750001</td>\n",
       "    </tr>\n",
       "    <tr>\n",
       "      <th>11919</th>\n",
       "      <td>25.0</td>\n",
       "      <td>70.0</td>\n",
       "      <td>-0.04375</td>\n",
       "      <td>-0.02400</td>\n",
       "      <td>-0.03825</td>\n",
       "      <td>34.975002</td>\n",
       "      <td>13.50</td>\n",
       "      <td>10.50</td>\n",
       "      <td>56.75</td>\n",
       "      <td>100490.0</td>\n",
       "      <td>299.6</td>\n",
       "      <td>305.72498</td>\n",
       "      <td>298.2</td>\n",
       "      <td>14.250000</td>\n",
       "      <td>5.850000</td>\n",
       "      <td>6.250002</td>\n",
       "      <td>5.475</td>\n",
       "      <td>3.225000</td>\n",
       "      <td>2.975001</td>\n",
       "    </tr>\n",
       "  </tbody>\n",
       "</table>\n",
       "</div>"
      ],
      "text/plain": [
       "        lat   lon  omega_x  omega_y    omega     pr_wtr  rhum_x  rhum_y  \\\n",
       "1369   30.0  70.0  0.03800  0.00400 -0.02300  13.300001    7.25   52.25   \n",
       "4780   30.0  77.5 -0.03975 -0.14600 -0.13375  17.200000   23.00   40.00   \n",
       "9383   27.5  75.0 -0.02500 -0.11925 -0.11975  13.775000   15.50   55.75   \n",
       "12314  25.0  70.0  0.01125  0.03025 -0.06725  35.700000    9.50   31.75   \n",
       "11919  25.0  70.0 -0.04375 -0.02400 -0.03825  34.975002   13.50   10.50   \n",
       "\n",
       "        rhum       slp  tmp_x      tmp_y    tmp     uwnd_x     uwnd_y  \\\n",
       "1369   15.00  100785.0  296.8  301.57498  302.2  11.225000   0.700001   \n",
       "4780   19.75  100545.0  293.2  304.62500  293.9   1.525000   5.025001   \n",
       "9383   24.25  100610.0  296.2  290.70000  293.8  41.950000  11.350001   \n",
       "12314  42.25  100220.0  299.6  309.45000  299.8  17.600002   7.450002   \n",
       "11919  56.75  100490.0  299.6  305.72498  298.2  14.250000   5.850000   \n",
       "\n",
       "           uwnd  vwnd_x    vwnd_y      vwnd  \n",
       "1369   1.925001   0.175 -1.400000  1.375000  \n",
       "4780   2.925000   3.900  2.625000  1.050000  \n",
       "9383   1.750001  -7.325  3.600000  1.775000  \n",
       "12314  6.525002   6.900  0.100001  0.750001  \n",
       "11919  6.250002   5.475  3.225000  2.975001  "
      ]
     },
     "execution_count": 360,
     "metadata": {},
     "output_type": "execute_result"
    }
   ],
   "source": [
    "X_Newtest.head()"
   ]
  },
  {
   "cell_type": "code",
   "execution_count": 361,
   "id": "128838da-15e7-4c9c-8ce0-d6e3f3cbe67a",
   "metadata": {},
   "outputs": [
    {
     "data": {
      "text/plain": [
       "1369    -9999.0\n",
       "4780        0.0\n",
       "9383        0.0\n",
       "12314   -9999.0\n",
       "11919   -9999.0\n",
       "Name: rain, dtype: float64"
      ]
     },
     "execution_count": 361,
     "metadata": {},
     "output_type": "execute_result"
    }
   ],
   "source": [
    "y_Newtest.head()"
   ]
  },
  {
   "cell_type": "code",
   "execution_count": 362,
   "id": "d6fb8819-d830-4c97-b19a-a114e38202e4",
   "metadata": {},
   "outputs": [
    {
     "name": "stdout",
     "output_type": "stream",
     "text": [
      "y_test =  [-9999.     0.     0. -9999. -9999. -9999.     0.     0.     0.     0.]\n"
     ]
    }
   ],
   "source": [
    "y_test = y_Newtest.values\n",
    "print('y_test = ', y_test[: 10])"
   ]
  },
  {
   "cell_type": "code",
   "execution_count": 363,
   "id": "7b5a788d-a572-4b9b-b209-5279e7b33b99",
   "metadata": {},
   "outputs": [
    {
     "name": "stdout",
     "output_type": "stream",
     "text": [
      "X1_test =  [30.  30.  27.5 25.  25.  25.  30.  27.5 27.5 27.5]\n",
      "X2_test =  [70.  77.5 75.  70.  70.  70.  75.  70.  75.  75. ]\n",
      "X3_test =  [ 0.038      -0.03975    -0.025       0.01125    -0.04375    -0.03475\n",
      "  0.03825     0.212       0.22749999  0.239     ]\n"
     ]
    }
   ],
   "source": [
    "# testing/validarion set preparation\n",
    "X1_test = df_Newtest.values[:, 0]                \n",
    "X2_test = df_Newtest.values[:, 1]                 \n",
    "X3_test = df_Newtest.values[:, 2]               \n",
    "X4_test = df_Newtest.values[:, 3]               \n",
    "X5_test = df_Newtest.values[:, 4]     \n",
    "X6_test = df_Newtest.values[:, 5]\n",
    "X7_test = df_Newtest.values[:, 6]\n",
    "X8_test = df_Newtest.values[:, 7]\n",
    "X9_test = df_Newtest.values[:, 8]\n",
    "X10_test = df_Newtest.values[:, 9]\n",
    "X11_test = df_Newtest.values[:, 10]\n",
    "X12_test = df_Newtest.values[:, 11]\n",
    "X13_test = df_Newtest.values[:, 12]\n",
    "X14_test = df_Newtest.values[:, 13]\n",
    "X15_test = df_Newtest.values[:, 14]\n",
    "X16_test = df_Newtest.values[:, 15]\n",
    "X17_test = df_Newtest.values[:, 16]\n",
    "X18_test = df_Newtest.values[:, 17]\n",
    "X19_test = df_Newtest.values[:, 18]\n",
    "\n",
    "\n",
    "print('X1_test = ', X1_test[: 10]) \n",
    "print('X2_test = ', X2_test[: 10])\n",
    "print('X3_test = ', X3_test[: 10])"
   ]
  },
  {
   "cell_type": "code",
   "execution_count": 364,
   "id": "b62e1f73-a718-4518-a35e-2cfb894fb3f4",
   "metadata": {},
   "outputs": [
    {
     "data": {
      "text/plain": [
       "array([[1.],\n",
       "       [1.],\n",
       "       [1.],\n",
       "       [1.],\n",
       "       [1.]])"
      ]
     },
     "execution_count": 364,
     "metadata": {},
     "output_type": "execute_result"
    }
   ],
   "source": [
    "m_test = len(X_Newtest)             \n",
    "X_0_test = np.ones((m_test, 1))     # Single column matrix of all ones\n",
    "X_0_test [: 5]"
   ]
  },
  {
   "cell_type": "code",
   "execution_count": 365,
   "id": "845feda8-725e-4f60-bb01-06a5feb24484",
   "metadata": {},
   "outputs": [
    {
     "name": "stdout",
     "output_type": "stream",
     "text": [
      "X_1_test =  [[30. ]\n",
      " [30. ]\n",
      " [27.5]\n",
      " [25. ]\n",
      " [25. ]]\n",
      "X_2_test =  [[70. ]\n",
      " [77.5]\n",
      " [75. ]\n",
      " [70. ]\n",
      " [70. ]]\n"
     ]
    }
   ],
   "source": [
    "# 1D arrays of validation X's to 2D array conversion\n",
    "\n",
    "X_1_test = X1_test.reshape(m_test, 1)\n",
    "X_2_test = X2_test.reshape(m_test, 1)\n",
    "X_3_test = X3_test.reshape(m_test, 1)\n",
    "X_4_test = X4_test.reshape(m_test, 1)\n",
    "X_5_test = X5_test.reshape(m_test, 1)\n",
    "X_6_test = X6_test.reshape(m_test, 1)\n",
    "X_7_test = X7_test.reshape(m_test, 1)\n",
    "X_8_test = X8_test.reshape(m_test, 1)\n",
    "X_9_test = X9_test.reshape(m_test, 1)\n",
    "X_10_test = X10_test.reshape(m_test, 1)\n",
    "X_11_test = X11_test.reshape(m_test, 1)\n",
    "X_12_test = X12_test.reshape(m_test, 1)\n",
    "X_13_test = X13_test.reshape(m_test, 1)\n",
    "X_14_test = X14_test.reshape(m_test, 1)\n",
    "X_15_test = X15_test.reshape(m_test, 1)\n",
    "X_16_test = X16_test.reshape(m_test, 1)\n",
    "X_17_test = X17_test.reshape(m_test, 1)\n",
    "X_18_test = X18_test.reshape(m_test, 1)\n",
    "X_19_test = X19_test.reshape(m_test, 1)\n",
    "\n",
    "print('X_1_test = ', X_1_test[: 5])\n",
    "print('X_2_test = ', X_2_test[: 5])"
   ]
  },
  {
   "cell_type": "code",
   "execution_count": 366,
   "id": "29984c79-e225-4d71-bda2-3ee06e01c670",
   "metadata": {},
   "outputs": [],
   "source": [
    "# Final Matrix for validation\n",
    "X_test = np.hstack((X_0_test, X_1_test, X_2_test, X_3_test, X_4_test, X_5_test, X_6_test, X_7_test, X_8_test, X_9_test, X_10_test, X_11_test, X_12_test, X_13_test, X_14_test, X_15_test, X_16_test, X_17_test, X_18_test, X_19_test))"
   ]
  },
  {
   "cell_type": "code",
   "execution_count": 367,
   "id": "e993a31f-70fa-4d16-ab5d-85247f055d82",
   "metadata": {},
   "outputs": [],
   "source": [
    "# computing cost for linear regression\n",
    "\n",
    "def compute_cost(X, y, theta, m):\n",
    "    predictions = X.dot(theta)\n",
    "    errors = np.subtract(predictions, y)\n",
    "    sqrErrors = np.square(errors)\n",
    "    J = 1 / (2 * m) * np.sum(sqrErrors)\n",
    "    return J"
   ]
  },
  {
   "cell_type": "code",
   "execution_count": 368,
   "id": "c3bee626-ec44-4010-afe7-6a0adf799a10",
   "metadata": {},
   "outputs": [
    {
     "name": "stdout",
     "output_type": "stream",
     "text": [
      "The initial cost for given theta values =  11884169.648471678\n"
     ]
    }
   ],
   "source": [
    "# computing cost for initial theta values\n",
    "cost = compute_cost(X, y, theta, m)\n",
    "print('The initial cost for given theta values = ', cost)"
   ]
  },
  {
   "cell_type": "code",
   "execution_count": 369,
   "id": "46905e19-6b78-4ad7-b30f-643d3656c0e7",
   "metadata": {},
   "outputs": [],
   "source": [
    "# definition of gradient descent\n",
    "\n",
    "def gradient_descent(X, y, theta, alpha, iterations):\n",
    "    cost_history = np.zeros(iterations)\n",
    "    cost_test = np.zeros(iterations)\n",
    "    for i in range(iterations):\n",
    "        predictions = X.dot(theta)\n",
    "        errors = np.subtract(predictions, y)\n",
    "        sum_delta = (alpha / m) * X.transpose().dot(errors);\n",
    "        theta = theta - sum_delta;\n",
    "        cost_history[i] = compute_cost(X, y, theta, m)                     # training loss\n",
    "        cost_test[i] = compute_cost(X_test, y_test, theta, m_test)         # validation loss\n",
    "    \n",
    "    return theta, cost_history, cost_test"
   ]
  },
  {
   "cell_type": "code",
   "execution_count": 370,
   "id": "bc103a20-ed71-4602-8c56-93d15e574ebb",
   "metadata": {},
   "outputs": [],
   "source": [
    "theta = [0., 0., 0., 0., 0., 0., 0., 0., 0., 0., 0., 0., 0., 0., 0., 0., 0., 0., 0., 0.]\n",
    "iterations = 100000;\n",
    "alpha =  0.00000000000001"
   ]
  },
  {
   "cell_type": "code",
   "execution_count": 371,
   "id": "f3b6b6e4-3821-4aff-b36d-9d2c62be7c7d",
   "metadata": {},
   "outputs": [
    {
     "name": "stdout",
     "output_type": "stream",
     "text": [
      "Final value of theta= [-2.35110787e-07 -8.62981159e-06 -1.00436840e-05 -1.64841389e-08\n",
      " -1.38509762e-08 -5.38246823e-09 -4.64941624e-06 -1.75609278e-06\n",
      " -6.16959630e-06  1.46107375e-06 -2.35483762e-02 -7.35106409e-05\n",
      " -7.19224811e-05 -7.31755010e-05 -3.12628696e-06 -3.28593138e-07\n",
      "  7.58657516e-07  1.68640584e-06  1.13815214e-06 -1.31044347e-06]\n",
      "Cost_history = [11883596.6046885  11883023.67740286 11882450.86659107 ...\n",
      "  9065404.48027086  9065404.48026774  9065404.48026462]\n",
      "Cost_test = [12229356.13262271 12228766.57168168 12228177.12889449 ...\n",
      "  9247012.79473675  9247012.79408946  9247012.79344224]\n"
     ]
    }
   ],
   "source": [
    "# Computing final theta values\n",
    "# Final cost/losses for training and validation set\n",
    "\n",
    "theta, cost_history, cost_test = gradient_descent(X, y, theta, alpha, iterations)\n",
    "print('Final value of theta=', theta)\n",
    "print('Cost_history =', cost_history)\n",
    "print('Cost_test =', cost_test)"
   ]
  },
  {
   "cell_type": "code",
   "execution_count": 372,
   "id": "cc5345a5-8a12-4fbf-9ebf-344a002993ec",
   "metadata": {},
   "outputs": [
    {
     "data": {
      "text/plain": [
       "Text(0.5, 1.0, 'Convergence of Gradient Descent')"
      ]
     },
     "execution_count": 372,
     "metadata": {},
     "output_type": "execute_result"
    },
    {
     "data": {
      "image/png": "[encoded data removed]",
      "text/plain": [
       "<Figure size 1000x600 with 1 Axes>"
      ]
     },
     "metadata": {},
     "output_type": "display_data"
    }
   ],
   "source": [
    "plt.plot(range(1, iterations + 1),cost_history, color='blue', label= 'Training Loss')\n",
    "plt.plot(range(1, iterations + 1),cost_test, color='red', label= 'Validation Loss')\n",
    "plt.rcParams[\"figure.figsize\"] = (10,6)\n",
    "plt.grid()\n",
    "plt.legend()\n",
    "plt.xlabel('Number of Iterations')\n",
    "plt.ylabel('Cost (J)')\n",
    "plt.title('Convergence of Gradient Descent')"
   ]
  },
  {
   "cell_type": "code",
   "execution_count": null,
   "id": "f4c19542-099e-45c4-92a7-51205ec76541",
   "metadata": {},
   "outputs": [],
   "source": []
  }
 ],
 "metadata": {
  "kernelspec": {
   "display_name": "Python 3 (ipykernel)",
   "language": "python",
   "name": "python3"
  },
  "language_info": {
   "codemirror_mode": {
    "name": "ipython",
    "version": 3
   },
   "file_extension": ".py",
   "mimetype": "text/x-python",
   "name": "python",
   "nbconvert_exporter": "python",
   "pygments_lexer": "ipython3",
   "version": "3.7.15"
  }
 },
 "nbformat": 4,
 "nbformat_minor": 5
}
