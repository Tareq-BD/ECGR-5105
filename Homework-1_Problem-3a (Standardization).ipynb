{
 "cells": [
  {
   "cell_type": "code",
   "execution_count": 2,
   "id": "99b24d93-9804-4782-8d0d-d66b42660668",
   "metadata": {},
   "outputs": [],
   "source": [
    "import numpy as np\n",
    "import pandas as pd\n",
    "import matplotlib.pyplot as plt     # Data Visualisation\n",
    "import seaborn as sns\n",
    "import sklearn\n",
    "\n",
    "import warnings\n",
    "warnings.filterwarnings('ignore')"
   ]
  },
  {
   "cell_type": "code",
   "execution_count": 3,
   "id": "1de77920-984d-49c6-8f4b-4abdfe19fd22",
   "metadata": {},
   "outputs": [
    {
     "data": {
      "text/html": [
       "<div>\n",
       "<style scoped>\n",
       "    .dataframe tbody tr th:only-of-type {\n",
       "        vertical-align: middle;\n",
       "    }\n",
       "\n",
       "    .dataframe tbody tr th {\n",
       "        vertical-align: top;\n",
       "    }\n",
       "\n",
       "    .dataframe thead th {\n",
       "        text-align: right;\n",
       "    }\n",
       "</style>\n",
       "<table border=\"1\" class=\"dataframe\">\n",
       "  <thead>\n",
       "    <tr style=\"text-align: right;\">\n",
       "      <th></th>\n",
       "      <th>price</th>\n",
       "      <th>area</th>\n",
       "      <th>bedrooms</th>\n",
       "      <th>bathrooms</th>\n",
       "      <th>stories</th>\n",
       "      <th>mainroad</th>\n",
       "      <th>guestroom</th>\n",
       "      <th>basement</th>\n",
       "      <th>hotwaterheating</th>\n",
       "      <th>airconditioning</th>\n",
       "      <th>parking</th>\n",
       "      <th>prefarea</th>\n",
       "      <th>furnishingstatus</th>\n",
       "    </tr>\n",
       "  </thead>\n",
       "  <tbody>\n",
       "    <tr>\n",
       "      <th>0</th>\n",
       "      <td>13300000</td>\n",
       "      <td>7420</td>\n",
       "      <td>4</td>\n",
       "      <td>2</td>\n",
       "      <td>3</td>\n",
       "      <td>yes</td>\n",
       "      <td>no</td>\n",
       "      <td>no</td>\n",
       "      <td>no</td>\n",
       "      <td>yes</td>\n",
       "      <td>2</td>\n",
       "      <td>yes</td>\n",
       "      <td>furnished</td>\n",
       "    </tr>\n",
       "    <tr>\n",
       "      <th>1</th>\n",
       "      <td>12250000</td>\n",
       "      <td>8960</td>\n",
       "      <td>4</td>\n",
       "      <td>4</td>\n",
       "      <td>4</td>\n",
       "      <td>yes</td>\n",
       "      <td>no</td>\n",
       "      <td>no</td>\n",
       "      <td>no</td>\n",
       "      <td>yes</td>\n",
       "      <td>3</td>\n",
       "      <td>no</td>\n",
       "      <td>furnished</td>\n",
       "    </tr>\n",
       "    <tr>\n",
       "      <th>2</th>\n",
       "      <td>12250000</td>\n",
       "      <td>9960</td>\n",
       "      <td>3</td>\n",
       "      <td>2</td>\n",
       "      <td>2</td>\n",
       "      <td>yes</td>\n",
       "      <td>no</td>\n",
       "      <td>yes</td>\n",
       "      <td>no</td>\n",
       "      <td>no</td>\n",
       "      <td>2</td>\n",
       "      <td>yes</td>\n",
       "      <td>semi-furnished</td>\n",
       "    </tr>\n",
       "    <tr>\n",
       "      <th>3</th>\n",
       "      <td>12215000</td>\n",
       "      <td>7500</td>\n",
       "      <td>4</td>\n",
       "      <td>2</td>\n",
       "      <td>2</td>\n",
       "      <td>yes</td>\n",
       "      <td>no</td>\n",
       "      <td>yes</td>\n",
       "      <td>no</td>\n",
       "      <td>yes</td>\n",
       "      <td>3</td>\n",
       "      <td>yes</td>\n",
       "      <td>furnished</td>\n",
       "    </tr>\n",
       "    <tr>\n",
       "      <th>4</th>\n",
       "      <td>11410000</td>\n",
       "      <td>7420</td>\n",
       "      <td>4</td>\n",
       "      <td>1</td>\n",
       "      <td>2</td>\n",
       "      <td>yes</td>\n",
       "      <td>yes</td>\n",
       "      <td>yes</td>\n",
       "      <td>no</td>\n",
       "      <td>yes</td>\n",
       "      <td>2</td>\n",
       "      <td>no</td>\n",
       "      <td>furnished</td>\n",
       "    </tr>\n",
       "  </tbody>\n",
       "</table>\n",
       "</div>"
      ],
      "text/plain": [
       "      price  area  bedrooms  bathrooms  stories mainroad guestroom basement  \\\n",
       "0  13300000  7420         4          2        3      yes        no       no   \n",
       "1  12250000  8960         4          4        4      yes        no       no   \n",
       "2  12250000  9960         3          2        2      yes        no      yes   \n",
       "3  12215000  7500         4          2        2      yes        no      yes   \n",
       "4  11410000  7420         4          1        2      yes       yes      yes   \n",
       "\n",
       "  hotwaterheating airconditioning  parking prefarea furnishingstatus  \n",
       "0              no             yes        2      yes        furnished  \n",
       "1              no             yes        3       no        furnished  \n",
       "2              no              no        2      yes   semi-furnished  \n",
       "3              no             yes        3      yes        furnished  \n",
       "4              no             yes        2       no        furnished  "
      ]
     },
     "execution_count": 3,
     "metadata": {},
     "output_type": "execute_result"
    }
   ],
   "source": [
    "#import data from .csv file of guithub repository\n",
    "housing = pd.DataFrame(pd.read_csv(\"https://raw.githubusercontent.com/Tareq-BD/ECGR-5105/main/Housing.csv\"))\n",
    "housing.head()"
   ]
  },
  {
   "cell_type": "code",
   "execution_count": 4,
   "id": "230b2b5f-2aaa-43be-88b2-f0575238bf37",
   "metadata": {},
   "outputs": [
    {
     "data": {
      "text/plain": [
       "545"
      ]
     },
     "execution_count": 4,
     "metadata": {},
     "output_type": "execute_result"
    }
   ],
   "source": [
    "m = len(housing)\n",
    "m"
   ]
  },
  {
   "cell_type": "code",
   "execution_count": 5,
   "id": "570a681b-d457-4f46-846a-30b777e4b075",
   "metadata": {},
   "outputs": [
    {
     "data": {
      "text/plain": [
       "(545, 13)"
      ]
     },
     "execution_count": 5,
     "metadata": {},
     "output_type": "execute_result"
    }
   ],
   "source": [
    "housing.shape"
   ]
  },
  {
   "cell_type": "code",
   "execution_count": 6,
   "id": "7cbf386e-fe67-4568-870c-2575f4ddb822",
   "metadata": {},
   "outputs": [
    {
     "data": {
      "text/html": [
       "<div>\n",
       "<style scoped>\n",
       "    .dataframe tbody tr th:only-of-type {\n",
       "        vertical-align: middle;\n",
       "    }\n",
       "\n",
       "    .dataframe tbody tr th {\n",
       "        vertical-align: top;\n",
       "    }\n",
       "\n",
       "    .dataframe thead th {\n",
       "        text-align: right;\n",
       "    }\n",
       "</style>\n",
       "<table border=\"1\" class=\"dataframe\">\n",
       "  <thead>\n",
       "    <tr style=\"text-align: right;\">\n",
       "      <th></th>\n",
       "      <th>price</th>\n",
       "      <th>area</th>\n",
       "      <th>bedrooms</th>\n",
       "      <th>bathrooms</th>\n",
       "      <th>stories</th>\n",
       "      <th>mainroad</th>\n",
       "      <th>guestroom</th>\n",
       "      <th>basement</th>\n",
       "      <th>hotwaterheating</th>\n",
       "      <th>airconditioning</th>\n",
       "      <th>parking</th>\n",
       "      <th>prefarea</th>\n",
       "      <th>furnishingstatus</th>\n",
       "    </tr>\n",
       "  </thead>\n",
       "  <tbody>\n",
       "    <tr>\n",
       "      <th>0</th>\n",
       "      <td>13300000</td>\n",
       "      <td>7420</td>\n",
       "      <td>4</td>\n",
       "      <td>2</td>\n",
       "      <td>3</td>\n",
       "      <td>1</td>\n",
       "      <td>0</td>\n",
       "      <td>0</td>\n",
       "      <td>0</td>\n",
       "      <td>1</td>\n",
       "      <td>2</td>\n",
       "      <td>1</td>\n",
       "      <td>furnished</td>\n",
       "    </tr>\n",
       "    <tr>\n",
       "      <th>1</th>\n",
       "      <td>12250000</td>\n",
       "      <td>8960</td>\n",
       "      <td>4</td>\n",
       "      <td>4</td>\n",
       "      <td>4</td>\n",
       "      <td>1</td>\n",
       "      <td>0</td>\n",
       "      <td>0</td>\n",
       "      <td>0</td>\n",
       "      <td>1</td>\n",
       "      <td>3</td>\n",
       "      <td>0</td>\n",
       "      <td>furnished</td>\n",
       "    </tr>\n",
       "    <tr>\n",
       "      <th>2</th>\n",
       "      <td>12250000</td>\n",
       "      <td>9960</td>\n",
       "      <td>3</td>\n",
       "      <td>2</td>\n",
       "      <td>2</td>\n",
       "      <td>1</td>\n",
       "      <td>0</td>\n",
       "      <td>1</td>\n",
       "      <td>0</td>\n",
       "      <td>0</td>\n",
       "      <td>2</td>\n",
       "      <td>1</td>\n",
       "      <td>semi-furnished</td>\n",
       "    </tr>\n",
       "    <tr>\n",
       "      <th>3</th>\n",
       "      <td>12215000</td>\n",
       "      <td>7500</td>\n",
       "      <td>4</td>\n",
       "      <td>2</td>\n",
       "      <td>2</td>\n",
       "      <td>1</td>\n",
       "      <td>0</td>\n",
       "      <td>1</td>\n",
       "      <td>0</td>\n",
       "      <td>1</td>\n",
       "      <td>3</td>\n",
       "      <td>1</td>\n",
       "      <td>furnished</td>\n",
       "    </tr>\n",
       "    <tr>\n",
       "      <th>4</th>\n",
       "      <td>11410000</td>\n",
       "      <td>7420</td>\n",
       "      <td>4</td>\n",
       "      <td>1</td>\n",
       "      <td>2</td>\n",
       "      <td>1</td>\n",
       "      <td>1</td>\n",
       "      <td>1</td>\n",
       "      <td>0</td>\n",
       "      <td>1</td>\n",
       "      <td>2</td>\n",
       "      <td>0</td>\n",
       "      <td>furnished</td>\n",
       "    </tr>\n",
       "  </tbody>\n",
       "</table>\n",
       "</div>"
      ],
      "text/plain": [
       "      price  area  bedrooms  bathrooms  stories  mainroad  guestroom  \\\n",
       "0  13300000  7420         4          2        3         1          0   \n",
       "1  12250000  8960         4          4        4         1          0   \n",
       "2  12250000  9960         3          2        2         1          0   \n",
       "3  12215000  7500         4          2        2         1          0   \n",
       "4  11410000  7420         4          1        2         1          1   \n",
       "\n",
       "   basement  hotwaterheating  airconditioning  parking  prefarea  \\\n",
       "0         0                0                1        2         1   \n",
       "1         0                0                1        3         0   \n",
       "2         1                0                0        2         1   \n",
       "3         1                0                1        3         1   \n",
       "4         1                0                1        2         0   \n",
       "\n",
       "  furnishingstatus  \n",
       "0        furnished  \n",
       "1        furnished  \n",
       "2   semi-furnished  \n",
       "3        furnished  \n",
       "4        furnished  "
      ]
     },
     "execution_count": 6,
     "metadata": {},
     "output_type": "execute_result"
    }
   ],
   "source": [
    "# List of variables to map (string to numerical values)\n",
    "varlist = ['mainroad', 'guestroom', 'basement', 'hotwaterheating', 'airconditioning', 'prefarea']\n",
    "\n",
    "# Defining the map function\n",
    "def binary_map(x):\n",
    "    return x.map({'yes': 1, \"no\": 0})\n",
    "\n",
    "# Applying the function to the housing list\n",
    "housing[varlist] = housing[varlist].apply(binary_map)\n",
    "           \n",
    "# Check the housing dataframe now\n",
    "housing.head()"
   ]
  },
  {
   "cell_type": "code",
   "execution_count": 7,
   "id": "1abf074b-8948-4fcd-a31e-8d1259748f7e",
   "metadata": {},
   "outputs": [
    {
     "data": {
      "text/plain": [
       "(436, 13)"
      ]
     },
     "execution_count": 7,
     "metadata": {},
     "output_type": "execute_result"
    }
   ],
   "source": [
    "#Splitting the Data into Training and Testing Sets\n",
    "from sklearn.model_selection import train_test_split\n",
    "\n",
    "# We specify random seed so that the train and test data set always have the same rows, respectively\n",
    "np.random.seed(0)\n",
    "# split 80% as training set and 20% as testing set\n",
    "df_train, df_test = train_test_split(housing, train_size = 0.8, test_size = 0.2, random_state = 100)\n",
    "\n",
    "df_train.shape"
   ]
  },
  {
   "cell_type": "code",
   "execution_count": 8,
   "id": "90a7bfe2-37fb-4b03-bdaa-f5c2218a82b5",
   "metadata": {},
   "outputs": [
    {
     "data": {
      "text/plain": [
       "(109, 13)"
      ]
     },
     "execution_count": 8,
     "metadata": {},
     "output_type": "execute_result"
    }
   ],
   "source": [
    "df_test.shape"
   ]
  },
  {
   "cell_type": "code",
   "execution_count": 9,
   "id": "a1777175-a2a0-495d-b048-b64c68fc54fb",
   "metadata": {},
   "outputs": [
    {
     "data": {
      "text/html": [
       "<div>\n",
       "<style scoped>\n",
       "    .dataframe tbody tr th:only-of-type {\n",
       "        vertical-align: middle;\n",
       "    }\n",
       "\n",
       "    .dataframe tbody tr th {\n",
       "        vertical-align: top;\n",
       "    }\n",
       "\n",
       "    .dataframe thead th {\n",
       "        text-align: right;\n",
       "    }\n",
       "</style>\n",
       "<table border=\"1\" class=\"dataframe\">\n",
       "  <thead>\n",
       "    <tr style=\"text-align: right;\">\n",
       "      <th></th>\n",
       "      <th>area</th>\n",
       "      <th>bedrooms</th>\n",
       "      <th>bathrooms</th>\n",
       "      <th>stories</th>\n",
       "      <th>parking</th>\n",
       "      <th>price</th>\n",
       "    </tr>\n",
       "  </thead>\n",
       "  <tbody>\n",
       "    <tr>\n",
       "      <th>22</th>\n",
       "      <td>8050</td>\n",
       "      <td>3</td>\n",
       "      <td>1</td>\n",
       "      <td>1</td>\n",
       "      <td>1</td>\n",
       "      <td>8645000</td>\n",
       "    </tr>\n",
       "    <tr>\n",
       "      <th>41</th>\n",
       "      <td>6360</td>\n",
       "      <td>3</td>\n",
       "      <td>2</td>\n",
       "      <td>4</td>\n",
       "      <td>0</td>\n",
       "      <td>7840000</td>\n",
       "    </tr>\n",
       "    <tr>\n",
       "      <th>91</th>\n",
       "      <td>6750</td>\n",
       "      <td>2</td>\n",
       "      <td>1</td>\n",
       "      <td>1</td>\n",
       "      <td>2</td>\n",
       "      <td>6419000</td>\n",
       "    </tr>\n",
       "    <tr>\n",
       "      <th>118</th>\n",
       "      <td>6420</td>\n",
       "      <td>3</td>\n",
       "      <td>1</td>\n",
       "      <td>1</td>\n",
       "      <td>0</td>\n",
       "      <td>5950000</td>\n",
       "    </tr>\n",
       "    <tr>\n",
       "      <th>472</th>\n",
       "      <td>3630</td>\n",
       "      <td>4</td>\n",
       "      <td>1</td>\n",
       "      <td>2</td>\n",
       "      <td>3</td>\n",
       "      <td>3010000</td>\n",
       "    </tr>\n",
       "  </tbody>\n",
       "</table>\n",
       "</div>"
      ],
      "text/plain": [
       "     area  bedrooms  bathrooms  stories  parking    price\n",
       "22   8050         3          1        1        1  8645000\n",
       "41   6360         3          2        4        0  7840000\n",
       "91   6750         2          1        1        2  6419000\n",
       "118  6420         3          1        1        0  5950000\n",
       "472  3630         4          1        2        3  3010000"
      ]
     },
     "execution_count": 9,
     "metadata": {},
     "output_type": "execute_result"
    }
   ],
   "source": [
    "num_vars = ['area', 'bedrooms', 'bathrooms', 'stories', 'parking','price']\n",
    "df_Newtrain = df_train[num_vars]\n",
    "df_Newtest = df_test[num_vars]\n",
    "df_Newtrain.head()"
   ]
  },
  {
   "cell_type": "code",
   "execution_count": 10,
   "id": "42569f40-a14e-4e0f-aa52-121c5a05cbc1",
   "metadata": {},
   "outputs": [
    {
     "data": {
      "text/plain": [
       "(436, 6)"
      ]
     },
     "execution_count": 10,
     "metadata": {},
     "output_type": "execute_result"
    }
   ],
   "source": [
    "df_Newtrain.shape"
   ]
  },
  {
   "cell_type": "code",
   "execution_count": 11,
   "id": "46122167-d086-4cce-98da-360a36abfc85",
   "metadata": {},
   "outputs": [
    {
     "data": {
      "text/html": [
       "<div>\n",
       "<style scoped>\n",
       "    .dataframe tbody tr th:only-of-type {\n",
       "        vertical-align: middle;\n",
       "    }\n",
       "\n",
       "    .dataframe tbody tr th {\n",
       "        vertical-align: top;\n",
       "    }\n",
       "\n",
       "    .dataframe thead th {\n",
       "        text-align: right;\n",
       "    }\n",
       "</style>\n",
       "<table border=\"1\" class=\"dataframe\">\n",
       "  <thead>\n",
       "    <tr style=\"text-align: right;\">\n",
       "      <th></th>\n",
       "      <th>area</th>\n",
       "      <th>bedrooms</th>\n",
       "      <th>bathrooms</th>\n",
       "      <th>stories</th>\n",
       "      <th>parking</th>\n",
       "      <th>price</th>\n",
       "    </tr>\n",
       "  </thead>\n",
       "  <tbody>\n",
       "    <tr>\n",
       "      <th>22</th>\n",
       "      <td>1.351873</td>\n",
       "      <td>0.078679</td>\n",
       "      <td>-0.579897</td>\n",
       "      <td>-0.929023</td>\n",
       "      <td>0.311484</td>\n",
       "      <td>2.063847</td>\n",
       "    </tr>\n",
       "    <tr>\n",
       "      <th>41</th>\n",
       "      <td>0.565326</td>\n",
       "      <td>0.078679</td>\n",
       "      <td>1.410929</td>\n",
       "      <td>2.474792</td>\n",
       "      <td>-0.849261</td>\n",
       "      <td>1.632233</td>\n",
       "    </tr>\n",
       "    <tr>\n",
       "      <th>91</th>\n",
       "      <td>0.746837</td>\n",
       "      <td>-1.293483</td>\n",
       "      <td>-0.579897</td>\n",
       "      <td>-0.929023</td>\n",
       "      <td>1.472229</td>\n",
       "      <td>0.870342</td>\n",
       "    </tr>\n",
       "    <tr>\n",
       "      <th>118</th>\n",
       "      <td>0.593251</td>\n",
       "      <td>0.078679</td>\n",
       "      <td>-0.579897</td>\n",
       "      <td>-0.929023</td>\n",
       "      <td>-0.849261</td>\n",
       "      <td>0.618880</td>\n",
       "    </tr>\n",
       "    <tr>\n",
       "      <th>472</th>\n",
       "      <td>-0.705249</td>\n",
       "      <td>1.450841</td>\n",
       "      <td>-0.579897</td>\n",
       "      <td>0.205582</td>\n",
       "      <td>2.632974</td>\n",
       "      <td>-0.957447</td>\n",
       "    </tr>\n",
       "    <tr>\n",
       "      <th>344</th>\n",
       "      <td>-0.602858</td>\n",
       "      <td>-1.293483</td>\n",
       "      <td>-0.579897</td>\n",
       "      <td>-0.929023</td>\n",
       "      <td>-0.849261</td>\n",
       "      <td>-0.507067</td>\n",
       "    </tr>\n",
       "    <tr>\n",
       "      <th>1</th>\n",
       "      <td>1.775398</td>\n",
       "      <td>1.450841</td>\n",
       "      <td>5.392582</td>\n",
       "      <td>2.474792</td>\n",
       "      <td>2.632974</td>\n",
       "      <td>3.996723</td>\n",
       "    </tr>\n",
       "    <tr>\n",
       "      <th>257</th>\n",
       "      <td>1.444955</td>\n",
       "      <td>0.078679</td>\n",
       "      <td>-0.579897</td>\n",
       "      <td>-0.929023</td>\n",
       "      <td>-0.849261</td>\n",
       "      <td>-0.169283</td>\n",
       "    </tr>\n",
       "    <tr>\n",
       "      <th>184</th>\n",
       "      <td>-0.998458</td>\n",
       "      <td>0.078679</td>\n",
       "      <td>1.410929</td>\n",
       "      <td>0.205582</td>\n",
       "      <td>-0.849261</td>\n",
       "      <td>0.168501</td>\n",
       "    </tr>\n",
       "    <tr>\n",
       "      <th>275</th>\n",
       "      <td>-0.518153</td>\n",
       "      <td>-1.293483</td>\n",
       "      <td>-0.579897</td>\n",
       "      <td>-0.929023</td>\n",
       "      <td>-0.849261</td>\n",
       "      <td>-0.255606</td>\n",
       "    </tr>\n",
       "  </tbody>\n",
       "</table>\n",
       "</div>"
      ],
      "text/plain": [
       "         area  bedrooms  bathrooms   stories   parking     price\n",
       "22   1.351873  0.078679  -0.579897 -0.929023  0.311484  2.063847\n",
       "41   0.565326  0.078679   1.410929  2.474792 -0.849261  1.632233\n",
       "91   0.746837 -1.293483  -0.579897 -0.929023  1.472229  0.870342\n",
       "118  0.593251  0.078679  -0.579897 -0.929023 -0.849261  0.618880\n",
       "472 -0.705249  1.450841  -0.579897  0.205582  2.632974 -0.957447\n",
       "344 -0.602858 -1.293483  -0.579897 -0.929023 -0.849261 -0.507067\n",
       "1    1.775398  1.450841   5.392582  2.474792  2.632974  3.996723\n",
       "257  1.444955  0.078679  -0.579897 -0.929023 -0.849261 -0.169283\n",
       "184 -0.998458  0.078679   1.410929  0.205582 -0.849261  0.168501\n",
       "275 -0.518153 -1.293483  -0.579897 -0.929023 -0.849261 -0.255606"
      ]
     },
     "execution_count": 11,
     "metadata": {},
     "output_type": "execute_result"
    }
   ],
   "source": [
    "from sklearn.preprocessing import MinMaxScaler, StandardScaler\n",
    "\n",
    "scaler = StandardScaler()   # input Standardization\n",
    "# scaler = MinMaxScaler()   \n",
    "df_Newtrain[num_vars] = scaler.fit_transform(df_Newtrain[num_vars])\n",
    "df_Newtrain.head(10)"
   ]
  },
  {
   "cell_type": "code",
   "execution_count": 12,
   "id": "f2ce218f-b1d0-45f3-8752-2b28cea73b6b",
   "metadata": {},
   "outputs": [
    {
     "data": {
      "text/html": [
       "<div>\n",
       "<style scoped>\n",
       "    .dataframe tbody tr th:only-of-type {\n",
       "        vertical-align: middle;\n",
       "    }\n",
       "\n",
       "    .dataframe tbody tr th {\n",
       "        vertical-align: top;\n",
       "    }\n",
       "\n",
       "    .dataframe thead th {\n",
       "        text-align: right;\n",
       "    }\n",
       "</style>\n",
       "<table border=\"1\" class=\"dataframe\">\n",
       "  <thead>\n",
       "    <tr style=\"text-align: right;\">\n",
       "      <th></th>\n",
       "      <th>area</th>\n",
       "      <th>bedrooms</th>\n",
       "      <th>bathrooms</th>\n",
       "      <th>stories</th>\n",
       "      <th>parking</th>\n",
       "      <th>price</th>\n",
       "    </tr>\n",
       "  </thead>\n",
       "  <tbody>\n",
       "    <tr>\n",
       "      <th>265</th>\n",
       "      <td>-1.020953</td>\n",
       "      <td>-0.072023</td>\n",
       "      <td>-0.531775</td>\n",
       "      <td>0.308415</td>\n",
       "      <td>-0.643743</td>\n",
       "      <td>-0.131863</td>\n",
       "    </tr>\n",
       "    <tr>\n",
       "      <th>54</th>\n",
       "      <td>0.369177</td>\n",
       "      <td>-0.072023</td>\n",
       "      <td>1.466964</td>\n",
       "      <td>0.308415</td>\n",
       "      <td>0.545545</td>\n",
       "      <td>1.436782</td>\n",
       "    </tr>\n",
       "    <tr>\n",
       "      <th>171</th>\n",
       "      <td>2.271249</td>\n",
       "      <td>-0.072023</td>\n",
       "      <td>-0.531775</td>\n",
       "      <td>-0.936669</td>\n",
       "      <td>0.545545</td>\n",
       "      <td>0.318983</td>\n",
       "    </tr>\n",
       "    <tr>\n",
       "      <th>244</th>\n",
       "      <td>0.066200</td>\n",
       "      <td>-0.072023</td>\n",
       "      <td>-0.531775</td>\n",
       "      <td>0.308415</td>\n",
       "      <td>-0.643743</td>\n",
       "      <td>-0.053617</td>\n",
       "    </tr>\n",
       "    <tr>\n",
       "      <th>268</th>\n",
       "      <td>-0.098656</td>\n",
       "      <td>1.236396</td>\n",
       "      <td>-0.531775</td>\n",
       "      <td>0.308415</td>\n",
       "      <td>-0.643743</td>\n",
       "      <td>-0.143041</td>\n",
       "    </tr>\n",
       "    <tr>\n",
       "      <th>231</th>\n",
       "      <td>-0.379355</td>\n",
       "      <td>-0.072023</td>\n",
       "      <td>-0.531775</td>\n",
       "      <td>-0.936669</td>\n",
       "      <td>-0.643743</td>\n",
       "      <td>0.020903</td>\n",
       "    </tr>\n",
       "    <tr>\n",
       "      <th>25</th>\n",
       "      <td>0.609776</td>\n",
       "      <td>1.236396</td>\n",
       "      <td>1.466964</td>\n",
       "      <td>0.308415</td>\n",
       "      <td>1.734832</td>\n",
       "      <td>2.070202</td>\n",
       "    </tr>\n",
       "    <tr>\n",
       "      <th>169</th>\n",
       "      <td>0.609776</td>\n",
       "      <td>1.236396</td>\n",
       "      <td>1.466964</td>\n",
       "      <td>0.308415</td>\n",
       "      <td>-0.643743</td>\n",
       "      <td>0.318983</td>\n",
       "    </tr>\n",
       "    <tr>\n",
       "      <th>494</th>\n",
       "      <td>0.725620</td>\n",
       "      <td>-1.380442</td>\n",
       "      <td>-0.531775</td>\n",
       "      <td>-0.936669</td>\n",
       "      <td>-0.643743</td>\n",
       "      <td>-1.022376</td>\n",
       "    </tr>\n",
       "    <tr>\n",
       "      <th>120</th>\n",
       "      <td>0.609776</td>\n",
       "      <td>-0.072023</td>\n",
       "      <td>-0.531775</td>\n",
       "      <td>-0.936669</td>\n",
       "      <td>1.734832</td>\n",
       "      <td>0.691583</td>\n",
       "    </tr>\n",
       "  </tbody>\n",
       "</table>\n",
       "</div>"
      ],
      "text/plain": [
       "         area  bedrooms  bathrooms   stories   parking     price\n",
       "265 -1.020953 -0.072023  -0.531775  0.308415 -0.643743 -0.131863\n",
       "54   0.369177 -0.072023   1.466964  0.308415  0.545545  1.436782\n",
       "171  2.271249 -0.072023  -0.531775 -0.936669  0.545545  0.318983\n",
       "244  0.066200 -0.072023  -0.531775  0.308415 -0.643743 -0.053617\n",
       "268 -0.098656  1.236396  -0.531775  0.308415 -0.643743 -0.143041\n",
       "231 -0.379355 -0.072023  -0.531775 -0.936669 -0.643743  0.020903\n",
       "25   0.609776  1.236396   1.466964  0.308415  1.734832  2.070202\n",
       "169  0.609776  1.236396   1.466964  0.308415 -0.643743  0.318983\n",
       "494  0.725620 -1.380442  -0.531775 -0.936669 -0.643743 -1.022376\n",
       "120  0.609776 -0.072023  -0.531775 -0.936669  1.734832  0.691583"
      ]
     },
     "execution_count": 12,
     "metadata": {},
     "output_type": "execute_result"
    }
   ],
   "source": [
    "df_Newtest[num_vars] = scaler.fit_transform(df_Newtest[num_vars])\n",
    "df_Newtest.head(10)"
   ]
  },
  {
   "cell_type": "code",
   "execution_count": 13,
   "id": "cb646182-2a64-4734-8c6a-48fb33224fb1",
   "metadata": {},
   "outputs": [],
   "source": [
    "y_Newtrain = df_Newtrain.pop('price')\n",
    "X_Newtrain = df_Newtrain"
   ]
  },
  {
   "cell_type": "code",
   "execution_count": 14,
   "id": "bf7af074-c955-4a4d-ae7d-c87701cbc8a5",
   "metadata": {},
   "outputs": [
    {
     "data": {
      "text/html": [
       "<div>\n",
       "<style scoped>\n",
       "    .dataframe tbody tr th:only-of-type {\n",
       "        vertical-align: middle;\n",
       "    }\n",
       "\n",
       "    .dataframe tbody tr th {\n",
       "        vertical-align: top;\n",
       "    }\n",
       "\n",
       "    .dataframe thead th {\n",
       "        text-align: right;\n",
       "    }\n",
       "</style>\n",
       "<table border=\"1\" class=\"dataframe\">\n",
       "  <thead>\n",
       "    <tr style=\"text-align: right;\">\n",
       "      <th></th>\n",
       "      <th>area</th>\n",
       "      <th>bedrooms</th>\n",
       "      <th>bathrooms</th>\n",
       "      <th>stories</th>\n",
       "      <th>parking</th>\n",
       "    </tr>\n",
       "  </thead>\n",
       "  <tbody>\n",
       "    <tr>\n",
       "      <th>22</th>\n",
       "      <td>1.351873</td>\n",
       "      <td>0.078679</td>\n",
       "      <td>-0.579897</td>\n",
       "      <td>-0.929023</td>\n",
       "      <td>0.311484</td>\n",
       "    </tr>\n",
       "    <tr>\n",
       "      <th>41</th>\n",
       "      <td>0.565326</td>\n",
       "      <td>0.078679</td>\n",
       "      <td>1.410929</td>\n",
       "      <td>2.474792</td>\n",
       "      <td>-0.849261</td>\n",
       "    </tr>\n",
       "    <tr>\n",
       "      <th>91</th>\n",
       "      <td>0.746837</td>\n",
       "      <td>-1.293483</td>\n",
       "      <td>-0.579897</td>\n",
       "      <td>-0.929023</td>\n",
       "      <td>1.472229</td>\n",
       "    </tr>\n",
       "    <tr>\n",
       "      <th>118</th>\n",
       "      <td>0.593251</td>\n",
       "      <td>0.078679</td>\n",
       "      <td>-0.579897</td>\n",
       "      <td>-0.929023</td>\n",
       "      <td>-0.849261</td>\n",
       "    </tr>\n",
       "    <tr>\n",
       "      <th>472</th>\n",
       "      <td>-0.705249</td>\n",
       "      <td>1.450841</td>\n",
       "      <td>-0.579897</td>\n",
       "      <td>0.205582</td>\n",
       "      <td>2.632974</td>\n",
       "    </tr>\n",
       "  </tbody>\n",
       "</table>\n",
       "</div>"
      ],
      "text/plain": [
       "         area  bedrooms  bathrooms   stories   parking\n",
       "22   1.351873  0.078679  -0.579897 -0.929023  0.311484\n",
       "41   0.565326  0.078679   1.410929  2.474792 -0.849261\n",
       "91   0.746837 -1.293483  -0.579897 -0.929023  1.472229\n",
       "118  0.593251  0.078679  -0.579897 -0.929023 -0.849261\n",
       "472 -0.705249  1.450841  -0.579897  0.205582  2.632974"
      ]
     },
     "execution_count": 14,
     "metadata": {},
     "output_type": "execute_result"
    }
   ],
   "source": [
    "X_Newtrain.head()"
   ]
  },
  {
   "cell_type": "code",
   "execution_count": 15,
   "id": "90a476ae-376c-40a7-8959-aeb6a7a0221a",
   "metadata": {},
   "outputs": [
    {
     "data": {
      "text/plain": [
       "22     2.063847\n",
       "41     1.632233\n",
       "91     0.870342\n",
       "118    0.618880\n",
       "472   -0.957447\n",
       "Name: price, dtype: float64"
      ]
     },
     "execution_count": 15,
     "metadata": {},
     "output_type": "execute_result"
    }
   ],
   "source": [
    "y_Newtrain.head()"
   ]
  },
  {
   "cell_type": "code",
   "execution_count": 16,
   "id": "65d1ffb6-dc11-496a-b11f-5d128f2bcc3a",
   "metadata": {},
   "outputs": [
    {
     "name": "stdout",
     "output_type": "stream",
     "text": [
      "y =  [ 2.06384653  1.63223323  0.87034193  0.61888027 -0.95744656 -0.50706746\n",
      "  3.99672347 -0.16928314  0.16850118 -0.2556058 ]\n"
     ]
    }
   ],
   "source": [
    "y = y_Newtrain.values\n",
    "print('y = ', y[: 10])"
   ]
  },
  {
   "cell_type": "code",
   "execution_count": 17,
   "id": "9cb8f8ae-83e3-4349-8b43-d6bbce8f6ce0",
   "metadata": {},
   "outputs": [
    {
     "name": "stdout",
     "output_type": "stream",
     "text": [
      "X1 =  [ 1.35187274  0.56532627  0.746837    0.593251   -0.7052488  -0.60285813\n",
      "  1.77539777  1.44495517 -0.99845843 -0.51815313]\n",
      "X2 =  [ 0.07867901  0.07867901 -1.29348292  0.07867901  1.45084094 -1.29348292\n",
      "  1.45084094  0.07867901  0.07867901 -1.29348292]\n",
      "X3 =  [-0.57989658  1.41092949 -0.57989658 -0.57989658 -0.57989658 -0.57989658\n",
      "  5.39258163 -0.57989658  1.41092949 -0.57989658]\n",
      "X4 =  [-0.92902305  2.4747925  -0.92902305 -0.92902305  0.20558213 -0.92902305\n",
      "  2.4747925  -0.92902305  0.20558213 -0.92902305]\n",
      "X5 =  [ 0.31148433 -0.8492607   1.47222936 -0.8492607   2.6329744  -0.8492607\n",
      "  2.6329744  -0.8492607  -0.8492607  -0.8492607 ]\n"
     ]
    }
   ],
   "source": [
    "# preparing the training set\n",
    "\n",
    "X1 = df_Newtrain.values[:, 0]     # getting input value from first column and putting in Variable-1 (X1)   \n",
    "X2 = df_Newtrain.values[:, 1]     # getting input value from first column and putting in Variable-2 (X2)          \n",
    "X3 = df_Newtrain.values[:, 2]     # getting input value from first column and putting in Variable-3 (X3)           \n",
    "X4 = df_Newtrain.values[:, 3]     # getting input value from first column and putting in Variable-4 (X4)          \n",
    "X5 = df_Newtrain.values[:, 4]     # getting input value from first column and putting in Variable-5 (X5)\n",
    "\n",
    "# print first 10 values from each variable\n",
    "\n",
    "print('X1 = ', X1[: 10]) \n",
    "print('X2 = ', X2[: 10])\n",
    "print('X3 = ', X3[: 10])\n",
    "print('X4 = ', X4[: 10])\n",
    "print('X5 = ', X5[: 10])"
   ]
  },
  {
   "cell_type": "code",
   "execution_count": 18,
   "id": "0b0b9861-e83b-4265-bf6c-77e1bee1b194",
   "metadata": {},
   "outputs": [
    {
     "data": {
      "text/plain": [
       "array([[1.],\n",
       "       [1.],\n",
       "       [1.],\n",
       "       [1.],\n",
       "       [1.]])"
      ]
     },
     "execution_count": 18,
     "metadata": {},
     "output_type": "execute_result"
    }
   ],
   "source": [
    "m = len(X_Newtrain)         # size of training set\n",
    "X_0 = np.ones((m, 1))       # Creating a single column matrix (X_0) of training set size, contains all ones \n",
    "X_0 [: 5]"
   ]
  },
  {
   "cell_type": "code",
   "execution_count": 19,
   "id": "9a9c90fd-407e-45ba-a125-922950175ceb",
   "metadata": {},
   "outputs": [
    {
     "name": "stdout",
     "output_type": "stream",
     "text": [
      "X_1 =  [[ 1.35187274]\n",
      " [ 0.56532627]\n",
      " [ 0.746837  ]\n",
      " [ 0.593251  ]\n",
      " [-0.7052488 ]]\n",
      "X_2 =  [[ 0.07867901]\n",
      " [ 0.07867901]\n",
      " [-1.29348292]\n",
      " [ 0.07867901]\n",
      " [ 1.45084094]]\n",
      "X_3 =  [[-0.57989658]\n",
      " [ 1.41092949]\n",
      " [-0.57989658]\n",
      " [-0.57989658]\n",
      " [-0.57989658]]\n",
      "X_4 =  [[-0.92902305]\n",
      " [ 2.4747925 ]\n",
      " [-0.92902305]\n",
      " [-0.92902305]\n",
      " [ 0.20558213]]\n",
      "X_5 =  [[ 0.31148433]\n",
      " [-0.8492607 ]\n",
      " [ 1.47222936]\n",
      " [-0.8492607 ]\n",
      " [ 2.6329744 ]]\n"
     ]
    }
   ],
   "source": [
    "# Converting 1D arrays of X1, X2, X3, X4 and X5 to 2D arrays\n",
    "X_1 = X1.reshape(m, 1)\n",
    "X_2 = X2.reshape(m, 1)\n",
    "X_3 = X3.reshape(m, 1)\n",
    "X_4 = X4.reshape(m, 1)\n",
    "X_5 = X5.reshape(m, 1)\n",
    "\n",
    "# print first 5 values from each 2D array\n",
    "print('X_1 = ', X_1[: 5])\n",
    "print('X_2 = ', X_2[: 5])\n",
    "print('X_3 = ', X_3[: 5])\n",
    "print('X_4 = ', X_4[: 5])\n",
    "print('X_5 = ', X_5[: 5])"
   ]
  },
  {
   "cell_type": "code",
   "execution_count": 20,
   "id": "04d99a4e-5305-462b-b3df-6e91408bee11",
   "metadata": {},
   "outputs": [
    {
     "data": {
      "text/plain": [
       "array([[ 1.        ,  1.35187274,  0.07867901, -0.57989658, -0.92902305,\n",
       "         0.31148433],\n",
       "       [ 1.        ,  0.56532627,  0.07867901,  1.41092949,  2.4747925 ,\n",
       "        -0.8492607 ],\n",
       "       [ 1.        ,  0.746837  , -1.29348292, -0.57989658, -0.92902305,\n",
       "         1.47222936],\n",
       "       [ 1.        ,  0.593251  ,  0.07867901, -0.57989658, -0.92902305,\n",
       "        -0.8492607 ],\n",
       "       [ 1.        , -0.7052488 ,  1.45084094, -0.57989658,  0.20558213,\n",
       "         2.6329744 ]])"
      ]
     },
     "execution_count": 20,
     "metadata": {},
     "output_type": "execute_result"
    }
   ],
   "source": [
    "# Stacking X_0, X_1, X_2, X_3, X-4 and X_5 horizotally\n",
    "# This is the final X Matrix for training\n",
    "\n",
    "X = np.hstack((X_0, X_1, X_2, X_3, X_4, X_5))\n",
    "X [: 5]"
   ]
  },
  {
   "cell_type": "code",
   "execution_count": 21,
   "id": "cf4ebf7f-a239-4a8b-85cf-a82f299385ca",
   "metadata": {},
   "outputs": [
    {
     "data": {
      "text/plain": [
       "array([0., 0., 0., 0., 0., 0.])"
      ]
     },
     "execution_count": 21,
     "metadata": {},
     "output_type": "execute_result"
    }
   ],
   "source": [
    "theta = np.zeros(6)\n",
    "theta"
   ]
  },
  {
   "cell_type": "code",
   "execution_count": 22,
   "id": "09ee7a84-da91-4dff-9103-873690e8ddcb",
   "metadata": {},
   "outputs": [],
   "source": [
    "y_Newtest = df_Newtest.pop('price')\n",
    "X_Newtest = df_Newtest"
   ]
  },
  {
   "cell_type": "code",
   "execution_count": 23,
   "id": "ebf8bc12-d510-4f93-abfe-b111713449f8",
   "metadata": {},
   "outputs": [
    {
     "data": {
      "text/html": [
       "<div>\n",
       "<style scoped>\n",
       "    .dataframe tbody tr th:only-of-type {\n",
       "        vertical-align: middle;\n",
       "    }\n",
       "\n",
       "    .dataframe tbody tr th {\n",
       "        vertical-align: top;\n",
       "    }\n",
       "\n",
       "    .dataframe thead th {\n",
       "        text-align: right;\n",
       "    }\n",
       "</style>\n",
       "<table border=\"1\" class=\"dataframe\">\n",
       "  <thead>\n",
       "    <tr style=\"text-align: right;\">\n",
       "      <th></th>\n",
       "      <th>area</th>\n",
       "      <th>bedrooms</th>\n",
       "      <th>bathrooms</th>\n",
       "      <th>stories</th>\n",
       "      <th>parking</th>\n",
       "    </tr>\n",
       "  </thead>\n",
       "  <tbody>\n",
       "    <tr>\n",
       "      <th>265</th>\n",
       "      <td>-1.020953</td>\n",
       "      <td>-0.072023</td>\n",
       "      <td>-0.531775</td>\n",
       "      <td>0.308415</td>\n",
       "      <td>-0.643743</td>\n",
       "    </tr>\n",
       "    <tr>\n",
       "      <th>54</th>\n",
       "      <td>0.369177</td>\n",
       "      <td>-0.072023</td>\n",
       "      <td>1.466964</td>\n",
       "      <td>0.308415</td>\n",
       "      <td>0.545545</td>\n",
       "    </tr>\n",
       "    <tr>\n",
       "      <th>171</th>\n",
       "      <td>2.271249</td>\n",
       "      <td>-0.072023</td>\n",
       "      <td>-0.531775</td>\n",
       "      <td>-0.936669</td>\n",
       "      <td>0.545545</td>\n",
       "    </tr>\n",
       "    <tr>\n",
       "      <th>244</th>\n",
       "      <td>0.066200</td>\n",
       "      <td>-0.072023</td>\n",
       "      <td>-0.531775</td>\n",
       "      <td>0.308415</td>\n",
       "      <td>-0.643743</td>\n",
       "    </tr>\n",
       "    <tr>\n",
       "      <th>268</th>\n",
       "      <td>-0.098656</td>\n",
       "      <td>1.236396</td>\n",
       "      <td>-0.531775</td>\n",
       "      <td>0.308415</td>\n",
       "      <td>-0.643743</td>\n",
       "    </tr>\n",
       "  </tbody>\n",
       "</table>\n",
       "</div>"
      ],
      "text/plain": [
       "         area  bedrooms  bathrooms   stories   parking\n",
       "265 -1.020953 -0.072023  -0.531775  0.308415 -0.643743\n",
       "54   0.369177 -0.072023   1.466964  0.308415  0.545545\n",
       "171  2.271249 -0.072023  -0.531775 -0.936669  0.545545\n",
       "244  0.066200 -0.072023  -0.531775  0.308415 -0.643743\n",
       "268 -0.098656  1.236396  -0.531775  0.308415 -0.643743"
      ]
     },
     "execution_count": 23,
     "metadata": {},
     "output_type": "execute_result"
    }
   ],
   "source": [
    "X_Newtest.head()"
   ]
  },
  {
   "cell_type": "code",
   "execution_count": 24,
   "id": "128838da-15e7-4c9c-8ce0-d6e3f3cbe67a",
   "metadata": {},
   "outputs": [
    {
     "data": {
      "text/plain": [
       "265   -0.131863\n",
       "54     1.436782\n",
       "171    0.318983\n",
       "244   -0.053617\n",
       "268   -0.143041\n",
       "Name: price, dtype: float64"
      ]
     },
     "execution_count": 24,
     "metadata": {},
     "output_type": "execute_result"
    }
   ],
   "source": [
    "y_Newtest.head()"
   ]
  },
  {
   "cell_type": "code",
   "execution_count": 25,
   "id": "d6fb8819-d830-4c97-b19a-a114e38202e4",
   "metadata": {},
   "outputs": [
    {
     "name": "stdout",
     "output_type": "stream",
     "text": [
      "y_test =  [-0.13186273  1.43678245  0.31898304 -0.05361677 -0.14304072  0.02090319\n",
      "  2.07020212  0.31898304 -1.02237626  0.69158284]\n"
     ]
    }
   ],
   "source": [
    "y_test = y_Newtest.values\n",
    "print('y_test = ', y_test[: 10])"
   ]
  },
  {
   "cell_type": "code",
   "execution_count": 26,
   "id": "7b5a788d-a572-4b9b-b209-5279e7b33b99",
   "metadata": {},
   "outputs": [
    {
     "name": "stdout",
     "output_type": "stream",
     "text": [
      "X1_test =  [-1.02095327  0.3691766   2.27124853  0.06619958 -0.09865556 -0.37935486\n",
      "  0.609776    0.609776    0.72562016  0.609776  ]\n",
      "X2_test =  [-0.07202305 -0.07202305 -0.07202305 -0.07202305  1.23639571 -0.07202305\n",
      "  1.23639571  1.23639571 -1.38044181 -0.07202305]\n",
      "X3_test =  [-0.53177451  1.46696416 -0.53177451 -0.53177451 -0.53177451 -0.53177451\n",
      "  1.46696416  1.46696416 -0.53177451 -0.53177451]\n",
      "X4_test =  [ 0.30841537  0.30841537 -0.93666891  0.30841537  0.30841537 -0.93666891\n",
      "  0.30841537  0.30841537 -0.93666891 -0.93666891]\n",
      "X5_test =  [-0.64374278  0.54554473  0.54554473 -0.64374278 -0.64374278 -0.64374278\n",
      "  1.73483223 -0.64374278 -0.64374278  1.73483223]\n"
     ]
    }
   ],
   "source": [
    "# preparing the testing/validarion set\n",
    "X1_test = df_Newtest.values[:, 0]     # getting input value from first column and putting in Variable-1 (X1_test)            \n",
    "X2_test = df_Newtest.values[:, 1]     # getting input value from first column and putting in Variable-2 (X2_test)            \n",
    "X3_test = df_Newtest.values[:, 2]     # getting input value from first column and putting in Variable-3 (X3_test)           \n",
    "X4_test = df_Newtest.values[:, 3]     # getting input value from first column and putting in Variable-4 (X4_test)           \n",
    "X5_test = df_Newtest.values[:, 4]     # getting input value from first column and putting in Variable-5 (X5_test)\n",
    "\n",
    "# print first 10 values from each variable\n",
    "\n",
    "print('X1_test = ', X1_test[: 10]) \n",
    "print('X2_test = ', X2_test[: 10])\n",
    "print('X3_test = ', X3_test[: 10])\n",
    "print('X4_test = ', X4_test[: 10])\n",
    "print('X5_test = ', X5_test[: 10])"
   ]
  },
  {
   "cell_type": "code",
   "execution_count": 27,
   "id": "b62e1f73-a718-4518-a35e-2cfb894fb3f4",
   "metadata": {},
   "outputs": [
    {
     "data": {
      "text/plain": [
       "array([[1.],\n",
       "       [1.],\n",
       "       [1.],\n",
       "       [1.],\n",
       "       [1.]])"
      ]
     },
     "execution_count": 27,
     "metadata": {},
     "output_type": "execute_result"
    }
   ],
   "source": [
    "m_test = len(X_Newtest)             # size of validation set\n",
    "X_0_test = np.ones((m_test, 1))     # Creating a single column matrix (X_0_test) of validation set size, contains all ones\n",
    "X_0_test [: 5]"
   ]
  },
  {
   "cell_type": "code",
   "execution_count": 28,
   "id": "845feda8-725e-4f60-bb01-06a5feb24484",
   "metadata": {},
   "outputs": [
    {
     "name": "stdout",
     "output_type": "stream",
     "text": [
      "X_1_test =  [[-1.02095327]\n",
      " [ 0.3691766 ]\n",
      " [ 2.27124853]\n",
      " [ 0.06619958]\n",
      " [-0.09865556]]\n",
      "X_2_test =  [[-0.07202305]\n",
      " [-0.07202305]\n",
      " [-0.07202305]\n",
      " [-0.07202305]\n",
      " [ 1.23639571]]\n",
      "X_3_test =  [[-0.53177451]\n",
      " [ 1.46696416]\n",
      " [-0.53177451]\n",
      " [-0.53177451]\n",
      " [-0.53177451]]\n",
      "X_4_test =  [[ 0.30841537]\n",
      " [ 0.30841537]\n",
      " [-0.93666891]\n",
      " [ 0.30841537]\n",
      " [ 0.30841537]]\n",
      "X_5_test =  [[-0.64374278]\n",
      " [ 0.54554473]\n",
      " [ 0.54554473]\n",
      " [-0.64374278]\n",
      " [-0.64374278]]\n"
     ]
    }
   ],
   "source": [
    "# Converting 1D arrays of validation X's to 2D arrays\n",
    "\n",
    "X_1_test = X1_test.reshape(m_test, 1)\n",
    "X_2_test = X2_test.reshape(m_test, 1)\n",
    "X_3_test = X3_test.reshape(m_test, 1)\n",
    "X_4_test = X4_test.reshape(m_test, 1)\n",
    "X_5_test = X5_test.reshape(m_test, 1)\n",
    "\n",
    "# print first 5 values from each 2D array\n",
    "print('X_1_test = ', X_1_test[: 5])\n",
    "print('X_2_test = ', X_2_test[: 5])\n",
    "print('X_3_test = ', X_3_test[: 5])\n",
    "print('X_4_test = ', X_4_test[: 5])\n",
    "print('X_5_test = ', X_5_test[: 5])"
   ]
  },
  {
   "cell_type": "code",
   "execution_count": 29,
   "id": "29984c79-e225-4d71-bda2-3ee06e01c670",
   "metadata": {},
   "outputs": [
    {
     "data": {
      "text/plain": [
       "array([[ 1.        , -1.02095327, -0.07202305, -0.53177451,  0.30841537,\n",
       "        -0.64374278],\n",
       "       [ 1.        ,  0.3691766 , -0.07202305,  1.46696416,  0.30841537,\n",
       "         0.54554473],\n",
       "       [ 1.        ,  2.27124853, -0.07202305, -0.53177451, -0.93666891,\n",
       "         0.54554473],\n",
       "       [ 1.        ,  0.06619958, -0.07202305, -0.53177451,  0.30841537,\n",
       "        -0.64374278],\n",
       "       [ 1.        , -0.09865556,  1.23639571, -0.53177451,  0.30841537,\n",
       "        -0.64374278]])"
      ]
     },
     "execution_count": 29,
     "metadata": {},
     "output_type": "execute_result"
    }
   ],
   "source": [
    "# Stacking X_0_test through X_5_test horizotally\n",
    "# This is the final X Matrix for validation\n",
    "\n",
    "X_test = np.hstack((X_0_test, X_1_test, X_2_test, X_3_test, X_4_test, X_5_test))\n",
    "X_test [: 5]"
   ]
  },
  {
   "cell_type": "code",
   "execution_count": 30,
   "id": "e993a31f-70fa-4d16-ab5d-85247f055d82",
   "metadata": {},
   "outputs": [],
   "source": [
    "# defining function for computing the cost for training set\n",
    "# parameter penalty is introduced in loss function\n",
    "# theta zero has not been penalized\n",
    "\n",
    "def compute_cost(X, y, theta, m, Lambda):\n",
    "    predictions = X.dot(theta)\n",
    "    errors = np.subtract(predictions, y)\n",
    "    sqrErrors = np.square(errors)\n",
    "    sqrTheta = np.square(theta)\n",
    "    sqrTheta_new = np.delete(sqrTheta, 0)                                  # square of theta zero is excluded\n",
    "    J = 1 / (2 * m) * (np.sum(sqrErrors) + Lambda * np.sum(sqrTheta_new)) \n",
    "    return J"
   ]
  },
  {
   "cell_type": "code",
   "execution_count": 31,
   "id": "c0b272e7-e76d-4e23-b9e2-09f6544da4e5",
   "metadata": {},
   "outputs": [],
   "source": [
    "# defining function for computing the cost for validation set\n",
    "# parameters are not penalized for validation set\n",
    "\n",
    "def compute_cost_test(X_test, y_test, theta, m_test):\n",
    "    predictions = X_test.dot(theta)\n",
    "    errors = np.subtract(predictions, y_test)\n",
    "    sqrErrors = np.square(errors)\n",
    "    J = 1 / (2 * m_test) * np.sum(sqrErrors)\n",
    "    return J"
   ]
  },
  {
   "cell_type": "code",
   "execution_count": 32,
   "id": "46905e19-6b78-4ad7-b30f-643d3656c0e7",
   "metadata": {},
   "outputs": [],
   "source": [
    "# defining function for gradient descent algorithm\n",
    "# gradient descent algorithm is applied on the training set\n",
    "# gradient descent is modified for parameter penalty\n",
    "# for each iteration loss for both training and validation set is calculated\n",
    "\n",
    "def gradient_descent(X, y, theta, alpha, iterations, Lambda):\n",
    "    cost_history = np.zeros(iterations)\n",
    "    cost_test = np.zeros(iterations)\n",
    "    for i in range(iterations):\n",
    "        predictions = X.dot(theta)\n",
    "        errors = np.subtract(predictions, y)\n",
    "        sum_delta = (alpha / m) * X.transpose().dot(errors);\n",
    "        theta = np.array(theta)*(parameter_penalty) - sum_delta;                      # theta is penalized\n",
    "        cost_history[i] = compute_cost(X, y, theta, m, Lambda)                        # loss for training set\n",
    "        cost_test[i] = compute_cost_test(X_test, y_test, theta, m_test)               # loss for validation set\n",
    "    \n",
    "    return theta, cost_history, cost_test"
   ]
  },
  {
   "cell_type": "code",
   "execution_count": 36,
   "id": "bc103a20-ed71-4602-8c56-93d15e574ebb",
   "metadata": {},
   "outputs": [],
   "source": [
    "# to penalize theta values in gradient descent algorithm\n",
    "# parameter_penalty has been introduced\n",
    "# to exclude theta zero from penalizing, the first element of parameter_penalty is set to 1\n",
    "\n",
    "theta = [0., 0., 0., 0., 0., 0.]\n",
    "iterations = 500;\n",
    "alpha = 0.1\n",
    "Lambda = 5\n",
    "p = (1 - (alpha * Lambda) / m)\n",
    "parameter_penalty = np.full(shape=5, fill_value=p)\n",
    "parameter_penalty = np.insert(parameter_penalty, 0, 1)"
   ]
  },
  {
   "cell_type": "code",
   "execution_count": 37,
   "id": "3e21ece0-7bb4-4706-a8f4-79fbdcf03f35",
   "metadata": {},
   "outputs": [
    {
     "name": "stdout",
     "output_type": "stream",
     "text": [
      "The initial cost for given values of theta_0 to theta_5 =  0.5000000000000002\n"
     ]
    }
   ],
   "source": [
    "# computing the cost for initial theta values\n",
    "\n",
    "cost = compute_cost(X, y, theta, m, Lambda)\n",
    "print('The initial cost for given values of theta_0 to theta_5 = ', cost)"
   ]
  },
  {
   "cell_type": "code",
   "execution_count": 38,
   "id": "f3b6b6e4-3821-4aff-b36d-9d2c62be7c7d",
   "metadata": {},
   "outputs": [
    {
     "name": "stdout",
     "output_type": "stream",
     "text": [
      "Final value of theta= [6.27556111e-17 3.87465384e-01 4.48004757e-02 3.40623575e-01\n",
      " 2.46257037e-01 1.53830328e-01]\n",
      "cost_history = [0.41100565 0.35158224 0.31171849 0.28482227 0.26654772 0.2540256\n",
      " 0.24535822 0.23928765 0.23497779 0.23187109 0.22959423 0.22789598\n",
      " 0.22660629 0.22560921 0.22482497 0.22419819 0.22368992 0.22327244\n",
      " 0.2229257  0.22263498 0.2223893  0.22218032 0.22200158 0.22184805\n",
      " 0.22171568 0.22160121 0.221502   0.22141582 0.22134085 0.22127554\n",
      " 0.22121858 0.22116884 0.22112539 0.22108739 0.22105415 0.22102505\n",
      " 0.22099956 0.22097723 0.22095765 0.22094049 0.22092543 0.22091222\n",
      " 0.22090063 0.22089045 0.22088151 0.22087367 0.22086677 0.22086072\n",
      " 0.22085539 0.22085072 0.2208466  0.22084299 0.22083981 0.22083701\n",
      " 0.22083455 0.22083239 0.22083048 0.22082881 0.22082733 0.22082603\n",
      " 0.22082489 0.22082388 0.220823   0.22082221 0.22082153 0.22082092\n",
      " 0.22082039 0.22081992 0.2208195  0.22081913 0.22081881 0.22081853\n",
      " 0.22081828 0.22081806 0.22081786 0.22081769 0.22081754 0.2208174\n",
      " 0.22081729 0.22081718 0.22081709 0.22081701 0.22081694 0.22081687\n",
      " 0.22081682 0.22081677 0.22081672 0.22081669 0.22081665 0.22081662\n",
      " 0.2208166  0.22081657 0.22081655 0.22081653 0.22081652 0.2208165\n",
      " 0.22081649 0.22081648 0.22081647 0.22081646 0.22081645 0.22081645\n",
      " 0.22081644 0.22081643 0.22081643 0.22081642 0.22081642 0.22081642\n",
      " 0.22081641 0.22081641 0.22081641 0.22081641 0.22081641 0.2208164\n",
      " 0.2208164  0.2208164  0.2208164  0.2208164  0.2208164  0.2208164\n",
      " 0.2208164  0.2208164  0.2208164  0.2208164  0.2208164  0.2208164\n",
      " 0.2208164  0.22081639 0.22081639 0.22081639 0.22081639 0.22081639\n",
      " 0.22081639 0.22081639 0.22081639 0.22081639 0.22081639 0.22081639\n",
      " 0.22081639 0.22081639 0.22081639 0.22081639 0.22081639 0.22081639\n",
      " 0.22081639 0.22081639 0.22081639 0.22081639 0.22081639 0.22081639\n",
      " 0.22081639 0.22081639 0.22081639 0.22081639 0.22081639 0.22081639\n",
      " 0.22081639 0.22081639 0.22081639 0.22081639 0.22081639 0.22081639\n",
      " 0.22081639 0.22081639 0.22081639 0.22081639 0.22081639 0.22081639\n",
      " 0.22081639 0.22081639 0.22081639 0.22081639 0.22081639 0.22081639\n",
      " 0.22081639 0.22081639 0.22081639 0.22081639 0.22081639 0.22081639\n",
      " 0.22081639 0.22081639 0.22081639 0.22081639 0.22081639 0.22081639\n",
      " 0.22081639 0.22081639 0.22081639 0.22081639 0.22081639 0.22081639\n",
      " 0.22081639 0.22081639 0.22081639 0.22081639 0.22081639 0.22081639\n",
      " 0.22081639 0.22081639 0.22081639 0.22081639 0.22081639 0.22081639\n",
      " 0.22081639 0.22081639 0.22081639 0.22081639 0.22081639 0.22081639\n",
      " 0.22081639 0.22081639 0.22081639 0.22081639 0.22081639 0.22081639\n",
      " 0.22081639 0.22081639 0.22081639 0.22081639 0.22081639 0.22081639\n",
      " 0.22081639 0.22081639 0.22081639 0.22081639 0.22081639 0.22081639\n",
      " 0.22081639 0.22081639 0.22081639 0.22081639 0.22081639 0.22081639\n",
      " 0.22081639 0.22081639 0.22081639 0.22081639 0.22081639 0.22081639\n",
      " 0.22081639 0.22081639 0.22081639 0.22081639 0.22081639 0.22081639\n",
      " 0.22081639 0.22081639 0.22081639 0.22081639 0.22081639 0.22081639\n",
      " 0.22081639 0.22081639 0.22081639 0.22081639 0.22081639 0.22081639\n",
      " 0.22081639 0.22081639 0.22081639 0.22081639 0.22081639 0.22081639\n",
      " 0.22081639 0.22081639 0.22081639 0.22081639 0.22081639 0.22081639\n",
      " 0.22081639 0.22081639 0.22081639 0.22081639 0.22081639 0.22081639\n",
      " 0.22081639 0.22081639 0.22081639 0.22081639 0.22081639 0.22081639\n",
      " 0.22081639 0.22081639 0.22081639 0.22081639 0.22081639 0.22081639\n",
      " 0.22081639 0.22081639 0.22081639 0.22081639 0.22081639 0.22081639\n",
      " 0.22081639 0.22081639 0.22081639 0.22081639 0.22081639 0.22081639\n",
      " 0.22081639 0.22081639 0.22081639 0.22081639 0.22081639 0.22081639\n",
      " 0.22081639 0.22081639 0.22081639 0.22081639 0.22081639 0.22081639\n",
      " 0.22081639 0.22081639 0.22081639 0.22081639 0.22081639 0.22081639\n",
      " 0.22081639 0.22081639 0.22081639 0.22081639 0.22081639 0.22081639\n",
      " 0.22081639 0.22081639 0.22081639 0.22081639 0.22081639 0.22081639\n",
      " 0.22081639 0.22081639 0.22081639 0.22081639 0.22081639 0.22081639\n",
      " 0.22081639 0.22081639 0.22081639 0.22081639 0.22081639 0.22081639\n",
      " 0.22081639 0.22081639 0.22081639 0.22081639 0.22081639 0.22081639\n",
      " 0.22081639 0.22081639 0.22081639 0.22081639 0.22081639 0.22081639\n",
      " 0.22081639 0.22081639 0.22081639 0.22081639 0.22081639 0.22081639\n",
      " 0.22081639 0.22081639 0.22081639 0.22081639 0.22081639 0.22081639\n",
      " 0.22081639 0.22081639 0.22081639 0.22081639 0.22081639 0.22081639\n",
      " 0.22081639 0.22081639 0.22081639 0.22081639 0.22081639 0.22081639\n",
      " 0.22081639 0.22081639 0.22081639 0.22081639 0.22081639 0.22081639\n",
      " 0.22081639 0.22081639 0.22081639 0.22081639 0.22081639 0.22081639\n",
      " 0.22081639 0.22081639 0.22081639 0.22081639 0.22081639 0.22081639\n",
      " 0.22081639 0.22081639 0.22081639 0.22081639 0.22081639 0.22081639\n",
      " 0.22081639 0.22081639 0.22081639 0.22081639 0.22081639 0.22081639\n",
      " 0.22081639 0.22081639 0.22081639 0.22081639 0.22081639 0.22081639\n",
      " 0.22081639 0.22081639 0.22081639 0.22081639 0.22081639 0.22081639\n",
      " 0.22081639 0.22081639 0.22081639 0.22081639 0.22081639 0.22081639\n",
      " 0.22081639 0.22081639 0.22081639 0.22081639 0.22081639 0.22081639\n",
      " 0.22081639 0.22081639 0.22081639 0.22081639 0.22081639 0.22081639\n",
      " 0.22081639 0.22081639 0.22081639 0.22081639 0.22081639 0.22081639\n",
      " 0.22081639 0.22081639 0.22081639 0.22081639 0.22081639 0.22081639\n",
      " 0.22081639 0.22081639 0.22081639 0.22081639 0.22081639 0.22081639\n",
      " 0.22081639 0.22081639 0.22081639 0.22081639 0.22081639 0.22081639\n",
      " 0.22081639 0.22081639 0.22081639 0.22081639 0.22081639 0.22081639\n",
      " 0.22081639 0.22081639 0.22081639 0.22081639 0.22081639 0.22081639\n",
      " 0.22081639 0.22081639 0.22081639 0.22081639 0.22081639 0.22081639\n",
      " 0.22081639 0.22081639 0.22081639 0.22081639 0.22081639 0.22081639\n",
      " 0.22081639 0.22081639 0.22081639 0.22081639 0.22081639 0.22081639\n",
      " 0.22081639 0.22081639 0.22081639 0.22081639 0.22081639 0.22081639\n",
      " 0.22081639 0.22081639]\n",
      "cost_test = [0.4036243  0.33987065 0.29766977 0.26972688 0.25123021 0.23900233\n",
      " 0.23094236 0.22565915 0.22222988 0.22004112 0.21868414 0.21788581\n",
      " 0.21746306 0.21729269 0.21729147 0.2174029  0.21758845 0.21782169\n",
      " 0.21808441 0.21836398 0.21865163 0.21894123 0.21922853 0.21951054\n",
      " 0.21978522 0.22005119 0.22030754 0.22055372 0.22078942 0.22101453\n",
      " 0.22122908 0.2214332  0.2216271  0.22181104 0.22198534 0.22215031\n",
      " 0.22230632 0.22245373 0.2225929  0.22272421 0.22284802 0.2229647\n",
      " 0.22307459 0.22317805 0.22327541 0.22336699 0.2234531  0.22353405\n",
      " 0.22361012 0.22368157 0.22374869 0.22381171 0.22387086 0.22392639\n",
      " 0.22397849 0.22402737 0.22407323 0.22411624 0.22415657 0.2241944\n",
      " 0.22422986 0.2242631  0.22429427 0.22432348 0.22435086 0.22437651\n",
      " 0.22440056 0.22442309 0.2244442  0.22446398 0.22448252 0.22449988\n",
      " 0.22451615 0.22453139 0.22454567 0.22455904 0.22457157 0.22458331\n",
      " 0.2245943  0.2246046  0.22461425 0.22462329 0.22463176 0.22463969\n",
      " 0.22464712 0.22465408 0.22466059 0.2246667  0.22467242 0.22467778\n",
      " 0.2246828  0.2246875  0.22469191 0.22469604 0.2246999  0.22470353\n",
      " 0.22470692 0.2247101  0.22471308 0.22471587 0.22471849 0.22472094\n",
      " 0.22472324 0.22472539 0.22472741 0.2247293  0.22473107 0.22473273\n",
      " 0.22473428 0.22473574 0.22473711 0.22473839 0.22473959 0.22474071\n",
      " 0.22474177 0.22474276 0.22474368 0.22474455 0.22474537 0.22474613\n",
      " 0.22474685 0.22474752 0.22474815 0.22474874 0.22474929 0.22474981\n",
      " 0.2247503  0.22475075 0.22475118 0.22475158 0.22475196 0.22475231\n",
      " 0.22475264 0.22475295 0.22475324 0.22475352 0.22475377 0.22475401\n",
      " 0.22475424 0.22475445 0.22475465 0.22475483 0.22475501 0.22475517\n",
      " 0.22475533 0.22475547 0.2247556  0.22475573 0.22475585 0.22475596\n",
      " 0.22475607 0.22475617 0.22475626 0.22475635 0.22475643 0.2247565\n",
      " 0.22475657 0.22475664 0.22475671 0.22475676 0.22475682 0.22475687\n",
      " 0.22475692 0.22475697 0.22475701 0.22475705 0.22475709 0.22475713\n",
      " 0.22475716 0.22475719 0.22475722 0.22475725 0.22475727 0.2247573\n",
      " 0.22475732 0.22475734 0.22475736 0.22475738 0.2247574  0.22475742\n",
      " 0.22475743 0.22475745 0.22475746 0.22475748 0.22475749 0.2247575\n",
      " 0.22475751 0.22475752 0.22475753 0.22475754 0.22475755 0.22475756\n",
      " 0.22475756 0.22475757 0.22475758 0.22475758 0.22475759 0.22475759\n",
      " 0.2247576  0.2247576  0.22475761 0.22475761 0.22475762 0.22475762\n",
      " 0.22475763 0.22475763 0.22475763 0.22475763 0.22475764 0.22475764\n",
      " 0.22475764 0.22475764 0.22475765 0.22475765 0.22475765 0.22475765\n",
      " 0.22475765 0.22475766 0.22475766 0.22475766 0.22475766 0.22475766\n",
      " 0.22475766 0.22475766 0.22475766 0.22475767 0.22475767 0.22475767\n",
      " 0.22475767 0.22475767 0.22475767 0.22475767 0.22475767 0.22475767\n",
      " 0.22475767 0.22475767 0.22475767 0.22475767 0.22475767 0.22475767\n",
      " 0.22475767 0.22475768 0.22475768 0.22475768 0.22475768 0.22475768\n",
      " 0.22475768 0.22475768 0.22475768 0.22475768 0.22475768 0.22475768\n",
      " 0.22475768 0.22475768 0.22475768 0.22475768 0.22475768 0.22475768\n",
      " 0.22475768 0.22475768 0.22475768 0.22475768 0.22475768 0.22475768\n",
      " 0.22475768 0.22475768 0.22475768 0.22475768 0.22475768 0.22475768\n",
      " 0.22475768 0.22475768 0.22475768 0.22475768 0.22475768 0.22475768\n",
      " 0.22475768 0.22475768 0.22475768 0.22475768 0.22475768 0.22475768\n",
      " 0.22475768 0.22475768 0.22475768 0.22475768 0.22475768 0.22475768\n",
      " 0.22475768 0.22475768 0.22475768 0.22475768 0.22475768 0.22475768\n",
      " 0.22475768 0.22475768 0.22475768 0.22475768 0.22475768 0.22475768\n",
      " 0.22475768 0.22475768 0.22475768 0.22475768 0.22475768 0.22475768\n",
      " 0.22475768 0.22475768 0.22475768 0.22475768 0.22475768 0.22475768\n",
      " 0.22475768 0.22475768 0.22475768 0.22475768 0.22475768 0.22475768\n",
      " 0.22475768 0.22475768 0.22475768 0.22475768 0.22475768 0.22475768\n",
      " 0.22475768 0.22475768 0.22475768 0.22475768 0.22475768 0.22475768\n",
      " 0.22475768 0.22475768 0.22475768 0.22475768 0.22475768 0.22475768\n",
      " 0.22475768 0.22475768 0.22475768 0.22475768 0.22475768 0.22475768\n",
      " 0.22475768 0.22475768 0.22475768 0.22475768 0.22475768 0.22475768\n",
      " 0.22475768 0.22475768 0.22475768 0.22475768 0.22475768 0.22475768\n",
      " 0.22475768 0.22475768 0.22475768 0.22475768 0.22475768 0.22475768\n",
      " 0.22475768 0.22475768 0.22475768 0.22475768 0.22475768 0.22475768\n",
      " 0.22475768 0.22475768 0.22475768 0.22475768 0.22475768 0.22475768\n",
      " 0.22475768 0.22475768 0.22475768 0.22475768 0.22475768 0.22475768\n",
      " 0.22475768 0.22475768 0.22475768 0.22475768 0.22475768 0.22475768\n",
      " 0.22475768 0.22475768 0.22475768 0.22475768 0.22475768 0.22475768\n",
      " 0.22475768 0.22475768 0.22475768 0.22475768 0.22475768 0.22475768\n",
      " 0.22475768 0.22475768 0.22475768 0.22475768 0.22475768 0.22475768\n",
      " 0.22475768 0.22475768 0.22475768 0.22475768 0.22475768 0.22475768\n",
      " 0.22475768 0.22475768 0.22475768 0.22475768 0.22475768 0.22475768\n",
      " 0.22475768 0.22475768 0.22475768 0.22475768 0.22475768 0.22475768\n",
      " 0.22475768 0.22475768 0.22475768 0.22475768 0.22475768 0.22475768\n",
      " 0.22475768 0.22475768 0.22475768 0.22475768 0.22475768 0.22475768\n",
      " 0.22475768 0.22475768 0.22475768 0.22475768 0.22475768 0.22475768\n",
      " 0.22475768 0.22475768 0.22475768 0.22475768 0.22475768 0.22475768\n",
      " 0.22475768 0.22475768 0.22475768 0.22475768 0.22475768 0.22475768\n",
      " 0.22475768 0.22475768 0.22475768 0.22475768 0.22475768 0.22475768\n",
      " 0.22475768 0.22475768 0.22475768 0.22475768 0.22475768 0.22475768\n",
      " 0.22475768 0.22475768 0.22475768 0.22475768 0.22475768 0.22475768\n",
      " 0.22475768 0.22475768 0.22475768 0.22475768 0.22475768 0.22475768\n",
      " 0.22475768 0.22475768 0.22475768 0.22475768 0.22475768 0.22475768\n",
      " 0.22475768 0.22475768 0.22475768 0.22475768 0.22475768 0.22475768\n",
      " 0.22475768 0.22475768 0.22475768 0.22475768 0.22475768 0.22475768\n",
      " 0.22475768 0.22475768 0.22475768 0.22475768 0.22475768 0.22475768\n",
      " 0.22475768 0.22475768]\n"
     ]
    }
   ],
   "source": [
    "# Computing final theta values and cost/losses for training and validation set\n",
    "\n",
    "theta, cost_history, cost_test = gradient_descent(X, y, theta, alpha, iterations, Lambda)\n",
    "print('Final value of theta=', theta)\n",
    "print('cost_history =', cost_history)\n",
    "print('cost_test =', cost_test)"
   ]
  },
  {
   "cell_type": "code",
   "execution_count": 39,
   "id": "cc5345a5-8a12-4fbf-9ebf-344a002993ec",
   "metadata": {},
   "outputs": [
    {
     "data": {
      "text/plain": [
       "Text(0.5, 1.0, 'Convergence of Gradient Descent')"
      ]
     },
     "execution_count": 39,
     "metadata": {},
     "output_type": "execute_result"
    },
    {
     "data": {
      "image/png": "[encoded data removed]",
      "text/plain": [
       "<Figure size 640x480 with 1 Axes>"
      ]
     },
     "metadata": {},
     "output_type": "display_data"
    }
   ],
   "source": [
    "plt.plot(range(1, iterations + 1),cost_history, color='green', label= 'Loss for Training Set')\n",
    "plt.plot(range(1, iterations + 1),cost_test, color='red', label= 'Loss for Validation Set')\n",
    "plt.rcParams[\"figure.figsize\"] = (10,6)\n",
    "plt.grid()\n",
    "plt.legend()\n",
    "plt.xlabel('Number of Iterations')\n",
    "plt.ylabel('Cost (J)')\n",
    "plt.title('Convergence of Gradient Descent')"
   ]
  }
 ],
 "metadata": {
  "kernelspec": {
   "display_name": "Python 3 (ipykernel)",
   "language": "python",
   "name": "python3"
  },
  "language_info": {
   "codemirror_mode": {
    "name": "ipython",
    "version": 3
   },
   "file_extension": ".py",
   "mimetype": "text/x-python",
   "name": "python",
   "nbconvert_exporter": "python",
   "pygments_lexer": "ipython3",
   "version": "3.10.4"
  }
 },
 "nbformat": 4,
 "nbformat_minor": 5
}
