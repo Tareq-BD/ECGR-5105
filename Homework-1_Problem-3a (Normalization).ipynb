{
 "cells": [
  {
   "cell_type": "code",
   "execution_count": 4,
   "id": "99b24d93-9804-4782-8d0d-d66b42660668",
   "metadata": {},
   "outputs": [],
   "source": [
    "import numpy as np\n",
    "import pandas as pd\n",
    "import matplotlib.pyplot as plt     # Data Visualisation\n",
    "import seaborn as sns\n",
    "import sklearn\n",
    "\n",
    "import warnings\n",
    "warnings.filterwarnings('ignore')"
   ]
  },
  {
   "cell_type": "code",
   "execution_count": 5,
   "id": "1de77920-984d-49c6-8f4b-4abdfe19fd22",
   "metadata": {},
   "outputs": [
    {
     "data": {
      "text/html": [
       "<div>\n",
       "<style scoped>\n",
       "    .dataframe tbody tr th:only-of-type {\n",
       "        vertical-align: middle;\n",
       "    }\n",
       "\n",
       "    .dataframe tbody tr th {\n",
       "        vertical-align: top;\n",
       "    }\n",
       "\n",
       "    .dataframe thead th {\n",
       "        text-align: right;\n",
       "    }\n",
       "</style>\n",
       "<table border=\"1\" class=\"dataframe\">\n",
       "  <thead>\n",
       "    <tr style=\"text-align: right;\">\n",
       "      <th></th>\n",
       "      <th>price</th>\n",
       "      <th>area</th>\n",
       "      <th>bedrooms</th>\n",
       "      <th>bathrooms</th>\n",
       "      <th>stories</th>\n",
       "      <th>mainroad</th>\n",
       "      <th>guestroom</th>\n",
       "      <th>basement</th>\n",
       "      <th>hotwaterheating</th>\n",
       "      <th>airconditioning</th>\n",
       "      <th>parking</th>\n",
       "      <th>prefarea</th>\n",
       "      <th>furnishingstatus</th>\n",
       "    </tr>\n",
       "  </thead>\n",
       "  <tbody>\n",
       "    <tr>\n",
       "      <th>0</th>\n",
       "      <td>13300000</td>\n",
       "      <td>7420</td>\n",
       "      <td>4</td>\n",
       "      <td>2</td>\n",
       "      <td>3</td>\n",
       "      <td>yes</td>\n",
       "      <td>no</td>\n",
       "      <td>no</td>\n",
       "      <td>no</td>\n",
       "      <td>yes</td>\n",
       "      <td>2</td>\n",
       "      <td>yes</td>\n",
       "      <td>furnished</td>\n",
       "    </tr>\n",
       "    <tr>\n",
       "      <th>1</th>\n",
       "      <td>12250000</td>\n",
       "      <td>8960</td>\n",
       "      <td>4</td>\n",
       "      <td>4</td>\n",
       "      <td>4</td>\n",
       "      <td>yes</td>\n",
       "      <td>no</td>\n",
       "      <td>no</td>\n",
       "      <td>no</td>\n",
       "      <td>yes</td>\n",
       "      <td>3</td>\n",
       "      <td>no</td>\n",
       "      <td>furnished</td>\n",
       "    </tr>\n",
       "    <tr>\n",
       "      <th>2</th>\n",
       "      <td>12250000</td>\n",
       "      <td>9960</td>\n",
       "      <td>3</td>\n",
       "      <td>2</td>\n",
       "      <td>2</td>\n",
       "      <td>yes</td>\n",
       "      <td>no</td>\n",
       "      <td>yes</td>\n",
       "      <td>no</td>\n",
       "      <td>no</td>\n",
       "      <td>2</td>\n",
       "      <td>yes</td>\n",
       "      <td>semi-furnished</td>\n",
       "    </tr>\n",
       "    <tr>\n",
       "      <th>3</th>\n",
       "      <td>12215000</td>\n",
       "      <td>7500</td>\n",
       "      <td>4</td>\n",
       "      <td>2</td>\n",
       "      <td>2</td>\n",
       "      <td>yes</td>\n",
       "      <td>no</td>\n",
       "      <td>yes</td>\n",
       "      <td>no</td>\n",
       "      <td>yes</td>\n",
       "      <td>3</td>\n",
       "      <td>yes</td>\n",
       "      <td>furnished</td>\n",
       "    </tr>\n",
       "    <tr>\n",
       "      <th>4</th>\n",
       "      <td>11410000</td>\n",
       "      <td>7420</td>\n",
       "      <td>4</td>\n",
       "      <td>1</td>\n",
       "      <td>2</td>\n",
       "      <td>yes</td>\n",
       "      <td>yes</td>\n",
       "      <td>yes</td>\n",
       "      <td>no</td>\n",
       "      <td>yes</td>\n",
       "      <td>2</td>\n",
       "      <td>no</td>\n",
       "      <td>furnished</td>\n",
       "    </tr>\n",
       "  </tbody>\n",
       "</table>\n",
       "</div>"
      ],
      "text/plain": [
       "      price  area  bedrooms  bathrooms  stories mainroad guestroom basement  \\\n",
       "0  13300000  7420         4          2        3      yes        no       no   \n",
       "1  12250000  8960         4          4        4      yes        no       no   \n",
       "2  12250000  9960         3          2        2      yes        no      yes   \n",
       "3  12215000  7500         4          2        2      yes        no      yes   \n",
       "4  11410000  7420         4          1        2      yes       yes      yes   \n",
       "\n",
       "  hotwaterheating airconditioning  parking prefarea furnishingstatus  \n",
       "0              no             yes        2      yes        furnished  \n",
       "1              no             yes        3       no        furnished  \n",
       "2              no              no        2      yes   semi-furnished  \n",
       "3              no             yes        3      yes        furnished  \n",
       "4              no             yes        2       no        furnished  "
      ]
     },
     "execution_count": 5,
     "metadata": {},
     "output_type": "execute_result"
    }
   ],
   "source": [
    "#import data from .csv file of guithub repository\n",
    "housing = pd.DataFrame(pd.read_csv(\"https://raw.githubusercontent.com/Tareq-BD/ECGR-5105/main/Housing.csv\"))\n",
    "housing.head()"
   ]
  },
  {
   "cell_type": "code",
   "execution_count": 6,
   "id": "230b2b5f-2aaa-43be-88b2-f0575238bf37",
   "metadata": {},
   "outputs": [
    {
     "data": {
      "text/plain": [
       "545"
      ]
     },
     "execution_count": 6,
     "metadata": {},
     "output_type": "execute_result"
    }
   ],
   "source": [
    "m = len(housing)\n",
    "m"
   ]
  },
  {
   "cell_type": "code",
   "execution_count": 7,
   "id": "570a681b-d457-4f46-846a-30b777e4b075",
   "metadata": {},
   "outputs": [
    {
     "data": {
      "text/plain": [
       "(545, 13)"
      ]
     },
     "execution_count": 7,
     "metadata": {},
     "output_type": "execute_result"
    }
   ],
   "source": [
    "housing.shape"
   ]
  },
  {
   "cell_type": "code",
   "execution_count": 8,
   "id": "7cbf386e-fe67-4568-870c-2575f4ddb822",
   "metadata": {},
   "outputs": [
    {
     "data": {
      "text/html": [
       "<div>\n",
       "<style scoped>\n",
       "    .dataframe tbody tr th:only-of-type {\n",
       "        vertical-align: middle;\n",
       "    }\n",
       "\n",
       "    .dataframe tbody tr th {\n",
       "        vertical-align: top;\n",
       "    }\n",
       "\n",
       "    .dataframe thead th {\n",
       "        text-align: right;\n",
       "    }\n",
       "</style>\n",
       "<table border=\"1\" class=\"dataframe\">\n",
       "  <thead>\n",
       "    <tr style=\"text-align: right;\">\n",
       "      <th></th>\n",
       "      <th>price</th>\n",
       "      <th>area</th>\n",
       "      <th>bedrooms</th>\n",
       "      <th>bathrooms</th>\n",
       "      <th>stories</th>\n",
       "      <th>mainroad</th>\n",
       "      <th>guestroom</th>\n",
       "      <th>basement</th>\n",
       "      <th>hotwaterheating</th>\n",
       "      <th>airconditioning</th>\n",
       "      <th>parking</th>\n",
       "      <th>prefarea</th>\n",
       "      <th>furnishingstatus</th>\n",
       "    </tr>\n",
       "  </thead>\n",
       "  <tbody>\n",
       "    <tr>\n",
       "      <th>0</th>\n",
       "      <td>13300000</td>\n",
       "      <td>7420</td>\n",
       "      <td>4</td>\n",
       "      <td>2</td>\n",
       "      <td>3</td>\n",
       "      <td>1</td>\n",
       "      <td>0</td>\n",
       "      <td>0</td>\n",
       "      <td>0</td>\n",
       "      <td>1</td>\n",
       "      <td>2</td>\n",
       "      <td>1</td>\n",
       "      <td>furnished</td>\n",
       "    </tr>\n",
       "    <tr>\n",
       "      <th>1</th>\n",
       "      <td>12250000</td>\n",
       "      <td>8960</td>\n",
       "      <td>4</td>\n",
       "      <td>4</td>\n",
       "      <td>4</td>\n",
       "      <td>1</td>\n",
       "      <td>0</td>\n",
       "      <td>0</td>\n",
       "      <td>0</td>\n",
       "      <td>1</td>\n",
       "      <td>3</td>\n",
       "      <td>0</td>\n",
       "      <td>furnished</td>\n",
       "    </tr>\n",
       "    <tr>\n",
       "      <th>2</th>\n",
       "      <td>12250000</td>\n",
       "      <td>9960</td>\n",
       "      <td>3</td>\n",
       "      <td>2</td>\n",
       "      <td>2</td>\n",
       "      <td>1</td>\n",
       "      <td>0</td>\n",
       "      <td>1</td>\n",
       "      <td>0</td>\n",
       "      <td>0</td>\n",
       "      <td>2</td>\n",
       "      <td>1</td>\n",
       "      <td>semi-furnished</td>\n",
       "    </tr>\n",
       "    <tr>\n",
       "      <th>3</th>\n",
       "      <td>12215000</td>\n",
       "      <td>7500</td>\n",
       "      <td>4</td>\n",
       "      <td>2</td>\n",
       "      <td>2</td>\n",
       "      <td>1</td>\n",
       "      <td>0</td>\n",
       "      <td>1</td>\n",
       "      <td>0</td>\n",
       "      <td>1</td>\n",
       "      <td>3</td>\n",
       "      <td>1</td>\n",
       "      <td>furnished</td>\n",
       "    </tr>\n",
       "    <tr>\n",
       "      <th>4</th>\n",
       "      <td>11410000</td>\n",
       "      <td>7420</td>\n",
       "      <td>4</td>\n",
       "      <td>1</td>\n",
       "      <td>2</td>\n",
       "      <td>1</td>\n",
       "      <td>1</td>\n",
       "      <td>1</td>\n",
       "      <td>0</td>\n",
       "      <td>1</td>\n",
       "      <td>2</td>\n",
       "      <td>0</td>\n",
       "      <td>furnished</td>\n",
       "    </tr>\n",
       "  </tbody>\n",
       "</table>\n",
       "</div>"
      ],
      "text/plain": [
       "      price  area  bedrooms  bathrooms  stories  mainroad  guestroom  \\\n",
       "0  13300000  7420         4          2        3         1          0   \n",
       "1  12250000  8960         4          4        4         1          0   \n",
       "2  12250000  9960         3          2        2         1          0   \n",
       "3  12215000  7500         4          2        2         1          0   \n",
       "4  11410000  7420         4          1        2         1          1   \n",
       "\n",
       "   basement  hotwaterheating  airconditioning  parking  prefarea  \\\n",
       "0         0                0                1        2         1   \n",
       "1         0                0                1        3         0   \n",
       "2         1                0                0        2         1   \n",
       "3         1                0                1        3         1   \n",
       "4         1                0                1        2         0   \n",
       "\n",
       "  furnishingstatus  \n",
       "0        furnished  \n",
       "1        furnished  \n",
       "2   semi-furnished  \n",
       "3        furnished  \n",
       "4        furnished  "
      ]
     },
     "execution_count": 8,
     "metadata": {},
     "output_type": "execute_result"
    }
   ],
   "source": [
    "# List of variables to map (string to numerical values)\n",
    "varlist = ['mainroad', 'guestroom', 'basement', 'hotwaterheating', 'airconditioning', 'prefarea']\n",
    "\n",
    "# Defining the map function\n",
    "def binary_map(x):\n",
    "    return x.map({'yes': 1, \"no\": 0})\n",
    "\n",
    "# Applying the function to the housing list\n",
    "housing[varlist] = housing[varlist].apply(binary_map)\n",
    "           \n",
    "# Check the housing dataframe now\n",
    "housing.head()"
   ]
  },
  {
   "cell_type": "code",
   "execution_count": 9,
   "id": "1abf074b-8948-4fcd-a31e-8d1259748f7e",
   "metadata": {},
   "outputs": [
    {
     "data": {
      "text/plain": [
       "(436, 13)"
      ]
     },
     "execution_count": 9,
     "metadata": {},
     "output_type": "execute_result"
    }
   ],
   "source": [
    "#Splitting the Data into Training and Testing Sets\n",
    "from sklearn.model_selection import train_test_split\n",
    "\n",
    "# We specify random seed so that the train and test data set always have the same rows, respectively\n",
    "np.random.seed(0)\n",
    "# split 80% as training set and 20% as testing set\n",
    "df_train, df_test = train_test_split(housing, train_size = 0.8, test_size = 0.2, random_state = 100)\n",
    "\n",
    "df_train.shape"
   ]
  },
  {
   "cell_type": "code",
   "execution_count": 10,
   "id": "90a7bfe2-37fb-4b03-bdaa-f5c2218a82b5",
   "metadata": {},
   "outputs": [
    {
     "data": {
      "text/plain": [
       "(109, 13)"
      ]
     },
     "execution_count": 10,
     "metadata": {},
     "output_type": "execute_result"
    }
   ],
   "source": [
    "df_test.shape"
   ]
  },
  {
   "cell_type": "code",
   "execution_count": 12,
   "id": "a1777175-a2a0-495d-b048-b64c68fc54fb",
   "metadata": {},
   "outputs": [
    {
     "data": {
      "text/html": [
       "<div>\n",
       "<style scoped>\n",
       "    .dataframe tbody tr th:only-of-type {\n",
       "        vertical-align: middle;\n",
       "    }\n",
       "\n",
       "    .dataframe tbody tr th {\n",
       "        vertical-align: top;\n",
       "    }\n",
       "\n",
       "    .dataframe thead th {\n",
       "        text-align: right;\n",
       "    }\n",
       "</style>\n",
       "<table border=\"1\" class=\"dataframe\">\n",
       "  <thead>\n",
       "    <tr style=\"text-align: right;\">\n",
       "      <th></th>\n",
       "      <th>area</th>\n",
       "      <th>bedrooms</th>\n",
       "      <th>bathrooms</th>\n",
       "      <th>stories</th>\n",
       "      <th>parking</th>\n",
       "      <th>price</th>\n",
       "    </tr>\n",
       "  </thead>\n",
       "  <tbody>\n",
       "    <tr>\n",
       "      <th>22</th>\n",
       "      <td>8050</td>\n",
       "      <td>3</td>\n",
       "      <td>1</td>\n",
       "      <td>1</td>\n",
       "      <td>1</td>\n",
       "      <td>8645000</td>\n",
       "    </tr>\n",
       "    <tr>\n",
       "      <th>41</th>\n",
       "      <td>6360</td>\n",
       "      <td>3</td>\n",
       "      <td>2</td>\n",
       "      <td>4</td>\n",
       "      <td>0</td>\n",
       "      <td>7840000</td>\n",
       "    </tr>\n",
       "    <tr>\n",
       "      <th>91</th>\n",
       "      <td>6750</td>\n",
       "      <td>2</td>\n",
       "      <td>1</td>\n",
       "      <td>1</td>\n",
       "      <td>2</td>\n",
       "      <td>6419000</td>\n",
       "    </tr>\n",
       "    <tr>\n",
       "      <th>118</th>\n",
       "      <td>6420</td>\n",
       "      <td>3</td>\n",
       "      <td>1</td>\n",
       "      <td>1</td>\n",
       "      <td>0</td>\n",
       "      <td>5950000</td>\n",
       "    </tr>\n",
       "    <tr>\n",
       "      <th>472</th>\n",
       "      <td>3630</td>\n",
       "      <td>4</td>\n",
       "      <td>1</td>\n",
       "      <td>2</td>\n",
       "      <td>3</td>\n",
       "      <td>3010000</td>\n",
       "    </tr>\n",
       "  </tbody>\n",
       "</table>\n",
       "</div>"
      ],
      "text/plain": [
       "     area  bedrooms  bathrooms  stories  parking    price\n",
       "22   8050         3          1        1        1  8645000\n",
       "41   6360         3          2        4        0  7840000\n",
       "91   6750         2          1        1        2  6419000\n",
       "118  6420         3          1        1        0  5950000\n",
       "472  3630         4          1        2        3  3010000"
      ]
     },
     "execution_count": 12,
     "metadata": {},
     "output_type": "execute_result"
    }
   ],
   "source": [
    "num_vars = ['area', 'bedrooms', 'bathrooms', 'stories', 'parking','price']\n",
    "df_Newtrain = df_train[num_vars]\n",
    "df_Newtest = df_test[num_vars]\n",
    "df_Newtrain.head()"
   ]
  },
  {
   "cell_type": "code",
   "execution_count": 13,
   "id": "42569f40-a14e-4e0f-aa52-121c5a05cbc1",
   "metadata": {},
   "outputs": [
    {
     "data": {
      "text/plain": [
       "(436, 6)"
      ]
     },
     "execution_count": 13,
     "metadata": {},
     "output_type": "execute_result"
    }
   ],
   "source": [
    "df_Newtrain.shape"
   ]
  },
  {
   "cell_type": "code",
   "execution_count": 14,
   "id": "46122167-d086-4cce-98da-360a36abfc85",
   "metadata": {},
   "outputs": [
    {
     "data": {
      "text/html": [
       "<div>\n",
       "<style scoped>\n",
       "    .dataframe tbody tr th:only-of-type {\n",
       "        vertical-align: middle;\n",
       "    }\n",
       "\n",
       "    .dataframe tbody tr th {\n",
       "        vertical-align: top;\n",
       "    }\n",
       "\n",
       "    .dataframe thead th {\n",
       "        text-align: right;\n",
       "    }\n",
       "</style>\n",
       "<table border=\"1\" class=\"dataframe\">\n",
       "  <thead>\n",
       "    <tr style=\"text-align: right;\">\n",
       "      <th></th>\n",
       "      <th>area</th>\n",
       "      <th>bedrooms</th>\n",
       "      <th>bathrooms</th>\n",
       "      <th>stories</th>\n",
       "      <th>parking</th>\n",
       "      <th>price</th>\n",
       "    </tr>\n",
       "  </thead>\n",
       "  <tbody>\n",
       "    <tr>\n",
       "      <th>22</th>\n",
       "      <td>0.432609</td>\n",
       "      <td>0.4</td>\n",
       "      <td>0.000000</td>\n",
       "      <td>0.000000</td>\n",
       "      <td>0.333333</td>\n",
       "      <td>0.596970</td>\n",
       "    </tr>\n",
       "    <tr>\n",
       "      <th>41</th>\n",
       "      <td>0.314954</td>\n",
       "      <td>0.4</td>\n",
       "      <td>0.333333</td>\n",
       "      <td>1.000000</td>\n",
       "      <td>0.000000</td>\n",
       "      <td>0.527273</td>\n",
       "    </tr>\n",
       "    <tr>\n",
       "      <th>91</th>\n",
       "      <td>0.342105</td>\n",
       "      <td>0.2</td>\n",
       "      <td>0.000000</td>\n",
       "      <td>0.000000</td>\n",
       "      <td>0.666667</td>\n",
       "      <td>0.404242</td>\n",
       "    </tr>\n",
       "    <tr>\n",
       "      <th>118</th>\n",
       "      <td>0.319131</td>\n",
       "      <td>0.4</td>\n",
       "      <td>0.000000</td>\n",
       "      <td>0.000000</td>\n",
       "      <td>0.000000</td>\n",
       "      <td>0.363636</td>\n",
       "    </tr>\n",
       "    <tr>\n",
       "      <th>472</th>\n",
       "      <td>0.124896</td>\n",
       "      <td>0.6</td>\n",
       "      <td>0.000000</td>\n",
       "      <td>0.333333</td>\n",
       "      <td>1.000000</td>\n",
       "      <td>0.109091</td>\n",
       "    </tr>\n",
       "    <tr>\n",
       "      <th>344</th>\n",
       "      <td>0.140212</td>\n",
       "      <td>0.2</td>\n",
       "      <td>0.000000</td>\n",
       "      <td>0.000000</td>\n",
       "      <td>0.000000</td>\n",
       "      <td>0.181818</td>\n",
       "    </tr>\n",
       "    <tr>\n",
       "      <th>1</th>\n",
       "      <td>0.495962</td>\n",
       "      <td>0.6</td>\n",
       "      <td>1.000000</td>\n",
       "      <td>1.000000</td>\n",
       "      <td>1.000000</td>\n",
       "      <td>0.909091</td>\n",
       "    </tr>\n",
       "    <tr>\n",
       "      <th>257</th>\n",
       "      <td>0.446533</td>\n",
       "      <td>0.4</td>\n",
       "      <td>0.000000</td>\n",
       "      <td>0.000000</td>\n",
       "      <td>0.000000</td>\n",
       "      <td>0.236364</td>\n",
       "    </tr>\n",
       "    <tr>\n",
       "      <th>184</th>\n",
       "      <td>0.081036</td>\n",
       "      <td>0.4</td>\n",
       "      <td>0.333333</td>\n",
       "      <td>0.333333</td>\n",
       "      <td>0.000000</td>\n",
       "      <td>0.290909</td>\n",
       "    </tr>\n",
       "    <tr>\n",
       "      <th>275</th>\n",
       "      <td>0.152882</td>\n",
       "      <td>0.2</td>\n",
       "      <td>0.000000</td>\n",
       "      <td>0.000000</td>\n",
       "      <td>0.000000</td>\n",
       "      <td>0.222424</td>\n",
       "    </tr>\n",
       "  </tbody>\n",
       "</table>\n",
       "</div>"
      ],
      "text/plain": [
       "         area  bedrooms  bathrooms   stories   parking     price\n",
       "22   0.432609       0.4   0.000000  0.000000  0.333333  0.596970\n",
       "41   0.314954       0.4   0.333333  1.000000  0.000000  0.527273\n",
       "91   0.342105       0.2   0.000000  0.000000  0.666667  0.404242\n",
       "118  0.319131       0.4   0.000000  0.000000  0.000000  0.363636\n",
       "472  0.124896       0.6   0.000000  0.333333  1.000000  0.109091\n",
       "344  0.140212       0.2   0.000000  0.000000  0.000000  0.181818\n",
       "1    0.495962       0.6   1.000000  1.000000  1.000000  0.909091\n",
       "257  0.446533       0.4   0.000000  0.000000  0.000000  0.236364\n",
       "184  0.081036       0.4   0.333333  0.333333  0.000000  0.290909\n",
       "275  0.152882       0.2   0.000000  0.000000  0.000000  0.222424"
      ]
     },
     "execution_count": 14,
     "metadata": {},
     "output_type": "execute_result"
    }
   ],
   "source": [
    "from sklearn.preprocessing import MinMaxScaler, StandardScaler\n",
    "\n",
    "#scaler = StandardScaler()\n",
    "scaler = MinMaxScaler()   # input Normalization\n",
    "df_Newtrain[num_vars] = scaler.fit_transform(df_Newtrain[num_vars])\n",
    "df_Newtrain.head(10)"
   ]
  },
  {
   "cell_type": "code",
   "execution_count": 15,
   "id": "f2ce218f-b1d0-45f3-8752-2b28cea73b6b",
   "metadata": {},
   "outputs": [
    {
     "data": {
      "text/html": [
       "<div>\n",
       "<style scoped>\n",
       "    .dataframe tbody tr th:only-of-type {\n",
       "        vertical-align: middle;\n",
       "    }\n",
       "\n",
       "    .dataframe tbody tr th {\n",
       "        vertical-align: top;\n",
       "    }\n",
       "\n",
       "    .dataframe thead th {\n",
       "        text-align: right;\n",
       "    }\n",
       "</style>\n",
       "<table border=\"1\" class=\"dataframe\">\n",
       "  <thead>\n",
       "    <tr style=\"text-align: right;\">\n",
       "      <th></th>\n",
       "      <th>area</th>\n",
       "      <th>bedrooms</th>\n",
       "      <th>bathrooms</th>\n",
       "      <th>stories</th>\n",
       "      <th>parking</th>\n",
       "      <th>price</th>\n",
       "    </tr>\n",
       "  </thead>\n",
       "  <tbody>\n",
       "    <tr>\n",
       "      <th>265</th>\n",
       "      <td>0.088172</td>\n",
       "      <td>0.333333</td>\n",
       "      <td>0.0</td>\n",
       "      <td>0.333333</td>\n",
       "      <td>0.000000</td>\n",
       "      <td>0.248485</td>\n",
       "    </tr>\n",
       "    <tr>\n",
       "      <th>54</th>\n",
       "      <td>0.311828</td>\n",
       "      <td>0.333333</td>\n",
       "      <td>0.5</td>\n",
       "      <td>0.333333</td>\n",
       "      <td>0.333333</td>\n",
       "      <td>0.531987</td>\n",
       "    </tr>\n",
       "    <tr>\n",
       "      <th>171</th>\n",
       "      <td>0.617849</td>\n",
       "      <td>0.333333</td>\n",
       "      <td>0.0</td>\n",
       "      <td>0.000000</td>\n",
       "      <td>0.333333</td>\n",
       "      <td>0.329966</td>\n",
       "    </tr>\n",
       "    <tr>\n",
       "      <th>244</th>\n",
       "      <td>0.263082</td>\n",
       "      <td>0.333333</td>\n",
       "      <td>0.0</td>\n",
       "      <td>0.333333</td>\n",
       "      <td>0.000000</td>\n",
       "      <td>0.262626</td>\n",
       "    </tr>\n",
       "    <tr>\n",
       "      <th>268</th>\n",
       "      <td>0.236559</td>\n",
       "      <td>0.666667</td>\n",
       "      <td>0.0</td>\n",
       "      <td>0.333333</td>\n",
       "      <td>0.000000</td>\n",
       "      <td>0.246465</td>\n",
       "    </tr>\n",
       "    <tr>\n",
       "      <th>231</th>\n",
       "      <td>0.191398</td>\n",
       "      <td>0.333333</td>\n",
       "      <td>0.0</td>\n",
       "      <td>0.000000</td>\n",
       "      <td>0.000000</td>\n",
       "      <td>0.276094</td>\n",
       "    </tr>\n",
       "    <tr>\n",
       "      <th>25</th>\n",
       "      <td>0.350538</td>\n",
       "      <td>0.666667</td>\n",
       "      <td>0.5</td>\n",
       "      <td>0.333333</td>\n",
       "      <td>0.666667</td>\n",
       "      <td>0.646465</td>\n",
       "    </tr>\n",
       "    <tr>\n",
       "      <th>169</th>\n",
       "      <td>0.350538</td>\n",
       "      <td>0.666667</td>\n",
       "      <td>0.5</td>\n",
       "      <td>0.333333</td>\n",
       "      <td>0.000000</td>\n",
       "      <td>0.329966</td>\n",
       "    </tr>\n",
       "    <tr>\n",
       "      <th>494</th>\n",
       "      <td>0.369176</td>\n",
       "      <td>0.000000</td>\n",
       "      <td>0.0</td>\n",
       "      <td>0.000000</td>\n",
       "      <td>0.000000</td>\n",
       "      <td>0.087542</td>\n",
       "    </tr>\n",
       "    <tr>\n",
       "      <th>120</th>\n",
       "      <td>0.350538</td>\n",
       "      <td>0.333333</td>\n",
       "      <td>0.0</td>\n",
       "      <td>0.000000</td>\n",
       "      <td>0.666667</td>\n",
       "      <td>0.397306</td>\n",
       "    </tr>\n",
       "  </tbody>\n",
       "</table>\n",
       "</div>"
      ],
      "text/plain": [
       "         area  bedrooms  bathrooms   stories   parking     price\n",
       "265  0.088172  0.333333        0.0  0.333333  0.000000  0.248485\n",
       "54   0.311828  0.333333        0.5  0.333333  0.333333  0.531987\n",
       "171  0.617849  0.333333        0.0  0.000000  0.333333  0.329966\n",
       "244  0.263082  0.333333        0.0  0.333333  0.000000  0.262626\n",
       "268  0.236559  0.666667        0.0  0.333333  0.000000  0.246465\n",
       "231  0.191398  0.333333        0.0  0.000000  0.000000  0.276094\n",
       "25   0.350538  0.666667        0.5  0.333333  0.666667  0.646465\n",
       "169  0.350538  0.666667        0.5  0.333333  0.000000  0.329966\n",
       "494  0.369176  0.000000        0.0  0.000000  0.000000  0.087542\n",
       "120  0.350538  0.333333        0.0  0.000000  0.666667  0.397306"
      ]
     },
     "execution_count": 15,
     "metadata": {},
     "output_type": "execute_result"
    }
   ],
   "source": [
    "df_Newtest[num_vars] = scaler.fit_transform(df_Newtest[num_vars])\n",
    "df_Newtest.head(10)"
   ]
  },
  {
   "cell_type": "code",
   "execution_count": 16,
   "id": "cb646182-2a64-4734-8c6a-48fb33224fb1",
   "metadata": {},
   "outputs": [],
   "source": [
    "y_Newtrain = df_Newtrain.pop('price')\n",
    "X_Newtrain = df_Newtrain"
   ]
  },
  {
   "cell_type": "code",
   "execution_count": 17,
   "id": "bf7af074-c955-4a4d-ae7d-c87701cbc8a5",
   "metadata": {},
   "outputs": [
    {
     "data": {
      "text/html": [
       "<div>\n",
       "<style scoped>\n",
       "    .dataframe tbody tr th:only-of-type {\n",
       "        vertical-align: middle;\n",
       "    }\n",
       "\n",
       "    .dataframe tbody tr th {\n",
       "        vertical-align: top;\n",
       "    }\n",
       "\n",
       "    .dataframe thead th {\n",
       "        text-align: right;\n",
       "    }\n",
       "</style>\n",
       "<table border=\"1\" class=\"dataframe\">\n",
       "  <thead>\n",
       "    <tr style=\"text-align: right;\">\n",
       "      <th></th>\n",
       "      <th>area</th>\n",
       "      <th>bedrooms</th>\n",
       "      <th>bathrooms</th>\n",
       "      <th>stories</th>\n",
       "      <th>parking</th>\n",
       "    </tr>\n",
       "  </thead>\n",
       "  <tbody>\n",
       "    <tr>\n",
       "      <th>22</th>\n",
       "      <td>0.432609</td>\n",
       "      <td>0.4</td>\n",
       "      <td>0.000000</td>\n",
       "      <td>0.000000</td>\n",
       "      <td>0.333333</td>\n",
       "    </tr>\n",
       "    <tr>\n",
       "      <th>41</th>\n",
       "      <td>0.314954</td>\n",
       "      <td>0.4</td>\n",
       "      <td>0.333333</td>\n",
       "      <td>1.000000</td>\n",
       "      <td>0.000000</td>\n",
       "    </tr>\n",
       "    <tr>\n",
       "      <th>91</th>\n",
       "      <td>0.342105</td>\n",
       "      <td>0.2</td>\n",
       "      <td>0.000000</td>\n",
       "      <td>0.000000</td>\n",
       "      <td>0.666667</td>\n",
       "    </tr>\n",
       "    <tr>\n",
       "      <th>118</th>\n",
       "      <td>0.319131</td>\n",
       "      <td>0.4</td>\n",
       "      <td>0.000000</td>\n",
       "      <td>0.000000</td>\n",
       "      <td>0.000000</td>\n",
       "    </tr>\n",
       "    <tr>\n",
       "      <th>472</th>\n",
       "      <td>0.124896</td>\n",
       "      <td>0.6</td>\n",
       "      <td>0.000000</td>\n",
       "      <td>0.333333</td>\n",
       "      <td>1.000000</td>\n",
       "    </tr>\n",
       "  </tbody>\n",
       "</table>\n",
       "</div>"
      ],
      "text/plain": [
       "         area  bedrooms  bathrooms   stories   parking\n",
       "22   0.432609       0.4   0.000000  0.000000  0.333333\n",
       "41   0.314954       0.4   0.333333  1.000000  0.000000\n",
       "91   0.342105       0.2   0.000000  0.000000  0.666667\n",
       "118  0.319131       0.4   0.000000  0.000000  0.000000\n",
       "472  0.124896       0.6   0.000000  0.333333  1.000000"
      ]
     },
     "execution_count": 17,
     "metadata": {},
     "output_type": "execute_result"
    }
   ],
   "source": [
    "X_Newtrain.head()"
   ]
  },
  {
   "cell_type": "code",
   "execution_count": 18,
   "id": "90a476ae-376c-40a7-8959-aeb6a7a0221a",
   "metadata": {},
   "outputs": [
    {
     "data": {
      "text/plain": [
       "22     0.596970\n",
       "41     0.527273\n",
       "91     0.404242\n",
       "118    0.363636\n",
       "472    0.109091\n",
       "Name: price, dtype: float64"
      ]
     },
     "execution_count": 18,
     "metadata": {},
     "output_type": "execute_result"
    }
   ],
   "source": [
    "y_Newtrain.head()"
   ]
  },
  {
   "cell_type": "code",
   "execution_count": 19,
   "id": "65d1ffb6-dc11-496a-b11f-5d128f2bcc3a",
   "metadata": {},
   "outputs": [
    {
     "name": "stdout",
     "output_type": "stream",
     "text": [
      "y =  [0.5969697  0.52727273 0.40424242 0.36363636 0.10909091 0.18181818\n",
      " 0.90909091 0.23636364 0.29090909 0.22242424]\n"
     ]
    }
   ],
   "source": [
    "y = y_Newtrain.values\n",
    "print('y = ', y[: 10])"
   ]
  },
  {
   "cell_type": "code",
   "execution_count": 20,
   "id": "9cb8f8ae-83e3-4349-8b43-d6bbce8f6ce0",
   "metadata": {},
   "outputs": [
    {
     "name": "stdout",
     "output_type": "stream",
     "text": [
      "X1 =  [0.4326093  0.31495405 0.34210526 0.31913116 0.12489557 0.14021164\n",
      " 0.49596213 0.446533   0.08103592 0.15288221]\n",
      "X2 =  [0.4 0.4 0.2 0.4 0.6 0.2 0.6 0.4 0.4 0.2]\n",
      "X3 =  [0.         0.33333333 0.         0.         0.         0.\n",
      " 1.         0.         0.33333333 0.        ]\n",
      "X4 =  [0.         1.         0.         0.         0.33333333 0.\n",
      " 1.         0.         0.33333333 0.        ]\n",
      "X5 =  [0.33333333 0.         0.66666667 0.         1.         0.\n",
      " 1.         0.         0.         0.        ]\n"
     ]
    }
   ],
   "source": [
    "# preparing the training set\n",
    "\n",
    "X1 = df_Newtrain.values[:, 0]     # getting input value from first column and putting in Variable-1 (X1)   \n",
    "X2 = df_Newtrain.values[:, 1]     # getting input value from first column and putting in Variable-2 (X2)          \n",
    "X3 = df_Newtrain.values[:, 2]     # getting input value from first column and putting in Variable-3 (X3)           \n",
    "X4 = df_Newtrain.values[:, 3]     # getting input value from first column and putting in Variable-4 (X4)          \n",
    "X5 = df_Newtrain.values[:, 4]     # getting input value from first column and putting in Variable-5 (X5)\n",
    "\n",
    "# print first 10 values from each variable\n",
    "\n",
    "print('X1 = ', X1[: 10]) \n",
    "print('X2 = ', X2[: 10])\n",
    "print('X3 = ', X3[: 10])\n",
    "print('X4 = ', X4[: 10])\n",
    "print('X5 = ', X5[: 10])"
   ]
  },
  {
   "cell_type": "code",
   "execution_count": 21,
   "id": "0b0b9861-e83b-4265-bf6c-77e1bee1b194",
   "metadata": {},
   "outputs": [
    {
     "data": {
      "text/plain": [
       "array([[1.],\n",
       "       [1.],\n",
       "       [1.],\n",
       "       [1.],\n",
       "       [1.]])"
      ]
     },
     "execution_count": 21,
     "metadata": {},
     "output_type": "execute_result"
    }
   ],
   "source": [
    "m = len(X_Newtrain)         # size of training set\n",
    "X_0 = np.ones((m, 1))       # Creating a single column matrix (X_0) of training set size, contains all ones \n",
    "X_0 [: 5]"
   ]
  },
  {
   "cell_type": "code",
   "execution_count": 23,
   "id": "9a9c90fd-407e-45ba-a125-922950175ceb",
   "metadata": {},
   "outputs": [
    {
     "name": "stdout",
     "output_type": "stream",
     "text": [
      "X_1 =  [[0.4326093 ]\n",
      " [0.31495405]\n",
      " [0.34210526]\n",
      " [0.31913116]\n",
      " [0.12489557]]\n",
      "X_2 =  [[0.4]\n",
      " [0.4]\n",
      " [0.2]\n",
      " [0.4]\n",
      " [0.6]]\n",
      "X_3 =  [[0.        ]\n",
      " [0.33333333]\n",
      " [0.        ]\n",
      " [0.        ]\n",
      " [0.        ]]\n",
      "X_4 =  [[0.        ]\n",
      " [1.        ]\n",
      " [0.        ]\n",
      " [0.        ]\n",
      " [0.33333333]]\n",
      "X_5 =  [[0.33333333]\n",
      " [0.        ]\n",
      " [0.66666667]\n",
      " [0.        ]\n",
      " [1.        ]]\n"
     ]
    }
   ],
   "source": [
    "# Converting 1D arrays of X1, X2, X3, X4 and X5 to 2D arrays\n",
    "X_1 = X1.reshape(m, 1)\n",
    "X_2 = X2.reshape(m, 1)\n",
    "X_3 = X3.reshape(m, 1)\n",
    "X_4 = X4.reshape(m, 1)\n",
    "X_5 = X5.reshape(m, 1)\n",
    "\n",
    "# print first 5 values from each 2D array\n",
    "print('X_1 = ', X_1[: 5])\n",
    "print('X_2 = ', X_2[: 5])\n",
    "print('X_3 = ', X_3[: 5])\n",
    "print('X_4 = ', X_4[: 5])\n",
    "print('X_5 = ', X_5[: 5])"
   ]
  },
  {
   "cell_type": "code",
   "execution_count": 24,
   "id": "04d99a4e-5305-462b-b3df-6e91408bee11",
   "metadata": {},
   "outputs": [
    {
     "data": {
      "text/plain": [
       "array([[1.        , 0.4326093 , 0.4       , 0.        , 0.        ,\n",
       "        0.33333333],\n",
       "       [1.        , 0.31495405, 0.4       , 0.33333333, 1.        ,\n",
       "        0.        ],\n",
       "       [1.        , 0.34210526, 0.2       , 0.        , 0.        ,\n",
       "        0.66666667],\n",
       "       [1.        , 0.31913116, 0.4       , 0.        , 0.        ,\n",
       "        0.        ],\n",
       "       [1.        , 0.12489557, 0.6       , 0.        , 0.33333333,\n",
       "        1.        ]])"
      ]
     },
     "execution_count": 24,
     "metadata": {},
     "output_type": "execute_result"
    }
   ],
   "source": [
    "# Stacking X_0, X_1, X_2, X_3, X-4 and X_5 horizotally\n",
    "# This is the final X Matrix for training\n",
    "\n",
    "X = np.hstack((X_0, X_1, X_2, X_3, X_4, X_5))\n",
    "X [: 5]"
   ]
  },
  {
   "cell_type": "code",
   "execution_count": 25,
   "id": "cf4ebf7f-a239-4a8b-85cf-a82f299385ca",
   "metadata": {},
   "outputs": [
    {
     "data": {
      "text/plain": [
       "array([0., 0., 0., 0., 0., 0.])"
      ]
     },
     "execution_count": 25,
     "metadata": {},
     "output_type": "execute_result"
    }
   ],
   "source": [
    "theta = np.zeros(6)\n",
    "theta"
   ]
  },
  {
   "cell_type": "code",
   "execution_count": 26,
   "id": "09ee7a84-da91-4dff-9103-873690e8ddcb",
   "metadata": {},
   "outputs": [],
   "source": [
    "y_Newtest = df_Newtest.pop('price')\n",
    "X_Newtest = df_Newtest"
   ]
  },
  {
   "cell_type": "code",
   "execution_count": 27,
   "id": "ebf8bc12-d510-4f93-abfe-b111713449f8",
   "metadata": {},
   "outputs": [
    {
     "data": {
      "text/html": [
       "<div>\n",
       "<style scoped>\n",
       "    .dataframe tbody tr th:only-of-type {\n",
       "        vertical-align: middle;\n",
       "    }\n",
       "\n",
       "    .dataframe tbody tr th {\n",
       "        vertical-align: top;\n",
       "    }\n",
       "\n",
       "    .dataframe thead th {\n",
       "        text-align: right;\n",
       "    }\n",
       "</style>\n",
       "<table border=\"1\" class=\"dataframe\">\n",
       "  <thead>\n",
       "    <tr style=\"text-align: right;\">\n",
       "      <th></th>\n",
       "      <th>area</th>\n",
       "      <th>bedrooms</th>\n",
       "      <th>bathrooms</th>\n",
       "      <th>stories</th>\n",
       "      <th>parking</th>\n",
       "    </tr>\n",
       "  </thead>\n",
       "  <tbody>\n",
       "    <tr>\n",
       "      <th>265</th>\n",
       "      <td>0.088172</td>\n",
       "      <td>0.333333</td>\n",
       "      <td>0.0</td>\n",
       "      <td>0.333333</td>\n",
       "      <td>0.000000</td>\n",
       "    </tr>\n",
       "    <tr>\n",
       "      <th>54</th>\n",
       "      <td>0.311828</td>\n",
       "      <td>0.333333</td>\n",
       "      <td>0.5</td>\n",
       "      <td>0.333333</td>\n",
       "      <td>0.333333</td>\n",
       "    </tr>\n",
       "    <tr>\n",
       "      <th>171</th>\n",
       "      <td>0.617849</td>\n",
       "      <td>0.333333</td>\n",
       "      <td>0.0</td>\n",
       "      <td>0.000000</td>\n",
       "      <td>0.333333</td>\n",
       "    </tr>\n",
       "    <tr>\n",
       "      <th>244</th>\n",
       "      <td>0.263082</td>\n",
       "      <td>0.333333</td>\n",
       "      <td>0.0</td>\n",
       "      <td>0.333333</td>\n",
       "      <td>0.000000</td>\n",
       "    </tr>\n",
       "    <tr>\n",
       "      <th>268</th>\n",
       "      <td>0.236559</td>\n",
       "      <td>0.666667</td>\n",
       "      <td>0.0</td>\n",
       "      <td>0.333333</td>\n",
       "      <td>0.000000</td>\n",
       "    </tr>\n",
       "  </tbody>\n",
       "</table>\n",
       "</div>"
      ],
      "text/plain": [
       "         area  bedrooms  bathrooms   stories   parking\n",
       "265  0.088172  0.333333        0.0  0.333333  0.000000\n",
       "54   0.311828  0.333333        0.5  0.333333  0.333333\n",
       "171  0.617849  0.333333        0.0  0.000000  0.333333\n",
       "244  0.263082  0.333333        0.0  0.333333  0.000000\n",
       "268  0.236559  0.666667        0.0  0.333333  0.000000"
      ]
     },
     "execution_count": 27,
     "metadata": {},
     "output_type": "execute_result"
    }
   ],
   "source": [
    "X_Newtest.head()"
   ]
  },
  {
   "cell_type": "code",
   "execution_count": 28,
   "id": "128838da-15e7-4c9c-8ce0-d6e3f3cbe67a",
   "metadata": {},
   "outputs": [
    {
     "data": {
      "text/plain": [
       "265    0.248485\n",
       "54     0.531987\n",
       "171    0.329966\n",
       "244    0.262626\n",
       "268    0.246465\n",
       "Name: price, dtype: float64"
      ]
     },
     "execution_count": 28,
     "metadata": {},
     "output_type": "execute_result"
    }
   ],
   "source": [
    "y_Newtest.head()"
   ]
  },
  {
   "cell_type": "code",
   "execution_count": 29,
   "id": "d6fb8819-d830-4c97-b19a-a114e38202e4",
   "metadata": {},
   "outputs": [
    {
     "name": "stdout",
     "output_type": "stream",
     "text": [
      "y_test =  [0.24848485 0.53198653 0.32996633 0.26262626 0.24646465 0.27609428\n",
      " 0.64646465 0.32996633 0.08754209 0.3973064 ]\n"
     ]
    }
   ],
   "source": [
    "y_test = y_Newtest.values\n",
    "print('y_test = ', y_test[: 10])"
   ]
  },
  {
   "cell_type": "code",
   "execution_count": 30,
   "id": "7b5a788d-a572-4b9b-b209-5279e7b33b99",
   "metadata": {},
   "outputs": [
    {
     "name": "stdout",
     "output_type": "stream",
     "text": [
      "X1_test =  [0.08817204 0.31182796 0.61784946 0.26308244 0.23655914 0.19139785\n",
      " 0.35053763 0.35053763 0.36917563 0.35053763]\n",
      "X2_test =  [0.33333333 0.33333333 0.33333333 0.33333333 0.66666667 0.33333333\n",
      " 0.66666667 0.66666667 0.         0.33333333]\n",
      "X3_test =  [0.  0.5 0.  0.  0.  0.  0.5 0.5 0.  0. ]\n",
      "X4_test =  [0.33333333 0.33333333 0.         0.33333333 0.33333333 0.\n",
      " 0.33333333 0.33333333 0.         0.        ]\n",
      "X5_test =  [0.         0.33333333 0.33333333 0.         0.         0.\n",
      " 0.66666667 0.         0.         0.66666667]\n"
     ]
    }
   ],
   "source": [
    "# preparing the testing/validarion set\n",
    "X1_test = df_Newtest.values[:, 0]     # getting input value from first column and putting in Variable-1 (X1_test)            \n",
    "X2_test = df_Newtest.values[:, 1]     # getting input value from first column and putting in Variable-2 (X2_test)            \n",
    "X3_test = df_Newtest.values[:, 2]     # getting input value from first column and putting in Variable-3 (X3_test)           \n",
    "X4_test = df_Newtest.values[:, 3]     # getting input value from first column and putting in Variable-4 (X4_test)           \n",
    "X5_test = df_Newtest.values[:, 4]     # getting input value from first column and putting in Variable-5 (X5_test)\n",
    "\n",
    "# print first 10 values from each variable\n",
    "\n",
    "print('X1_test = ', X1_test[: 10]) \n",
    "print('X2_test = ', X2_test[: 10])\n",
    "print('X3_test = ', X3_test[: 10])\n",
    "print('X4_test = ', X4_test[: 10])\n",
    "print('X5_test = ', X5_test[: 10])"
   ]
  },
  {
   "cell_type": "code",
   "execution_count": 31,
   "id": "b62e1f73-a718-4518-a35e-2cfb894fb3f4",
   "metadata": {},
   "outputs": [
    {
     "data": {
      "text/plain": [
       "array([[1.],\n",
       "       [1.],\n",
       "       [1.],\n",
       "       [1.],\n",
       "       [1.]])"
      ]
     },
     "execution_count": 31,
     "metadata": {},
     "output_type": "execute_result"
    }
   ],
   "source": [
    "m_test = len(X_Newtest)             # size of validation set\n",
    "X_0_test = np.ones((m_test, 1))     # Creating a single column matrix (X_0_test) of validation set size, contains all ones\n",
    "X_0_test [: 5]"
   ]
  },
  {
   "cell_type": "code",
   "execution_count": 32,
   "id": "845feda8-725e-4f60-bb01-06a5feb24484",
   "metadata": {},
   "outputs": [
    {
     "name": "stdout",
     "output_type": "stream",
     "text": [
      "X_1_test =  [[0.08817204]\n",
      " [0.31182796]\n",
      " [0.61784946]\n",
      " [0.26308244]\n",
      " [0.23655914]]\n",
      "X_2_test =  [[0.33333333]\n",
      " [0.33333333]\n",
      " [0.33333333]\n",
      " [0.33333333]\n",
      " [0.66666667]]\n",
      "X_3_test =  [[0. ]\n",
      " [0.5]\n",
      " [0. ]\n",
      " [0. ]\n",
      " [0. ]]\n",
      "X_4_test =  [[0.33333333]\n",
      " [0.33333333]\n",
      " [0.        ]\n",
      " [0.33333333]\n",
      " [0.33333333]]\n",
      "X_5_test =  [[0.        ]\n",
      " [0.33333333]\n",
      " [0.33333333]\n",
      " [0.        ]\n",
      " [0.        ]]\n"
     ]
    }
   ],
   "source": [
    "# Converting 1D arrays of validation X's to 2D arrays\n",
    "\n",
    "X_1_test = X1_test.reshape(m_test, 1)\n",
    "X_2_test = X2_test.reshape(m_test, 1)\n",
    "X_3_test = X3_test.reshape(m_test, 1)\n",
    "X_4_test = X4_test.reshape(m_test, 1)\n",
    "X_5_test = X5_test.reshape(m_test, 1)\n",
    "\n",
    "# print first 5 values from each 2D array\n",
    "print('X_1_test = ', X_1_test[: 5])\n",
    "print('X_2_test = ', X_2_test[: 5])\n",
    "print('X_3_test = ', X_3_test[: 5])\n",
    "print('X_4_test = ', X_4_test[: 5])\n",
    "print('X_5_test = ', X_5_test[: 5])"
   ]
  },
  {
   "cell_type": "code",
   "execution_count": 33,
   "id": "29984c79-e225-4d71-bda2-3ee06e01c670",
   "metadata": {},
   "outputs": [
    {
     "data": {
      "text/plain": [
       "array([[1.        , 0.08817204, 0.33333333, 0.        , 0.33333333,\n",
       "        0.        ],\n",
       "       [1.        , 0.31182796, 0.33333333, 0.5       , 0.33333333,\n",
       "        0.33333333],\n",
       "       [1.        , 0.61784946, 0.33333333, 0.        , 0.        ,\n",
       "        0.33333333],\n",
       "       [1.        , 0.26308244, 0.33333333, 0.        , 0.33333333,\n",
       "        0.        ],\n",
       "       [1.        , 0.23655914, 0.66666667, 0.        , 0.33333333,\n",
       "        0.        ]])"
      ]
     },
     "execution_count": 33,
     "metadata": {},
     "output_type": "execute_result"
    }
   ],
   "source": [
    "# Stacking X_0_test through X_5_test horizotally\n",
    "# This is the final X Matrix for validation\n",
    "\n",
    "X_test = np.hstack((X_0_test, X_1_test, X_2_test, X_3_test, X_4_test, X_5_test))\n",
    "X_test [: 5]"
   ]
  },
  {
   "cell_type": "code",
   "execution_count": 34,
   "id": "e993a31f-70fa-4d16-ab5d-85247f055d82",
   "metadata": {},
   "outputs": [],
   "source": [
    "# defining function for computing the cost for training set\n",
    "# parameter penalty is introduced in loss function\n",
    "# theta zero has not been penalized\n",
    "\n",
    "def compute_cost(X, y, theta, m, Lambda):\n",
    "    predictions = X.dot(theta)\n",
    "    errors = np.subtract(predictions, y)\n",
    "    sqrErrors = np.square(errors)\n",
    "    sqrTheta = np.square(theta)\n",
    "    sqrTheta_new = np.delete(sqrTheta, 0)                                  # square of theta zero is excluded\n",
    "    J = 1 / (2 * m) * (np.sum(sqrErrors) + Lambda * np.sum(sqrTheta_new)) \n",
    "    return J"
   ]
  },
  {
   "cell_type": "code",
   "execution_count": 35,
   "id": "c0b272e7-e76d-4e23-b9e2-09f6544da4e5",
   "metadata": {},
   "outputs": [],
   "source": [
    "# defining function for computing the cost for validation set\n",
    "# parameters are not penalized for validation set\n",
    "\n",
    "def compute_cost_test(X_test, y_test, theta, m_test):\n",
    "    predictions = X_test.dot(theta)\n",
    "    errors = np.subtract(predictions, y_test)\n",
    "    sqrErrors = np.square(errors)\n",
    "    J = 1 / (2 * m_test) * np.sum(sqrErrors)\n",
    "    return J"
   ]
  },
  {
   "cell_type": "code",
   "execution_count": 54,
   "id": "46905e19-6b78-4ad7-b30f-643d3656c0e7",
   "metadata": {},
   "outputs": [],
   "source": [
    "# defining function for gradient descent algorithm\n",
    "# gradient descent algorithm is applied on the training set\n",
    "# gradient descent is modified for parameter penalty\n",
    "# for each iteration loss for both training and validation set is calculated\n",
    "\n",
    "def gradient_descent(X, y, theta, alpha, iterations, Lambda):\n",
    "    cost_history = np.zeros(iterations)\n",
    "    cost_test = np.zeros(iterations)\n",
    "    for i in range(iterations):\n",
    "        predictions = X.dot(theta)\n",
    "        errors = np.subtract(predictions, y)\n",
    "        sum_delta = (alpha / m) * X.transpose().dot(errors);\n",
    "        theta = np.array(theta)*(parameter_penalty) - sum_delta;                      # theta is penalized\n",
    "        cost_history[i] = compute_cost(X, y, theta, m, Lambda)                        # loss for training set\n",
    "        cost_test[i] = compute_cost_test(X_test, y_test, theta, m_test)               # loss for validation set\n",
    "    \n",
    "    return theta, cost_history, cost_test"
   ]
  },
  {
   "cell_type": "code",
   "execution_count": 55,
   "id": "bc103a20-ed71-4602-8c56-93d15e574ebb",
   "metadata": {},
   "outputs": [],
   "source": [
    "# to penalize theta values in gradient descent algorithm\n",
    "# parameter_penalty has been introduced\n",
    "# to exclude theta zero from penalizing, the first element of parameter_penalty is set to 1\n",
    "\n",
    "theta = [0., 0., 0., 0., 0., 0.]\n",
    "iterations = 500;\n",
    "alpha = 0.1\n",
    "Lambda = 0.1\n",
    "p = (1 - (alpha * Lambda) / m)\n",
    "parameter_penalty = np.full(shape=5, fill_value=p)\n",
    "parameter_penalty = np.insert(parameter_penalty, 0, 1)"
   ]
  },
  {
   "cell_type": "code",
   "execution_count": 56,
   "id": "3e21ece0-7bb4-4706-a8f4-79fbdcf03f35",
   "metadata": {},
   "outputs": [
    {
     "name": "stdout",
     "output_type": "stream",
     "text": [
      "The initial cost for given values of theta_0 to theta_5 =  0.04780662856311236\n"
     ]
    }
   ],
   "source": [
    "# computing the cost for initial theta values\n",
    "\n",
    "cost = compute_cost(X, y, theta, m, Lambda)\n",
    "print('The initial cost for given values of theta_0 to theta_5 = ', cost)"
   ]
  },
  {
   "cell_type": "code",
   "execution_count": 57,
   "id": "f3b6b6e4-3821-4aff-b36d-9d2c62be7c7d",
   "metadata": {},
   "outputs": [
    {
     "name": "stdout",
     "output_type": "stream",
     "text": [
      "Final value of theta= [0.07070996 0.28728171 0.08508715 0.25662796 0.14807888 0.11845229]\n",
      "cost_history = [0.03814986 0.03094353 0.02556333 0.02154405 0.01853902 0.01628991\n",
      " 0.01460423 0.01333851 0.01238588 0.01166666 0.01112149 0.01070615\n",
      " 0.01038767 0.01014147 0.00994926 0.00979738 0.00967567 0.00957655\n",
      " 0.00949437 0.00942492 0.00936506 0.00931245 0.00926533 0.00922242\n",
      " 0.00918273 0.00914554 0.00911031 0.00907663 0.00904421 0.0090128\n",
      " 0.00898224 0.00895241 0.0089232  0.00889455 0.00886639 0.00883868\n",
      " 0.00881139 0.00878449 0.00875797 0.0087318  0.00870597 0.00868048\n",
      " 0.0086553  0.00863044 0.00860589 0.00858164 0.00855769 0.00853402\n",
      " 0.00851064 0.00848753 0.00846471 0.00844215 0.00841986 0.00839784\n",
      " 0.00837607 0.00835456 0.0083333  0.00831229 0.00829152 0.008271\n",
      " 0.00825071 0.00823066 0.00821083 0.00819124 0.00817186 0.00815271\n",
      " 0.00813378 0.00811506 0.00809656 0.00807826 0.00806017 0.00804228\n",
      " 0.00802459 0.0080071  0.00798981 0.0079727  0.00795579 0.00793906\n",
      " 0.00792252 0.00790615 0.00788997 0.00787396 0.00785813 0.00784247\n",
      " 0.00782698 0.00781165 0.00779649 0.0077815  0.00776666 0.00775198\n",
      " 0.00773746 0.00772309 0.00770887 0.0076948  0.00768088 0.0076671\n",
      " 0.00765347 0.00763998 0.00762663 0.00761342 0.00760034 0.0075874\n",
      " 0.00757459 0.00756191 0.00754936 0.00753693 0.00752464 0.00751246\n",
      " 0.00750041 0.00748848 0.00747666 0.00746497 0.00745339 0.00744192\n",
      " 0.00743057 0.00741933 0.0074082  0.00739718 0.00738626 0.00737545\n",
      " 0.00736475 0.00735414 0.00734364 0.00733324 0.00732294 0.00731273\n",
      " 0.00730262 0.00729261 0.00728269 0.00727287 0.00726313 0.00725349\n",
      " 0.00724393 0.00723447 0.00722509 0.00721579 0.00720659 0.00719746\n",
      " 0.00718842 0.00717946 0.00717058 0.00716178 0.00715306 0.00714441\n",
      " 0.00713585 0.00712736 0.00711894 0.0071106  0.00710233 0.00709413\n",
      " 0.00708601 0.00707795 0.00706997 0.00706205 0.0070542  0.00704642\n",
      " 0.00703871 0.00703106 0.00702347 0.00701595 0.0070085  0.0070011\n",
      " 0.00699377 0.00698649 0.00697928 0.00697213 0.00696504 0.006958\n",
      " 0.00695102 0.0069441  0.00693723 0.00693042 0.00692367 0.00691697\n",
      " 0.00691032 0.00690373 0.00689719 0.0068907  0.00688426 0.00687787\n",
      " 0.00687153 0.00686524 0.006859   0.00685281 0.00684667 0.00684057\n",
      " 0.00683452 0.00682852 0.00682256 0.00681665 0.00681079 0.00680496\n",
      " 0.00679918 0.00679345 0.00678775 0.0067821  0.0067765  0.00677093\n",
      " 0.0067654  0.00675992 0.00675447 0.00674907 0.0067437  0.00673837\n",
      " 0.00673308 0.00672783 0.00672262 0.00671744 0.0067123  0.0067072\n",
      " 0.00670214 0.00669711 0.00669211 0.00668715 0.00668222 0.00667733\n",
      " 0.00667248 0.00666765 0.00666286 0.0066581  0.00665338 0.00664869\n",
      " 0.00664403 0.0066394  0.0066348  0.00663023 0.0066257  0.00662119\n",
      " 0.00661672 0.00661227 0.00660786 0.00660347 0.00659911 0.00659479\n",
      " 0.00659049 0.00658621 0.00658197 0.00657775 0.00657356 0.0065694\n",
      " 0.00656527 0.00656116 0.00655708 0.00655302 0.00654899 0.00654498\n",
      " 0.00654101 0.00653705 0.00653312 0.00652922 0.00652534 0.00652148\n",
      " 0.00651765 0.00651384 0.00651006 0.0065063  0.00650256 0.00649884\n",
      " 0.00649515 0.00649148 0.00648784 0.00648421 0.00648061 0.00647703\n",
      " 0.00647347 0.00646993 0.00646641 0.00646292 0.00645944 0.00645599\n",
      " 0.00645256 0.00644914 0.00644575 0.00644238 0.00643903 0.00643569\n",
      " 0.00643238 0.00642908 0.00642581 0.00642255 0.00641932 0.0064161\n",
      " 0.0064129  0.00640972 0.00640655 0.00640341 0.00640028 0.00639717\n",
      " 0.00639408 0.00639101 0.00638795 0.00638491 0.00638189 0.00637888\n",
      " 0.00637589 0.00637292 0.00636997 0.00636703 0.00636411 0.0063612\n",
      " 0.00635831 0.00635544 0.00635258 0.00634974 0.00634691 0.0063441\n",
      " 0.00634131 0.00633853 0.00633576 0.00633301 0.00633028 0.00632756\n",
      " 0.00632485 0.00632216 0.00631948 0.00631682 0.00631417 0.00631154\n",
      " 0.00630892 0.00630631 0.00630372 0.00630115 0.00629858 0.00629603\n",
      " 0.00629349 0.00629097 0.00628846 0.00628596 0.00628348 0.00628101\n",
      " 0.00627855 0.00627611 0.00627368 0.00627126 0.00626885 0.00626645\n",
      " 0.00626407 0.0062617  0.00625935 0.006257   0.00625467 0.00625235\n",
      " 0.00625004 0.00624774 0.00624545 0.00624318 0.00624092 0.00623867\n",
      " 0.00623643 0.0062342  0.00623198 0.00622978 0.00622759 0.0062254\n",
      " 0.00622323 0.00622107 0.00621892 0.00621678 0.00621465 0.00621253\n",
      " 0.00621043 0.00620833 0.00620624 0.00620417 0.0062021  0.00620005\n",
      " 0.006198   0.00619597 0.00619394 0.00619193 0.00618992 0.00618793\n",
      " 0.00618594 0.00618397 0.006182   0.00618005 0.0061781  0.00617616\n",
      " 0.00617424 0.00617232 0.00617041 0.00616851 0.00616662 0.00616474\n",
      " 0.00616287 0.006161   0.00615915 0.00615731 0.00615547 0.00615364\n",
      " 0.00615183 0.00615002 0.00614822 0.00614643 0.00614464 0.00614287\n",
      " 0.0061411  0.00613935 0.0061376  0.00613586 0.00613412 0.0061324\n",
      " 0.00613068 0.00612898 0.00612728 0.00612558 0.0061239  0.00612223\n",
      " 0.00612056 0.0061189  0.00611725 0.0061156  0.00611397 0.00611234\n",
      " 0.00611072 0.00610911 0.0061075  0.0061059  0.00610431 0.00610273\n",
      " 0.00610116 0.00609959 0.00609803 0.00609647 0.00609493 0.00609339\n",
      " 0.00609186 0.00609033 0.00608882 0.00608731 0.0060858  0.00608431\n",
      " 0.00608282 0.00608133 0.00607986 0.00607839 0.00607693 0.00607547\n",
      " 0.00607403 0.00607259 0.00607115 0.00606972 0.0060683  0.00606689\n",
      " 0.00606548 0.00606408 0.00606268 0.00606129 0.00605991 0.00605853\n",
      " 0.00605716 0.0060558  0.00605444 0.00605309 0.00605175 0.00605041\n",
      " 0.00604907 0.00604775 0.00604643 0.00604511 0.0060438  0.0060425\n",
      " 0.00604121 0.00603992 0.00603863 0.00603735 0.00603608 0.00603481\n",
      " 0.00603355 0.0060323  0.00603105 0.0060298  0.00602856 0.00602733\n",
      " 0.0060261  0.00602488 0.00602366 0.00602245 0.00602125 0.00602005\n",
      " 0.00601885 0.00601766 0.00601648 0.0060153  0.00601413 0.00601296\n",
      " 0.0060118  0.00601064 0.00600949 0.00600834 0.0060072  0.00600607\n",
      " 0.00600493 0.00600381 0.00600269 0.00600157 0.00600046 0.00599935\n",
      " 0.00599825 0.00599716]\n",
      "cost_test = [0.04333148 0.03572215 0.02996455 0.02559711 0.02227446 0.01973806\n",
      " 0.01779424 0.01629775 0.01513962 0.01423796 0.01353119 0.01297292\n",
      " 0.01252814 0.01217042 0.01187972 0.01164084 0.01144222 0.01127503\n",
      " 0.01113253 0.01100951 0.01090199 0.01080687 0.01072175 0.01064474\n",
      " 0.01057438 0.01050949 0.01044917 0.01039266 0.01033938 0.01028885\n",
      " 0.01024069 0.01019457 0.01015025 0.0101075  0.01006615 0.01002605\n",
      " 0.00998708 0.00994912 0.00991209 0.00987591 0.00984053 0.00980587\n",
      " 0.0097719  0.00973857 0.00970585 0.0096737  0.0096421  0.00961102\n",
      " 0.00958044 0.00955034 0.0095207  0.00949151 0.00946275 0.00943441\n",
      " 0.00940649 0.00937896 0.00935181 0.00932505 0.00929866 0.00927263\n",
      " 0.00924696 0.00922163 0.00919665 0.009172   0.00914768 0.00912369\n",
      " 0.00910002 0.00907666 0.00905361 0.00903086 0.00900841 0.00898626\n",
      " 0.00896439 0.00894282 0.00892152 0.0089005  0.00887976 0.00885929\n",
      " 0.00883908 0.00881913 0.00879945 0.00878002 0.00876084 0.0087419\n",
      " 0.00872322 0.00870477 0.00868657 0.00866859 0.00865085 0.00863334\n",
      " 0.00861605 0.00859899 0.00858215 0.00856552 0.0085491  0.0085329\n",
      " 0.0085169  0.00850111 0.00848553 0.00847014 0.00845495 0.00843995\n",
      " 0.00842515 0.00841053 0.00839611 0.00838186 0.0083678  0.00835392\n",
      " 0.00834022 0.00832669 0.00831333 0.00830015 0.00828713 0.00827428\n",
      " 0.00826159 0.00824907 0.0082367  0.0082245  0.00821244 0.00820055\n",
      " 0.0081888  0.0081772  0.00816575 0.00815445 0.00814329 0.00813227\n",
      " 0.00812139 0.00811065 0.00810005 0.00808958 0.00807925 0.00806904\n",
      " 0.00805897 0.00804902 0.00803921 0.00802951 0.00801994 0.00801049\n",
      " 0.00800117 0.00799196 0.00798286 0.00797389 0.00796502 0.00795628\n",
      " 0.00794764 0.00793911 0.00793069 0.00792238 0.00791417 0.00790607\n",
      " 0.00789807 0.00789018 0.00788238 0.00787468 0.00786709 0.00785959\n",
      " 0.00785218 0.00784487 0.00783765 0.00783053 0.0078235  0.00781655\n",
      " 0.0078097  0.00780293 0.00779625 0.00778966 0.00778315 0.00777673\n",
      " 0.00777038 0.00776412 0.00775794 0.00775184 0.00774582 0.00773987\n",
      " 0.00773401 0.00772821 0.0077225  0.00771685 0.00771128 0.00770579\n",
      " 0.00770036 0.007695   0.00768972 0.0076845  0.00767935 0.00767427\n",
      " 0.00766925 0.0076643  0.00765942 0.0076546  0.00764984 0.00764514\n",
      " 0.00764051 0.00763594 0.00763143 0.00762697 0.00762258 0.00761824\n",
      " 0.00761397 0.00760975 0.00760558 0.00760147 0.00759742 0.00759342\n",
      " 0.00758947 0.00758558 0.00758174 0.00757795 0.00757421 0.00757052\n",
      " 0.00756689 0.0075633  0.00755976 0.00755627 0.00755282 0.00754943\n",
      " 0.00754608 0.00754277 0.00753952 0.0075363  0.00753314 0.00753001\n",
      " 0.00752693 0.00752389 0.0075209  0.00751795 0.00751503 0.00751216\n",
      " 0.00750933 0.00750654 0.00750379 0.00750108 0.00749841 0.00749578\n",
      " 0.00749318 0.00749063 0.0074881  0.00748562 0.00748317 0.00748076\n",
      " 0.00747838 0.00747604 0.00747374 0.00747146 0.00746923 0.00746702\n",
      " 0.00746485 0.00746271 0.0074606  0.00745853 0.00745649 0.00745447\n",
      " 0.00745249 0.00745054 0.00744863 0.00744674 0.00744488 0.00744305\n",
      " 0.00744125 0.00743947 0.00743773 0.00743601 0.00743432 0.00743266\n",
      " 0.00743103 0.00742942 0.00742784 0.00742629 0.00742476 0.00742326\n",
      " 0.00742178 0.00742033 0.00741891 0.00741751 0.00741613 0.00741478\n",
      " 0.00741345 0.00741214 0.00741086 0.0074096  0.00740836 0.00740715\n",
      " 0.00740596 0.00740479 0.00740364 0.00740252 0.00740141 0.00740033\n",
      " 0.00739927 0.00739823 0.00739721 0.00739621 0.00739523 0.00739426\n",
      " 0.00739332 0.0073924  0.0073915  0.00739062 0.00738975 0.00738891\n",
      " 0.00738808 0.00738727 0.00738648 0.00738571 0.00738496 0.00738422\n",
      " 0.0073835  0.0073828  0.00738211 0.00738144 0.00738079 0.00738015\n",
      " 0.00737953 0.00737893 0.00737834 0.00737777 0.00737721 0.00737667\n",
      " 0.00737615 0.00737564 0.00737514 0.00737466 0.0073742  0.00737374\n",
      " 0.00737331 0.00737288 0.00737247 0.00737208 0.0073717  0.00737133\n",
      " 0.00737098 0.00737064 0.00737031 0.00737    0.00736969 0.00736941\n",
      " 0.00736913 0.00736887 0.00736861 0.00736838 0.00736815 0.00736794\n",
      " 0.00736773 0.00736754 0.00736736 0.0073672  0.00736704 0.00736689\n",
      " 0.00736676 0.00736664 0.00736653 0.00736643 0.00736634 0.00736626\n",
      " 0.00736619 0.00736613 0.00736608 0.00736604 0.00736602 0.007366\n",
      " 0.00736599 0.00736599 0.007366   0.00736602 0.00736605 0.00736609\n",
      " 0.00736614 0.0073662  0.00736627 0.00736635 0.00736643 0.00736653\n",
      " 0.00736663 0.00736674 0.00736686 0.00736699 0.00736713 0.00736727\n",
      " 0.00736743 0.00736759 0.00736776 0.00736794 0.00736812 0.00736832\n",
      " 0.00736852 0.00736873 0.00736894 0.00736917 0.0073694  0.00736963\n",
      " 0.00736988 0.00737013 0.00737039 0.00737066 0.00737093 0.00737122\n",
      " 0.0073715  0.0073718  0.0073721  0.00737241 0.00737272 0.00737304\n",
      " 0.00737337 0.0073737  0.00737404 0.00737439 0.00737474 0.0073751\n",
      " 0.00737546 0.00737583 0.00737621 0.00737659 0.00737698 0.00737737\n",
      " 0.00737777 0.00737817 0.00737858 0.007379   0.00737942 0.00737984\n",
      " 0.00738027 0.00738071 0.00738115 0.0073816  0.00738205 0.00738251\n",
      " 0.00738297 0.00738343 0.00738391 0.00738438 0.00738486 0.00738535\n",
      " 0.00738584 0.00738633 0.00738683 0.00738734 0.00738784 0.00738836\n",
      " 0.00738887 0.0073894  0.00738992 0.00739045 0.00739098 0.00739152\n",
      " 0.00739206 0.00739261 0.00739316 0.00739371 0.00739427 0.00739483\n",
      " 0.0073954  0.00739597 0.00739654 0.00739712 0.0073977  0.00739828\n",
      " 0.00739887 0.00739946 0.00740005 0.00740065 0.00740125 0.00740185\n",
      " 0.00740246 0.00740307 0.00740369 0.0074043  0.00740492 0.00740555\n",
      " 0.00740617 0.0074068  0.00740744 0.00740807 0.00740871 0.00740935\n",
      " 0.00741    0.00741064 0.00741129 0.00741195 0.0074126  0.00741326\n",
      " 0.00741392 0.00741458 0.00741525 0.00741592 0.00741659 0.00741726\n",
      " 0.00741794 0.00741862 0.0074193  0.00741998 0.00742067 0.00742135\n",
      " 0.00742204 0.00742274 0.00742343 0.00742413 0.00742483 0.00742553\n",
      " 0.00742623 0.00742693]\n"
     ]
    }
   ],
   "source": [
    "# Computing final theta values and cost/losses for training and validation set\n",
    "\n",
    "theta, cost_history, cost_test = gradient_descent(X, y, theta, alpha, iterations, Lambda)\n",
    "print('Final value of theta=', theta)\n",
    "print('cost_history =', cost_history)\n",
    "print('cost_test =', cost_test)"
   ]
  },
  {
   "cell_type": "code",
   "execution_count": 58,
   "id": "cc5345a5-8a12-4fbf-9ebf-344a002993ec",
   "metadata": {},
   "outputs": [
    {
     "data": {
      "text/plain": [
       "Text(0.5, 1.0, 'Convergence of Gradient Descent')"
      ]
     },
     "execution_count": 58,
     "metadata": {},
     "output_type": "execute_result"
    },
    {
     "data": {
      "image/png": "[encoded data removed]",
      "text/plain": [
       "<Figure size 1000x600 with 1 Axes>"
      ]
     },
     "metadata": {},
     "output_type": "display_data"
    }
   ],
   "source": [
    "plt.plot(range(1, iterations + 1),cost_history, color='green', label= 'Loss for Training Set')\n",
    "plt.plot(range(1, iterations + 1),cost_test, color='red', label= 'Loss for Validation Set')\n",
    "plt.rcParams[\"figure.figsize\"] = (10,6)\n",
    "plt.grid()\n",
    "plt.legend()\n",
    "plt.xlabel('Number of Iterations')\n",
    "plt.ylabel('Cost (J)')\n",
    "plt.title('Convergence of Gradient Descent')"
   ]
  }
 ],
 "metadata": {
  "kernelspec": {
   "display_name": "Python 3 (ipykernel)",
   "language": "python",
   "name": "python3"
  },
  "language_info": {
   "codemirror_mode": {
    "name": "ipython",
    "version": 3
   },
   "file_extension": ".py",
   "mimetype": "text/x-python",
   "name": "python",
   "nbconvert_exporter": "python",
   "pygments_lexer": "ipython3",
   "version": "3.10.4"
  }
 },
 "nbformat": 4,
 "nbformat_minor": 5
}
